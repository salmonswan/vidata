{
 "cells": [
  {
   "cell_type": "code",
   "execution_count": 23,
   "metadata": {},
   "outputs": [],
   "source": [
    "import pandas as pd\n",
    "import matplotlib.pyplot as plt\n",
    "import plotly.express as px\n",
    "import re\n",
    "import numpy as np\n",
    "pd.options.display.max_columns = None\n",
    "pd.set_option('display.max_rows', None)"
   ]
  },
  {
   "cell_type": "code",
   "execution_count": 24,
   "metadata": {},
   "outputs": [
    {
     "name": "stderr",
     "output_type": "stream",
     "text": [
      "C:\\Users\\Jude\\AppData\\Local\\Temp\\ipykernel_13168\\2432942182.py:2: DtypeWarning:\n",
      "\n",
      "Columns (9,11,13,17,19,21,23,25,29,31,39) have mixed types. Specify dtype option on import or set low_memory=False.\n",
      "\n"
     ]
    },
    {
     "data": {
      "text/html": [
       "<div>\n",
       "<style scoped>\n",
       "    .dataframe tbody tr th:only-of-type {\n",
       "        vertical-align: middle;\n",
       "    }\n",
       "\n",
       "    .dataframe tbody tr th {\n",
       "        vertical-align: top;\n",
       "    }\n",
       "\n",
       "    .dataframe thead th {\n",
       "        text-align: right;\n",
       "    }\n",
       "</style>\n",
       "<table border=\"1\" class=\"dataframe\">\n",
       "  <thead>\n",
       "    <tr style=\"text-align: right;\">\n",
       "      <th></th>\n",
       "      <th>Isolate Number</th>\n",
       "      <th>Data Source</th>\n",
       "      <th>Species</th>\n",
       "      <th>Family</th>\n",
       "      <th>Gender</th>\n",
       "      <th>Age Group</th>\n",
       "      <th>Country</th>\n",
       "      <th>Year</th>\n",
       "      <th>Source of Infection</th>\n",
       "      <th>Amoxicillin-clavulanate</th>\n",
       "      <th>Amoxicillin-clavulanate_I</th>\n",
       "      <th>Ampicillin</th>\n",
       "      <th>Ampicillin_I</th>\n",
       "      <th>Piperacillin tazobactam</th>\n",
       "      <th>Piperacillin tazobactam_I</th>\n",
       "      <th>Ceftriaxone</th>\n",
       "      <th>Ceftriaxone_I</th>\n",
       "      <th>Ceftazidime</th>\n",
       "      <th>Ceftazidime_I</th>\n",
       "      <th>Cefepime</th>\n",
       "      <th>Cefepime_I</th>\n",
       "      <th>Imipenem</th>\n",
       "      <th>Imipenem_I</th>\n",
       "      <th>Meropenem</th>\n",
       "      <th>Meropenem_I</th>\n",
       "      <th>Ciprofloxacin</th>\n",
       "      <th>Ciprofloxacin_I</th>\n",
       "      <th>Levofloxacin</th>\n",
       "      <th>Levofloxacin_I</th>\n",
       "      <th>Amikacin</th>\n",
       "      <th>Amikacin_I</th>\n",
       "      <th>Gentamicin</th>\n",
       "      <th>Gentamicin_I</th>\n",
       "      <th>Vancomycin</th>\n",
       "      <th>Vancomycin_I</th>\n",
       "      <th>Azithromycin</th>\n",
       "      <th>Azithromycin_I</th>\n",
       "      <th>Clarithromycin</th>\n",
       "      <th>Clarithromycin_I</th>\n",
       "      <th>Tigecycline</th>\n",
       "      <th>Tigecycline_I</th>\n",
       "      <th>Linezolid</th>\n",
       "      <th>Linezolid_I</th>\n",
       "      <th>Trimethoprim-sulfamethoxazole</th>\n",
       "      <th>Trimethoprim-sulfamethoxazole_I</th>\n",
       "    </tr>\n",
       "  </thead>\n",
       "  <tbody>\n",
       "    <tr>\n",
       "      <th>0</th>\n",
       "      <td>1773202</td>\n",
       "      <td>ATLAS</td>\n",
       "      <td>Pseudomonas aeruginosa</td>\n",
       "      <td>Pseudomonadaceae</td>\n",
       "      <td>Female</td>\n",
       "      <td>65 to 84 Years</td>\n",
       "      <td>Spain</td>\n",
       "      <td>2018</td>\n",
       "      <td>Sputum</td>\n",
       "      <td>&gt;16</td>\n",
       "      <td>NaN</td>\n",
       "      <td>&gt;16</td>\n",
       "      <td>NaN</td>\n",
       "      <td>1</td>\n",
       "      <td>NaN</td>\n",
       "      <td>NaN</td>\n",
       "      <td>NaN</td>\n",
       "      <td>2</td>\n",
       "      <td>NaN</td>\n",
       "      <td>4</td>\n",
       "      <td>NaN</td>\n",
       "      <td>1</td>\n",
       "      <td>NaN</td>\n",
       "      <td>&lt;=0.06</td>\n",
       "      <td>NaN</td>\n",
       "      <td>0.25</td>\n",
       "      <td>NaN</td>\n",
       "      <td>2</td>\n",
       "      <td>NaN</td>\n",
       "      <td>2</td>\n",
       "      <td>NaN</td>\n",
       "      <td>1</td>\n",
       "      <td>NaN</td>\n",
       "      <td>NaN</td>\n",
       "      <td>NaN</td>\n",
       "      <td>NaN</td>\n",
       "      <td>NaN</td>\n",
       "      <td>NaN</td>\n",
       "      <td>NaN</td>\n",
       "      <td>&gt;8</td>\n",
       "      <td>NaN</td>\n",
       "      <td>NaN</td>\n",
       "      <td>NaN</td>\n",
       "      <td>16</td>\n",
       "      <td>NaN</td>\n",
       "    </tr>\n",
       "    <tr>\n",
       "      <th>1</th>\n",
       "      <td>1773203</td>\n",
       "      <td>ATLAS</td>\n",
       "      <td>Pseudomonas aeruginosa</td>\n",
       "      <td>Pseudomonadaceae</td>\n",
       "      <td>Male</td>\n",
       "      <td>65 to 84 Years</td>\n",
       "      <td>Spain</td>\n",
       "      <td>2018</td>\n",
       "      <td>Sputum</td>\n",
       "      <td>&gt;16</td>\n",
       "      <td>NaN</td>\n",
       "      <td>&gt;16</td>\n",
       "      <td>NaN</td>\n",
       "      <td>64</td>\n",
       "      <td>NaN</td>\n",
       "      <td>NaN</td>\n",
       "      <td>NaN</td>\n",
       "      <td>16</td>\n",
       "      <td>NaN</td>\n",
       "      <td>16</td>\n",
       "      <td>NaN</td>\n",
       "      <td>&gt;8</td>\n",
       "      <td>NaN</td>\n",
       "      <td>&gt;16</td>\n",
       "      <td>NaN</td>\n",
       "      <td>0.5</td>\n",
       "      <td>NaN</td>\n",
       "      <td>4</td>\n",
       "      <td>NaN</td>\n",
       "      <td>4</td>\n",
       "      <td>NaN</td>\n",
       "      <td>2</td>\n",
       "      <td>NaN</td>\n",
       "      <td>NaN</td>\n",
       "      <td>NaN</td>\n",
       "      <td>NaN</td>\n",
       "      <td>NaN</td>\n",
       "      <td>NaN</td>\n",
       "      <td>NaN</td>\n",
       "      <td>&gt;8</td>\n",
       "      <td>NaN</td>\n",
       "      <td>NaN</td>\n",
       "      <td>NaN</td>\n",
       "      <td>&gt;32</td>\n",
       "      <td>NaN</td>\n",
       "    </tr>\n",
       "    <tr>\n",
       "      <th>2</th>\n",
       "      <td>1773204</td>\n",
       "      <td>ATLAS</td>\n",
       "      <td>Pseudomonas aeruginosa</td>\n",
       "      <td>Pseudomonadaceae</td>\n",
       "      <td>Female</td>\n",
       "      <td>85 and Over</td>\n",
       "      <td>Spain</td>\n",
       "      <td>2018</td>\n",
       "      <td>Wound</td>\n",
       "      <td>&gt;16</td>\n",
       "      <td>NaN</td>\n",
       "      <td>&gt;16</td>\n",
       "      <td>NaN</td>\n",
       "      <td>&gt;64</td>\n",
       "      <td>NaN</td>\n",
       "      <td>NaN</td>\n",
       "      <td>NaN</td>\n",
       "      <td>32</td>\n",
       "      <td>NaN</td>\n",
       "      <td>16</td>\n",
       "      <td>NaN</td>\n",
       "      <td>8</td>\n",
       "      <td>NaN</td>\n",
       "      <td>2</td>\n",
       "      <td>NaN</td>\n",
       "      <td>&gt;4</td>\n",
       "      <td>NaN</td>\n",
       "      <td>&gt;8</td>\n",
       "      <td>NaN</td>\n",
       "      <td>16</td>\n",
       "      <td>NaN</td>\n",
       "      <td>8</td>\n",
       "      <td>NaN</td>\n",
       "      <td>NaN</td>\n",
       "      <td>NaN</td>\n",
       "      <td>NaN</td>\n",
       "      <td>NaN</td>\n",
       "      <td>NaN</td>\n",
       "      <td>NaN</td>\n",
       "      <td>&gt;8</td>\n",
       "      <td>NaN</td>\n",
       "      <td>NaN</td>\n",
       "      <td>NaN</td>\n",
       "      <td>&gt;32</td>\n",
       "      <td>NaN</td>\n",
       "    </tr>\n",
       "    <tr>\n",
       "      <th>3</th>\n",
       "      <td>1773205</td>\n",
       "      <td>ATLAS</td>\n",
       "      <td>Pseudomonas aeruginosa</td>\n",
       "      <td>Pseudomonadaceae</td>\n",
       "      <td>Female</td>\n",
       "      <td>85 and Over</td>\n",
       "      <td>Spain</td>\n",
       "      <td>2018</td>\n",
       "      <td>Abscess</td>\n",
       "      <td>&gt;16</td>\n",
       "      <td>NaN</td>\n",
       "      <td>&gt;16</td>\n",
       "      <td>NaN</td>\n",
       "      <td>&gt;64</td>\n",
       "      <td>NaN</td>\n",
       "      <td>NaN</td>\n",
       "      <td>NaN</td>\n",
       "      <td>32</td>\n",
       "      <td>NaN</td>\n",
       "      <td>16</td>\n",
       "      <td>NaN</td>\n",
       "      <td>2</td>\n",
       "      <td>NaN</td>\n",
       "      <td>2</td>\n",
       "      <td>NaN</td>\n",
       "      <td>&gt;4</td>\n",
       "      <td>NaN</td>\n",
       "      <td>&gt;8</td>\n",
       "      <td>NaN</td>\n",
       "      <td>16</td>\n",
       "      <td>NaN</td>\n",
       "      <td>8</td>\n",
       "      <td>NaN</td>\n",
       "      <td>NaN</td>\n",
       "      <td>NaN</td>\n",
       "      <td>NaN</td>\n",
       "      <td>NaN</td>\n",
       "      <td>NaN</td>\n",
       "      <td>NaN</td>\n",
       "      <td>&gt;8</td>\n",
       "      <td>NaN</td>\n",
       "      <td>NaN</td>\n",
       "      <td>NaN</td>\n",
       "      <td>&gt;32</td>\n",
       "      <td>NaN</td>\n",
       "    </tr>\n",
       "    <tr>\n",
       "      <th>4</th>\n",
       "      <td>1773206</td>\n",
       "      <td>ATLAS</td>\n",
       "      <td>Pseudomonas aeruginosa</td>\n",
       "      <td>Pseudomonadaceae</td>\n",
       "      <td>Male</td>\n",
       "      <td>85 and Over</td>\n",
       "      <td>Spain</td>\n",
       "      <td>2018</td>\n",
       "      <td>Ulcer</td>\n",
       "      <td>&gt;16</td>\n",
       "      <td>NaN</td>\n",
       "      <td>&gt;16</td>\n",
       "      <td>NaN</td>\n",
       "      <td>64</td>\n",
       "      <td>NaN</td>\n",
       "      <td>NaN</td>\n",
       "      <td>NaN</td>\n",
       "      <td>16</td>\n",
       "      <td>NaN</td>\n",
       "      <td>2</td>\n",
       "      <td>NaN</td>\n",
       "      <td>2</td>\n",
       "      <td>NaN</td>\n",
       "      <td>0.25</td>\n",
       "      <td>NaN</td>\n",
       "      <td>&lt;=0.12</td>\n",
       "      <td>NaN</td>\n",
       "      <td>0.5</td>\n",
       "      <td>NaN</td>\n",
       "      <td>8</td>\n",
       "      <td>NaN</td>\n",
       "      <td>2</td>\n",
       "      <td>NaN</td>\n",
       "      <td>NaN</td>\n",
       "      <td>NaN</td>\n",
       "      <td>NaN</td>\n",
       "      <td>NaN</td>\n",
       "      <td>NaN</td>\n",
       "      <td>NaN</td>\n",
       "      <td>8</td>\n",
       "      <td>NaN</td>\n",
       "      <td>NaN</td>\n",
       "      <td>NaN</td>\n",
       "      <td>16</td>\n",
       "      <td>NaN</td>\n",
       "    </tr>\n",
       "  </tbody>\n",
       "</table>\n",
       "</div>"
      ],
      "text/plain": [
       "   Isolate Number Data Source                 Species            Family  \\\n",
       "0         1773202       ATLAS  Pseudomonas aeruginosa  Pseudomonadaceae   \n",
       "1         1773203       ATLAS  Pseudomonas aeruginosa  Pseudomonadaceae   \n",
       "2         1773204       ATLAS  Pseudomonas aeruginosa  Pseudomonadaceae   \n",
       "3         1773205       ATLAS  Pseudomonas aeruginosa  Pseudomonadaceae   \n",
       "4         1773206       ATLAS  Pseudomonas aeruginosa  Pseudomonadaceae   \n",
       "\n",
       "   Gender       Age Group Country  Year Source of Infection  \\\n",
       "0  Female  65 to 84 Years   Spain  2018              Sputum   \n",
       "1    Male  65 to 84 Years   Spain  2018              Sputum   \n",
       "2  Female     85 and Over   Spain  2018               Wound   \n",
       "3  Female     85 and Over   Spain  2018             Abscess   \n",
       "4    Male     85 and Over   Spain  2018               Ulcer   \n",
       "\n",
       "  Amoxicillin-clavulanate  Amoxicillin-clavulanate_I Ampicillin  Ampicillin_I  \\\n",
       "0                     >16                        NaN        >16           NaN   \n",
       "1                     >16                        NaN        >16           NaN   \n",
       "2                     >16                        NaN        >16           NaN   \n",
       "3                     >16                        NaN        >16           NaN   \n",
       "4                     >16                        NaN        >16           NaN   \n",
       "\n",
       "  Piperacillin tazobactam  Piperacillin tazobactam_I  Ceftriaxone  \\\n",
       "0                       1                        NaN          NaN   \n",
       "1                      64                        NaN          NaN   \n",
       "2                     >64                        NaN          NaN   \n",
       "3                     >64                        NaN          NaN   \n",
       "4                      64                        NaN          NaN   \n",
       "\n",
       "   Ceftriaxone_I Ceftazidime  Ceftazidime_I Cefepime  Cefepime_I Imipenem  \\\n",
       "0            NaN           2            NaN        4         NaN        1   \n",
       "1            NaN          16            NaN       16         NaN       >8   \n",
       "2            NaN          32            NaN       16         NaN        8   \n",
       "3            NaN          32            NaN       16         NaN        2   \n",
       "4            NaN          16            NaN        2         NaN        2   \n",
       "\n",
       "   Imipenem_I Meropenem  Meropenem_I Ciprofloxacin  Ciprofloxacin_I  \\\n",
       "0         NaN    <=0.06          NaN          0.25              NaN   \n",
       "1         NaN       >16          NaN           0.5              NaN   \n",
       "2         NaN         2          NaN            >4              NaN   \n",
       "3         NaN         2          NaN            >4              NaN   \n",
       "4         NaN      0.25          NaN        <=0.12              NaN   \n",
       "\n",
       "  Levofloxacin  Levofloxacin_I Amikacin  Amikacin_I Gentamicin  Gentamicin_I  \\\n",
       "0            2             NaN        2         NaN          1           NaN   \n",
       "1            4             NaN        4         NaN          2           NaN   \n",
       "2           >8             NaN       16         NaN          8           NaN   \n",
       "3           >8             NaN       16         NaN          8           NaN   \n",
       "4          0.5             NaN        8         NaN          2           NaN   \n",
       "\n",
       "   Vancomycin  Vancomycin_I  Azithromycin  Azithromycin_I  Clarithromycin  \\\n",
       "0         NaN           NaN           NaN             NaN             NaN   \n",
       "1         NaN           NaN           NaN             NaN             NaN   \n",
       "2         NaN           NaN           NaN             NaN             NaN   \n",
       "3         NaN           NaN           NaN             NaN             NaN   \n",
       "4         NaN           NaN           NaN             NaN             NaN   \n",
       "\n",
       "   Clarithromycin_I Tigecycline  Tigecycline_I  Linezolid  Linezolid_I  \\\n",
       "0               NaN          >8            NaN        NaN          NaN   \n",
       "1               NaN          >8            NaN        NaN          NaN   \n",
       "2               NaN          >8            NaN        NaN          NaN   \n",
       "3               NaN          >8            NaN        NaN          NaN   \n",
       "4               NaN           8            NaN        NaN          NaN   \n",
       "\n",
       "  Trimethoprim-sulfamethoxazole  Trimethoprim-sulfamethoxazole_I  \n",
       "0                            16                              NaN  \n",
       "1                           >32                              NaN  \n",
       "2                           >32                              NaN  \n",
       "3                           >32                              NaN  \n",
       "4                            16                              NaN  "
      ]
     },
     "execution_count": 24,
     "metadata": {},
     "output_type": "execute_result"
    }
   ],
   "source": [
    "# Load the CSV into the DataFrame\n",
    "pseudomonadaceae_df = pd.read_csv(r\"D:\\Vivli 2024\\Jupiter Notebooks\\Vidata Analysis\\Filtered Data for the Species and Families\\pseudomonadaceae_df.csv\")\n",
    "\n",
    "# Display the DataFrame (optional)\n",
    "pseudomonadaceae_df.head()\n"
   ]
  },
  {
   "cell_type": "code",
   "execution_count": 25,
   "metadata": {},
   "outputs": [],
   "source": [
    "# Function to extract numeric value from a string, handling cases like '<', '>', etc.\n",
    "def extract_numeric_value(value):\n",
    "    if isinstance(value, str):\n",
    "        # Use regex to remove any non-numeric characters except for '.' and '-'\n",
    "        cleaned_value = re.sub(r'[^\\d.-]', '', value)\n",
    "        try:\n",
    "            return float(cleaned_value)\n",
    "        except ValueError:\n",
    "            return np.nan  # Return NaN if conversion fails\n",
    "    return value  # Return the value as is if it's already numeric"
   ]
  },
  {
   "cell_type": "code",
   "execution_count": 26,
   "metadata": {},
   "outputs": [
    {
     "data": {
      "text/html": [
       "<div>\n",
       "<style scoped>\n",
       "    .dataframe tbody tr th:only-of-type {\n",
       "        vertical-align: middle;\n",
       "    }\n",
       "\n",
       "    .dataframe tbody tr th {\n",
       "        vertical-align: top;\n",
       "    }\n",
       "\n",
       "    .dataframe thead th {\n",
       "        text-align: right;\n",
       "    }\n",
       "</style>\n",
       "<table border=\"1\" class=\"dataframe\">\n",
       "  <thead>\n",
       "    <tr style=\"text-align: right;\">\n",
       "      <th></th>\n",
       "      <th>Isolate Number</th>\n",
       "      <th>Data Source</th>\n",
       "      <th>Species</th>\n",
       "      <th>Family</th>\n",
       "      <th>Gender</th>\n",
       "      <th>Age Group</th>\n",
       "      <th>Country</th>\n",
       "      <th>Year</th>\n",
       "      <th>Source of Infection</th>\n",
       "      <th>Amoxicillin-clavulanate</th>\n",
       "      <th>Amoxicillin-clavulanate_I</th>\n",
       "      <th>Ampicillin</th>\n",
       "      <th>Ampicillin_I</th>\n",
       "      <th>Piperacillin tazobactam</th>\n",
       "      <th>Piperacillin tazobactam_I</th>\n",
       "      <th>Ceftriaxone</th>\n",
       "      <th>Ceftriaxone_I</th>\n",
       "      <th>Ceftazidime</th>\n",
       "      <th>Ceftazidime_I</th>\n",
       "      <th>Cefepime</th>\n",
       "      <th>Cefepime_I</th>\n",
       "      <th>Imipenem</th>\n",
       "      <th>Imipenem_I</th>\n",
       "      <th>Meropenem</th>\n",
       "      <th>Meropenem_I</th>\n",
       "      <th>Ciprofloxacin</th>\n",
       "      <th>Ciprofloxacin_I</th>\n",
       "      <th>Levofloxacin</th>\n",
       "      <th>Levofloxacin_I</th>\n",
       "      <th>Amikacin</th>\n",
       "      <th>Amikacin_I</th>\n",
       "      <th>Gentamicin</th>\n",
       "      <th>Gentamicin_I</th>\n",
       "      <th>Vancomycin</th>\n",
       "      <th>Vancomycin_I</th>\n",
       "      <th>Azithromycin</th>\n",
       "      <th>Azithromycin_I</th>\n",
       "      <th>Clarithromycin</th>\n",
       "      <th>Clarithromycin_I</th>\n",
       "      <th>Tigecycline</th>\n",
       "      <th>Tigecycline_I</th>\n",
       "      <th>Linezolid</th>\n",
       "      <th>Linezolid_I</th>\n",
       "      <th>Trimethoprim-sulfamethoxazole</th>\n",
       "      <th>Trimethoprim-sulfamethoxazole_I</th>\n",
       "    </tr>\n",
       "  </thead>\n",
       "  <tbody>\n",
       "    <tr>\n",
       "      <th>0</th>\n",
       "      <td>1773202</td>\n",
       "      <td>ATLAS</td>\n",
       "      <td>Pseudomonas aeruginosa</td>\n",
       "      <td>Pseudomonadaceae</td>\n",
       "      <td>Female</td>\n",
       "      <td>65 to 84 Years</td>\n",
       "      <td>Spain</td>\n",
       "      <td>2018</td>\n",
       "      <td>Sputum</td>\n",
       "      <td>&gt;16</td>\n",
       "      <td>NaN</td>\n",
       "      <td>&gt;16</td>\n",
       "      <td>NaN</td>\n",
       "      <td>1</td>\n",
       "      <td>Susceptible</td>\n",
       "      <td>NaN</td>\n",
       "      <td>NaN</td>\n",
       "      <td>2</td>\n",
       "      <td>Susceptible</td>\n",
       "      <td>4</td>\n",
       "      <td>Susceptible</td>\n",
       "      <td>1</td>\n",
       "      <td>Susceptible</td>\n",
       "      <td>&lt;=0.06</td>\n",
       "      <td>Susceptible</td>\n",
       "      <td>0.25</td>\n",
       "      <td>Susceptible</td>\n",
       "      <td>2</td>\n",
       "      <td>Resistant</td>\n",
       "      <td>2</td>\n",
       "      <td>Susceptible</td>\n",
       "      <td>1</td>\n",
       "      <td>Susceptible</td>\n",
       "      <td>NaN</td>\n",
       "      <td>NaN</td>\n",
       "      <td>NaN</td>\n",
       "      <td>NaN</td>\n",
       "      <td>NaN</td>\n",
       "      <td>NaN</td>\n",
       "      <td>&gt;8</td>\n",
       "      <td>NaN</td>\n",
       "      <td>NaN</td>\n",
       "      <td>NaN</td>\n",
       "      <td>16</td>\n",
       "      <td>NaN</td>\n",
       "    </tr>\n",
       "    <tr>\n",
       "      <th>1</th>\n",
       "      <td>1773203</td>\n",
       "      <td>ATLAS</td>\n",
       "      <td>Pseudomonas aeruginosa</td>\n",
       "      <td>Pseudomonadaceae</td>\n",
       "      <td>Male</td>\n",
       "      <td>65 to 84 Years</td>\n",
       "      <td>Spain</td>\n",
       "      <td>2018</td>\n",
       "      <td>Sputum</td>\n",
       "      <td>&gt;16</td>\n",
       "      <td>NaN</td>\n",
       "      <td>&gt;16</td>\n",
       "      <td>NaN</td>\n",
       "      <td>64</td>\n",
       "      <td>Resistant</td>\n",
       "      <td>NaN</td>\n",
       "      <td>NaN</td>\n",
       "      <td>16</td>\n",
       "      <td>Resistant</td>\n",
       "      <td>16</td>\n",
       "      <td>Resistant</td>\n",
       "      <td>&gt;8</td>\n",
       "      <td>Intermediate</td>\n",
       "      <td>&gt;16</td>\n",
       "      <td>Resistant</td>\n",
       "      <td>0.5</td>\n",
       "      <td>Susceptible</td>\n",
       "      <td>4</td>\n",
       "      <td>Resistant</td>\n",
       "      <td>4</td>\n",
       "      <td>Susceptible</td>\n",
       "      <td>2</td>\n",
       "      <td>Susceptible</td>\n",
       "      <td>NaN</td>\n",
       "      <td>NaN</td>\n",
       "      <td>NaN</td>\n",
       "      <td>NaN</td>\n",
       "      <td>NaN</td>\n",
       "      <td>NaN</td>\n",
       "      <td>&gt;8</td>\n",
       "      <td>NaN</td>\n",
       "      <td>NaN</td>\n",
       "      <td>NaN</td>\n",
       "      <td>&gt;32</td>\n",
       "      <td>NaN</td>\n",
       "    </tr>\n",
       "    <tr>\n",
       "      <th>2</th>\n",
       "      <td>1773204</td>\n",
       "      <td>ATLAS</td>\n",
       "      <td>Pseudomonas aeruginosa</td>\n",
       "      <td>Pseudomonadaceae</td>\n",
       "      <td>Female</td>\n",
       "      <td>85 and Over</td>\n",
       "      <td>Spain</td>\n",
       "      <td>2018</td>\n",
       "      <td>Wound</td>\n",
       "      <td>&gt;16</td>\n",
       "      <td>NaN</td>\n",
       "      <td>&gt;16</td>\n",
       "      <td>NaN</td>\n",
       "      <td>&gt;64</td>\n",
       "      <td>Resistant</td>\n",
       "      <td>NaN</td>\n",
       "      <td>NaN</td>\n",
       "      <td>32</td>\n",
       "      <td>Resistant</td>\n",
       "      <td>16</td>\n",
       "      <td>Resistant</td>\n",
       "      <td>8</td>\n",
       "      <td>Intermediate</td>\n",
       "      <td>2</td>\n",
       "      <td>Susceptible</td>\n",
       "      <td>&gt;4</td>\n",
       "      <td>Resistant</td>\n",
       "      <td>&gt;8</td>\n",
       "      <td>Resistant</td>\n",
       "      <td>16</td>\n",
       "      <td>Intermediate</td>\n",
       "      <td>8</td>\n",
       "      <td>Resistant</td>\n",
       "      <td>NaN</td>\n",
       "      <td>NaN</td>\n",
       "      <td>NaN</td>\n",
       "      <td>NaN</td>\n",
       "      <td>NaN</td>\n",
       "      <td>NaN</td>\n",
       "      <td>&gt;8</td>\n",
       "      <td>NaN</td>\n",
       "      <td>NaN</td>\n",
       "      <td>NaN</td>\n",
       "      <td>&gt;32</td>\n",
       "      <td>NaN</td>\n",
       "    </tr>\n",
       "    <tr>\n",
       "      <th>3</th>\n",
       "      <td>1773205</td>\n",
       "      <td>ATLAS</td>\n",
       "      <td>Pseudomonas aeruginosa</td>\n",
       "      <td>Pseudomonadaceae</td>\n",
       "      <td>Female</td>\n",
       "      <td>85 and Over</td>\n",
       "      <td>Spain</td>\n",
       "      <td>2018</td>\n",
       "      <td>Abscess</td>\n",
       "      <td>&gt;16</td>\n",
       "      <td>NaN</td>\n",
       "      <td>&gt;16</td>\n",
       "      <td>NaN</td>\n",
       "      <td>&gt;64</td>\n",
       "      <td>Resistant</td>\n",
       "      <td>NaN</td>\n",
       "      <td>NaN</td>\n",
       "      <td>32</td>\n",
       "      <td>Resistant</td>\n",
       "      <td>16</td>\n",
       "      <td>Resistant</td>\n",
       "      <td>2</td>\n",
       "      <td>Susceptible</td>\n",
       "      <td>2</td>\n",
       "      <td>Susceptible</td>\n",
       "      <td>&gt;4</td>\n",
       "      <td>Resistant</td>\n",
       "      <td>&gt;8</td>\n",
       "      <td>Resistant</td>\n",
       "      <td>16</td>\n",
       "      <td>Intermediate</td>\n",
       "      <td>8</td>\n",
       "      <td>Resistant</td>\n",
       "      <td>NaN</td>\n",
       "      <td>NaN</td>\n",
       "      <td>NaN</td>\n",
       "      <td>NaN</td>\n",
       "      <td>NaN</td>\n",
       "      <td>NaN</td>\n",
       "      <td>&gt;8</td>\n",
       "      <td>NaN</td>\n",
       "      <td>NaN</td>\n",
       "      <td>NaN</td>\n",
       "      <td>&gt;32</td>\n",
       "      <td>NaN</td>\n",
       "    </tr>\n",
       "    <tr>\n",
       "      <th>4</th>\n",
       "      <td>1773206</td>\n",
       "      <td>ATLAS</td>\n",
       "      <td>Pseudomonas aeruginosa</td>\n",
       "      <td>Pseudomonadaceae</td>\n",
       "      <td>Male</td>\n",
       "      <td>85 and Over</td>\n",
       "      <td>Spain</td>\n",
       "      <td>2018</td>\n",
       "      <td>Ulcer</td>\n",
       "      <td>&gt;16</td>\n",
       "      <td>NaN</td>\n",
       "      <td>&gt;16</td>\n",
       "      <td>NaN</td>\n",
       "      <td>64</td>\n",
       "      <td>Resistant</td>\n",
       "      <td>NaN</td>\n",
       "      <td>NaN</td>\n",
       "      <td>16</td>\n",
       "      <td>Resistant</td>\n",
       "      <td>2</td>\n",
       "      <td>Susceptible</td>\n",
       "      <td>2</td>\n",
       "      <td>Susceptible</td>\n",
       "      <td>0.25</td>\n",
       "      <td>Susceptible</td>\n",
       "      <td>&lt;=0.12</td>\n",
       "      <td>Susceptible</td>\n",
       "      <td>0.5</td>\n",
       "      <td>Susceptible</td>\n",
       "      <td>8</td>\n",
       "      <td>Susceptible</td>\n",
       "      <td>2</td>\n",
       "      <td>Susceptible</td>\n",
       "      <td>NaN</td>\n",
       "      <td>NaN</td>\n",
       "      <td>NaN</td>\n",
       "      <td>NaN</td>\n",
       "      <td>NaN</td>\n",
       "      <td>NaN</td>\n",
       "      <td>8</td>\n",
       "      <td>NaN</td>\n",
       "      <td>NaN</td>\n",
       "      <td>NaN</td>\n",
       "      <td>16</td>\n",
       "      <td>NaN</td>\n",
       "    </tr>\n",
       "  </tbody>\n",
       "</table>\n",
       "</div>"
      ],
      "text/plain": [
       "   Isolate Number Data Source                 Species            Family  \\\n",
       "0         1773202       ATLAS  Pseudomonas aeruginosa  Pseudomonadaceae   \n",
       "1         1773203       ATLAS  Pseudomonas aeruginosa  Pseudomonadaceae   \n",
       "2         1773204       ATLAS  Pseudomonas aeruginosa  Pseudomonadaceae   \n",
       "3         1773205       ATLAS  Pseudomonas aeruginosa  Pseudomonadaceae   \n",
       "4         1773206       ATLAS  Pseudomonas aeruginosa  Pseudomonadaceae   \n",
       "\n",
       "   Gender       Age Group Country  Year Source of Infection  \\\n",
       "0  Female  65 to 84 Years   Spain  2018              Sputum   \n",
       "1    Male  65 to 84 Years   Spain  2018              Sputum   \n",
       "2  Female     85 and Over   Spain  2018               Wound   \n",
       "3  Female     85 and Over   Spain  2018             Abscess   \n",
       "4    Male     85 and Over   Spain  2018               Ulcer   \n",
       "\n",
       "  Amoxicillin-clavulanate  Amoxicillin-clavulanate_I Ampicillin  Ampicillin_I  \\\n",
       "0                     >16                        NaN        >16           NaN   \n",
       "1                     >16                        NaN        >16           NaN   \n",
       "2                     >16                        NaN        >16           NaN   \n",
       "3                     >16                        NaN        >16           NaN   \n",
       "4                     >16                        NaN        >16           NaN   \n",
       "\n",
       "  Piperacillin tazobactam Piperacillin tazobactam_I  Ceftriaxone  \\\n",
       "0                       1               Susceptible          NaN   \n",
       "1                      64                 Resistant          NaN   \n",
       "2                     >64                 Resistant          NaN   \n",
       "3                     >64                 Resistant          NaN   \n",
       "4                      64                 Resistant          NaN   \n",
       "\n",
       "   Ceftriaxone_I Ceftazidime Ceftazidime_I Cefepime   Cefepime_I Imipenem  \\\n",
       "0            NaN           2   Susceptible        4  Susceptible        1   \n",
       "1            NaN          16     Resistant       16    Resistant       >8   \n",
       "2            NaN          32     Resistant       16    Resistant        8   \n",
       "3            NaN          32     Resistant       16    Resistant        2   \n",
       "4            NaN          16     Resistant        2  Susceptible        2   \n",
       "\n",
       "     Imipenem_I Meropenem  Meropenem_I Ciprofloxacin Ciprofloxacin_I  \\\n",
       "0   Susceptible    <=0.06  Susceptible          0.25     Susceptible   \n",
       "1  Intermediate       >16    Resistant           0.5     Susceptible   \n",
       "2  Intermediate         2  Susceptible            >4       Resistant   \n",
       "3   Susceptible         2  Susceptible            >4       Resistant   \n",
       "4   Susceptible      0.25  Susceptible        <=0.12     Susceptible   \n",
       "\n",
       "  Levofloxacin Levofloxacin_I Amikacin    Amikacin_I Gentamicin Gentamicin_I  \\\n",
       "0            2      Resistant        2   Susceptible          1  Susceptible   \n",
       "1            4      Resistant        4   Susceptible          2  Susceptible   \n",
       "2           >8      Resistant       16  Intermediate          8    Resistant   \n",
       "3           >8      Resistant       16  Intermediate          8    Resistant   \n",
       "4          0.5    Susceptible        8   Susceptible          2  Susceptible   \n",
       "\n",
       "   Vancomycin  Vancomycin_I  Azithromycin  Azithromycin_I  Clarithromycin  \\\n",
       "0         NaN           NaN           NaN             NaN             NaN   \n",
       "1         NaN           NaN           NaN             NaN             NaN   \n",
       "2         NaN           NaN           NaN             NaN             NaN   \n",
       "3         NaN           NaN           NaN             NaN             NaN   \n",
       "4         NaN           NaN           NaN             NaN             NaN   \n",
       "\n",
       "   Clarithromycin_I Tigecycline  Tigecycline_I  Linezolid  Linezolid_I  \\\n",
       "0               NaN          >8            NaN        NaN          NaN   \n",
       "1               NaN          >8            NaN        NaN          NaN   \n",
       "2               NaN          >8            NaN        NaN          NaN   \n",
       "3               NaN          >8            NaN        NaN          NaN   \n",
       "4               NaN           8            NaN        NaN          NaN   \n",
       "\n",
       "  Trimethoprim-sulfamethoxazole  Trimethoprim-sulfamethoxazole_I  \n",
       "0                            16                              NaN  \n",
       "1                           >32                              NaN  \n",
       "2                           >32                              NaN  \n",
       "3                           >32                              NaN  \n",
       "4                            16                              NaN  "
      ]
     },
     "execution_count": 26,
     "metadata": {},
     "output_type": "execute_result"
    }
   ],
   "source": [
    "# Function to interpret antibiotic values based on the given conditions for Pseudomonadaceae\n",
    "def interpret_antibiotic_pseudomonadaceae(row, antibiotic, year):\n",
    "    value = extract_numeric_value(row[antibiotic])  # Clean the value\n",
    "\n",
    "    # Handle missing or non-numeric values\n",
    "    if pd.isna(value):\n",
    "        return 'Use Not recommended'\n",
    "\n",
    "    # Interpret for Penicillins (Piperacillin tazobactam - TZP)\n",
    "    if antibiotic == 'Piperacillin tazobactam':\n",
    "        if year in [2020, 2021, 2022]:\n",
    "            if value <= 0.001:\n",
    "                return 'Susceptible'\n",
    "            elif 0.002 <= value <= 16:\n",
    "                return 'Intermediate'\n",
    "            else:\n",
    "                return 'Resistant'\n",
    "        elif year in [2018, 2019]:\n",
    "            return 'Susceptible' if value <= 16 else 'Resistant'\n",
    "\n",
    "    # Interpret for Cephalosporins (Ceftazidime - CAZ, Cefepime - PIP)\n",
    "    elif antibiotic in ['Ceftazidime', 'Cefepime']:\n",
    "        if year in [2020, 2021, 2022]:\n",
    "            if value <= 0.001:\n",
    "                return 'Susceptible'\n",
    "            elif 0.002 <= value <= 8:\n",
    "                return 'Intermediate'\n",
    "            else:\n",
    "                return 'Resistant'\n",
    "        elif year in [2018, 2019]:\n",
    "            return 'Susceptible' if value <= 8 else 'Resistant'\n",
    "\n",
    "    # Interpret for Carbapenems (Imipenem - IPM, Meropenem - MEM)\n",
    "    elif antibiotic == 'Imipenem':\n",
    "        if year == 2018:\n",
    "            if value <= 4:\n",
    "                return 'Susceptible'\n",
    "            elif 4.1 <= value <= 8:\n",
    "                return 'Intermediate'\n",
    "            else:\n",
    "                return 'Resistant'\n",
    "        elif year == 2019:\n",
    "            return 'Susceptible' if value <= 4 else 'Resistant'\n",
    "        elif year in [2020, 2021, 2022]:\n",
    "            if value <= 0.001:\n",
    "                return 'Susceptible'\n",
    "            elif 0.002 <= value <= 4:\n",
    "                return 'Intermediate'\n",
    "            else:\n",
    "                return 'Resistant'\n",
    "    elif antibiotic == 'Meropenem':\n",
    "        if year in [2018, 2019, 2020, 2021, 2022]:\n",
    "            if value <= 2:\n",
    "                return 'Susceptible'\n",
    "            elif 2.1 <= value <= 8:\n",
    "                return 'Intermediate'\n",
    "            else:\n",
    "                return 'Resistant'\n",
    "\n",
    "    # Interpret for Fluoroquinolones (Ciprofloxacin - CIP, Levofloxacin - LEV)\n",
    "    elif antibiotic == 'Ciprofloxacin':\n",
    "        if year in [2020, 2021, 2022]:\n",
    "            if value <= 0.001:\n",
    "                return 'Susceptible'\n",
    "            elif 0.002 <= value <= 0.5:\n",
    "                return 'Intermediate'\n",
    "            else:\n",
    "                return 'Resistant'\n",
    "        elif year in [2018, 2019]:\n",
    "            return 'Susceptible' if value <= 0.5 else 'Resistant'\n",
    "    elif antibiotic == 'Levofloxacin':\n",
    "        if year == 2022:\n",
    "            if value <= 0.001:\n",
    "                return 'Susceptible'\n",
    "            elif 0.002 <= value <= 2:\n",
    "                return 'Intermediate'\n",
    "            else:\n",
    "                return 'Resistant'\n",
    "        elif year in [2020, 2021]:\n",
    "            if value <= 0.001:\n",
    "                return 'Susceptible'\n",
    "            elif 0.002 <= value <= 1:\n",
    "                return 'Intermediate'\n",
    "            else:\n",
    "                return 'Resistant'\n",
    "        elif year in [2018, 2019]:\n",
    "            return 'Susceptible' if value <= 1 else 'Resistant'\n",
    "\n",
    "    # Interpret for Aminoglycosides (Amikacin - AMK, Gentamicin - GEN)\n",
    "    elif antibiotic == 'Amikacin':\n",
    "        if year in [2020, 2021, 2022]:\n",
    "            return 'Susceptible' if value <= 16 else 'Resistant'\n",
    "        elif year in [2018, 2019]:\n",
    "            if value <= 8:\n",
    "                return 'Susceptible'\n",
    "            elif 8.1 <= value <= 16:\n",
    "                return 'Intermediate'\n",
    "            else:\n",
    "                return 'Resistant'\n",
    "    elif antibiotic == 'Gentamicin':\n",
    "        if year in [2020, 2021, 2022]:\n",
    "            return 'Insufficient evidence that the organism or group is a good target for therapy with the agent'\n",
    "        elif year in [2018, 2019]:\n",
    "            return 'Susceptible' if value <= 4 else 'Resistant'\n",
    "\n",
    "    return 'Use Not recommended'\n",
    "\n",
    "# Apply the function to the relevant columns\n",
    "def apply_interpretation_pseudomonadaceae(row):\n",
    "    antibiotics = [\n",
    "        'Piperacillin tazobactam', 'Ceftazidime', 'Cefepime', 'Imipenem', 'Meropenem',\n",
    "        'Ciprofloxacin', 'Levofloxacin', 'Amikacin', 'Gentamicin'\n",
    "    ]\n",
    "    year = row['Year']\n",
    "    \n",
    "    for antibiotic in antibiotics:\n",
    "        interpretation = interpret_antibiotic_pseudomonadaceae(row, antibiotic, year)\n",
    "        row[antibiotic + '_I'] = interpretation  # Fill the interpretation into the respective \"_I\" column\n",
    "    return row\n",
    "\n",
    "# Apply the interpretation across the dataframe for Pseudomonadaceae family\n",
    "pseudomonadaceae_df = pseudomonadaceae_df.apply(apply_interpretation_pseudomonadaceae, axis=1)\n",
    "\n",
    "# Display the result\n",
    "pseudomonadaceae_df.head()\n"
   ]
  },
  {
   "cell_type": "code",
   "execution_count": 27,
   "metadata": {},
   "outputs": [
    {
     "name": "stdout",
     "output_type": "stream",
     "text": [
      "\n",
      "Results for Piperacillin tazobactam_I:\n",
      " Year  Susceptible  Intermediate  Resistant\n",
      " 2018        73.83          0.00      26.17\n",
      " 2019        71.36          0.00      28.64\n",
      " 2020         0.00         74.30      25.70\n",
      " 2021         0.00         72.28      27.72\n",
      " 2022         0.00         75.52      24.48\n",
      "\n",
      "Results for Ceftazidime_I:\n",
      " Year  Susceptible  Intermediate  Resistant\n",
      " 2018        76.53          0.00      23.47\n",
      " 2019        76.53          0.00      23.47\n",
      " 2020         0.00         77.72      22.28\n",
      " 2021         0.00         77.35      22.65\n",
      " 2022         0.00         79.17      20.83\n",
      "\n",
      "Results for Cefepime_I:\n",
      " Year  Susceptible  Intermediate  Resistant\n",
      " 2018        78.84          0.00      21.16\n",
      " 2019        78.16          0.00      21.84\n",
      " 2020         0.00         79.69      20.31\n",
      " 2021         0.00         78.18      21.82\n",
      " 2022         0.00         81.03      18.97\n",
      "\n",
      "Results for Imipenem_I:\n",
      " Year  Susceptible  Intermediate  Resistant\n",
      " 2018        72.86         23.86       3.28\n",
      " 2019        73.08          0.00      26.92\n",
      " 2020         0.00         73.61      26.39\n",
      " 2021         0.00         73.77      26.23\n",
      " 2022         0.00         75.99      24.01\n",
      "\n",
      "Results for Meropenem_I:\n",
      " Year  Susceptible  Intermediate  Resistant\n",
      " 2018        73.64         12.24      14.12\n",
      " 2019        73.45         11.29      15.26\n",
      " 2020        75.28         11.22      13.50\n",
      " 2021        73.89         11.95      14.16\n",
      " 2022        77.71         10.19      12.11\n",
      "\n",
      "Results for Ciprofloxacin_I:\n",
      " Year  Susceptible  Intermediate  Resistant\n",
      " 2018        71.88          0.00      28.12\n",
      " 2019        72.37          0.00      27.63\n",
      " 2020         0.00         76.49      23.51\n",
      " 2021         0.00         76.93      23.07\n",
      " 2022         0.00         79.01      20.99\n",
      "\n",
      "Results for Levofloxacin_I:\n",
      " Year  Susceptible  Intermediate  Resistant\n",
      " 2018         64.5          0.00      35.50\n",
      " 2019         66.2          0.00      33.80\n",
      " 2020          0.0         67.72      32.28\n",
      " 2021          0.0         69.12      30.88\n",
      " 2022          0.0         80.48      19.52\n",
      "\n",
      "Results for Amikacin_I:\n",
      " Year  Susceptible  Intermediate  Resistant\n",
      " 2018        86.47          3.66       9.87\n",
      " 2019        85.60          4.84       9.56\n",
      " 2020        90.83          0.00       9.17\n",
      " 2021        91.66          0.00       8.34\n",
      " 2022        92.25          0.00       7.75\n",
      "\n",
      "Results for Gentamicin_I:\n",
      " Year  Susceptible  Intermediate  Resistant\n",
      " 2018        83.70           0.0      16.30\n",
      " 2019        82.87           0.0      17.13\n"
     ]
    }
   ],
   "source": [
    "import pandas as pd\n",
    "\n",
    "# List of antibiotics of interest with interpretations (_I)\n",
    "antibiotics_list = [\n",
    "    'Amoxicillin-clavulanate_I', 'Ampicillin_I', 'Piperacillin tazobactam_I', \n",
    "    'Ceftriaxone_I', 'Ceftazidime_I', 'Cefepime_I', 'Imipenem_I', 'Meropenem_I', \n",
    "    'Ciprofloxacin_I', 'Levofloxacin_I', 'Amikacin_I', 'Gentamicin_I', \n",
    "    'Vancomycin_I', 'Azithromycin_I', 'Clarithromycin_I', 'Tigecycline_I', \n",
    "    'Linezolid_I', 'Trimethoprim-sulfamethoxazole_I'\n",
    "]\n",
    "\n",
    "# List of years of interest\n",
    "years_list = [2018, 2019, 2020, 2021, 2022]\n",
    "\n",
    "# Dictionary to store susceptibility results for Pseudomonas aeruginosa\n",
    "pseudomonadaceae_results = {}\n",
    "\n",
    "# Filter the data for Pseudomonas aeruginosa\n",
    "df_species = pseudomonadaceae_df[pseudomonadaceae_df['Species'] == 'Pseudomonas aeruginosa']\n",
    "\n",
    "# Loop through each antibiotic of interest\n",
    "for antibiotic in antibiotics_list:\n",
    "    susceptibility_rates_list = []\n",
    "\n",
    "    # Loop through each year\n",
    "    for year in years_list:\n",
    "        year_data = df_species[df_species['Year'] == year]\n",
    "        total_count = len(year_data)\n",
    "\n",
    "        if total_count > 0:\n",
    "            # Calculate susceptibility counts\n",
    "            susceptible_count = (year_data[antibiotic] == 'Susceptible').sum()\n",
    "            intermediate_count = (year_data[antibiotic] == 'Intermediate').sum()\n",
    "            resistant_count = (year_data[antibiotic] == 'Resistant').sum()\n",
    "\n",
    "            # Additional handling for Gentamicin with special comment\n",
    "            if antibiotic == 'Gentamicin_I':\n",
    "                insufficient_evidence_count = (year_data[antibiotic] == 'Insufficient evidence').sum()\n",
    "            \n",
    "            # Calculate rates\n",
    "            total_reported = susceptible_count + intermediate_count + resistant_count\n",
    "            if total_reported > 0:\n",
    "                susceptible_rate = (susceptible_count / total_reported) * 100\n",
    "                intermediate_rate = (intermediate_count / total_reported) * 100\n",
    "                resistant_rate = (resistant_count / total_reported) * 100\n",
    "\n",
    "                # Round rates to 2 decimal places\n",
    "                susceptible_rate = round(susceptible_rate, 2)\n",
    "                intermediate_rate = round(intermediate_rate, 2)\n",
    "                resistant_rate = round(resistant_rate, 2)\n",
    "\n",
    "                # Append the data to the list\n",
    "                rates_dict = {\n",
    "                    'Year': year,\n",
    "                    'Susceptible': susceptible_rate,\n",
    "                    'Intermediate': intermediate_rate,\n",
    "                    'Resistant': resistant_rate\n",
    "                }\n",
    "\n",
    "                # Add insufficient evidence for Gentamicin\n",
    "                if antibiotic == 'Gentamicin_I' and insufficient_evidence_count > 0:\n",
    "                    rates_dict['Insufficient Evidence'] = 'Insufficient evidence that the organism or group is a good target for therapy with the agent'\n",
    "                \n",
    "                susceptibility_rates_list.append(rates_dict)\n",
    "\n",
    "    # Store the results for this antibiotic\n",
    "    if susceptibility_rates_list:\n",
    "        pseudomonadaceae_results[antibiotic] = pd.DataFrame(susceptibility_rates_list)\n",
    "\n",
    "# Display the results for each antibiotic in a table format\n",
    "for antibiotic, df in pseudomonadaceae_results.items():\n",
    "    print(f\"\\nResults for {antibiotic}:\")\n",
    "    print(df.to_string(index=False))  # Display table without the index column\n"
   ]
  },
  {
   "cell_type": "code",
   "execution_count": 28,
   "metadata": {},
   "outputs": [
    {
     "name": "stdout",
     "output_type": "stream",
     "text": [
      "Visualizing results for Species: Pseudomonas aeruginosa\n",
      "Visualizing results for Antibiotic Group: Penicillins\n",
      "No data available for Amoxicillin-clavulanate_I\n",
      "No data available for Ampicillin_I\n"
     ]
    },
    {
     "data": {
      "application/vnd.plotly.v1+json": {
       "config": {
        "plotlyServerURL": "https://plot.ly"
       },
       "data": [
        {
         "hovertemplate": "Antibiotic=Piperacillin tazobactam<br>Resistance Category=Susceptible<br>Year=%{x}<br>Percentage (%)=%{y}<extra></extra>",
         "legendgroup": "Piperacillin tazobactam, Susceptible",
         "line": {
          "color": "#636efa",
          "dash": "solid"
         },
         "marker": {
          "symbol": "circle"
         },
         "mode": "markers+lines",
         "name": "Piperacillin tazobactam, Susceptible",
         "orientation": "v",
         "showlegend": true,
         "type": "scatter",
         "x": [
          2018,
          2019,
          2020,
          2021,
          2022
         ],
         "xaxis": "x",
         "y": [
          73.83,
          71.36,
          0,
          0,
          0
         ],
         "yaxis": "y"
        },
        {
         "hovertemplate": "Antibiotic=Piperacillin tazobactam<br>Resistance Category=Intermediate<br>Year=%{x}<br>Percentage (%)=%{y}<extra></extra>",
         "legendgroup": "Piperacillin tazobactam, Intermediate",
         "line": {
          "color": "#636efa",
          "dash": "dot"
         },
         "marker": {
          "symbol": "circle"
         },
         "mode": "markers+lines",
         "name": "Piperacillin tazobactam, Intermediate",
         "orientation": "v",
         "showlegend": true,
         "type": "scatter",
         "x": [
          2018,
          2019,
          2020,
          2021,
          2022
         ],
         "xaxis": "x",
         "y": [
          0,
          0,
          74.3,
          72.28,
          75.52
         ],
         "yaxis": "y"
        },
        {
         "hovertemplate": "Antibiotic=Piperacillin tazobactam<br>Resistance Category=Resistant<br>Year=%{x}<br>Percentage (%)=%{y}<extra></extra>",
         "legendgroup": "Piperacillin tazobactam, Resistant",
         "line": {
          "color": "#636efa",
          "dash": "dash"
         },
         "marker": {
          "symbol": "circle"
         },
         "mode": "markers+lines",
         "name": "Piperacillin tazobactam, Resistant",
         "orientation": "v",
         "showlegend": true,
         "type": "scatter",
         "x": [
          2018,
          2019,
          2020,
          2021,
          2022
         ],
         "xaxis": "x",
         "y": [
          26.17,
          28.64,
          25.7,
          27.72,
          24.48
         ],
         "yaxis": "y"
        }
       ],
       "layout": {
        "height": 600,
        "legend": {
         "title": {
          "text": "Antibiotic / Resistance Category"
         },
         "tracegroupgap": 0
        },
        "template": {
         "data": {
          "bar": [
           {
            "error_x": {
             "color": "#2a3f5f"
            },
            "error_y": {
             "color": "#2a3f5f"
            },
            "marker": {
             "line": {
              "color": "#E5ECF6",
              "width": 0.5
             },
             "pattern": {
              "fillmode": "overlay",
              "size": 10,
              "solidity": 0.2
             }
            },
            "type": "bar"
           }
          ],
          "barpolar": [
           {
            "marker": {
             "line": {
              "color": "#E5ECF6",
              "width": 0.5
             },
             "pattern": {
              "fillmode": "overlay",
              "size": 10,
              "solidity": 0.2
             }
            },
            "type": "barpolar"
           }
          ],
          "carpet": [
           {
            "aaxis": {
             "endlinecolor": "#2a3f5f",
             "gridcolor": "white",
             "linecolor": "white",
             "minorgridcolor": "white",
             "startlinecolor": "#2a3f5f"
            },
            "baxis": {
             "endlinecolor": "#2a3f5f",
             "gridcolor": "white",
             "linecolor": "white",
             "minorgridcolor": "white",
             "startlinecolor": "#2a3f5f"
            },
            "type": "carpet"
           }
          ],
          "choropleth": [
           {
            "colorbar": {
             "outlinewidth": 0,
             "ticks": ""
            },
            "type": "choropleth"
           }
          ],
          "contour": [
           {
            "colorbar": {
             "outlinewidth": 0,
             "ticks": ""
            },
            "colorscale": [
             [
              0,
              "#0d0887"
             ],
             [
              0.1111111111111111,
              "#46039f"
             ],
             [
              0.2222222222222222,
              "#7201a8"
             ],
             [
              0.3333333333333333,
              "#9c179e"
             ],
             [
              0.4444444444444444,
              "#bd3786"
             ],
             [
              0.5555555555555556,
              "#d8576b"
             ],
             [
              0.6666666666666666,
              "#ed7953"
             ],
             [
              0.7777777777777778,
              "#fb9f3a"
             ],
             [
              0.8888888888888888,
              "#fdca26"
             ],
             [
              1,
              "#f0f921"
             ]
            ],
            "type": "contour"
           }
          ],
          "contourcarpet": [
           {
            "colorbar": {
             "outlinewidth": 0,
             "ticks": ""
            },
            "type": "contourcarpet"
           }
          ],
          "heatmap": [
           {
            "colorbar": {
             "outlinewidth": 0,
             "ticks": ""
            },
            "colorscale": [
             [
              0,
              "#0d0887"
             ],
             [
              0.1111111111111111,
              "#46039f"
             ],
             [
              0.2222222222222222,
              "#7201a8"
             ],
             [
              0.3333333333333333,
              "#9c179e"
             ],
             [
              0.4444444444444444,
              "#bd3786"
             ],
             [
              0.5555555555555556,
              "#d8576b"
             ],
             [
              0.6666666666666666,
              "#ed7953"
             ],
             [
              0.7777777777777778,
              "#fb9f3a"
             ],
             [
              0.8888888888888888,
              "#fdca26"
             ],
             [
              1,
              "#f0f921"
             ]
            ],
            "type": "heatmap"
           }
          ],
          "heatmapgl": [
           {
            "colorbar": {
             "outlinewidth": 0,
             "ticks": ""
            },
            "colorscale": [
             [
              0,
              "#0d0887"
             ],
             [
              0.1111111111111111,
              "#46039f"
             ],
             [
              0.2222222222222222,
              "#7201a8"
             ],
             [
              0.3333333333333333,
              "#9c179e"
             ],
             [
              0.4444444444444444,
              "#bd3786"
             ],
             [
              0.5555555555555556,
              "#d8576b"
             ],
             [
              0.6666666666666666,
              "#ed7953"
             ],
             [
              0.7777777777777778,
              "#fb9f3a"
             ],
             [
              0.8888888888888888,
              "#fdca26"
             ],
             [
              1,
              "#f0f921"
             ]
            ],
            "type": "heatmapgl"
           }
          ],
          "histogram": [
           {
            "marker": {
             "pattern": {
              "fillmode": "overlay",
              "size": 10,
              "solidity": 0.2
             }
            },
            "type": "histogram"
           }
          ],
          "histogram2d": [
           {
            "colorbar": {
             "outlinewidth": 0,
             "ticks": ""
            },
            "colorscale": [
             [
              0,
              "#0d0887"
             ],
             [
              0.1111111111111111,
              "#46039f"
             ],
             [
              0.2222222222222222,
              "#7201a8"
             ],
             [
              0.3333333333333333,
              "#9c179e"
             ],
             [
              0.4444444444444444,
              "#bd3786"
             ],
             [
              0.5555555555555556,
              "#d8576b"
             ],
             [
              0.6666666666666666,
              "#ed7953"
             ],
             [
              0.7777777777777778,
              "#fb9f3a"
             ],
             [
              0.8888888888888888,
              "#fdca26"
             ],
             [
              1,
              "#f0f921"
             ]
            ],
            "type": "histogram2d"
           }
          ],
          "histogram2dcontour": [
           {
            "colorbar": {
             "outlinewidth": 0,
             "ticks": ""
            },
            "colorscale": [
             [
              0,
              "#0d0887"
             ],
             [
              0.1111111111111111,
              "#46039f"
             ],
             [
              0.2222222222222222,
              "#7201a8"
             ],
             [
              0.3333333333333333,
              "#9c179e"
             ],
             [
              0.4444444444444444,
              "#bd3786"
             ],
             [
              0.5555555555555556,
              "#d8576b"
             ],
             [
              0.6666666666666666,
              "#ed7953"
             ],
             [
              0.7777777777777778,
              "#fb9f3a"
             ],
             [
              0.8888888888888888,
              "#fdca26"
             ],
             [
              1,
              "#f0f921"
             ]
            ],
            "type": "histogram2dcontour"
           }
          ],
          "mesh3d": [
           {
            "colorbar": {
             "outlinewidth": 0,
             "ticks": ""
            },
            "type": "mesh3d"
           }
          ],
          "parcoords": [
           {
            "line": {
             "colorbar": {
              "outlinewidth": 0,
              "ticks": ""
             }
            },
            "type": "parcoords"
           }
          ],
          "pie": [
           {
            "automargin": true,
            "type": "pie"
           }
          ],
          "scatter": [
           {
            "fillpattern": {
             "fillmode": "overlay",
             "size": 10,
             "solidity": 0.2
            },
            "type": "scatter"
           }
          ],
          "scatter3d": [
           {
            "line": {
             "colorbar": {
              "outlinewidth": 0,
              "ticks": ""
             }
            },
            "marker": {
             "colorbar": {
              "outlinewidth": 0,
              "ticks": ""
             }
            },
            "type": "scatter3d"
           }
          ],
          "scattercarpet": [
           {
            "marker": {
             "colorbar": {
              "outlinewidth": 0,
              "ticks": ""
             }
            },
            "type": "scattercarpet"
           }
          ],
          "scattergeo": [
           {
            "marker": {
             "colorbar": {
              "outlinewidth": 0,
              "ticks": ""
             }
            },
            "type": "scattergeo"
           }
          ],
          "scattergl": [
           {
            "marker": {
             "colorbar": {
              "outlinewidth": 0,
              "ticks": ""
             }
            },
            "type": "scattergl"
           }
          ],
          "scattermapbox": [
           {
            "marker": {
             "colorbar": {
              "outlinewidth": 0,
              "ticks": ""
             }
            },
            "type": "scattermapbox"
           }
          ],
          "scatterpolar": [
           {
            "marker": {
             "colorbar": {
              "outlinewidth": 0,
              "ticks": ""
             }
            },
            "type": "scatterpolar"
           }
          ],
          "scatterpolargl": [
           {
            "marker": {
             "colorbar": {
              "outlinewidth": 0,
              "ticks": ""
             }
            },
            "type": "scatterpolargl"
           }
          ],
          "scatterternary": [
           {
            "marker": {
             "colorbar": {
              "outlinewidth": 0,
              "ticks": ""
             }
            },
            "type": "scatterternary"
           }
          ],
          "surface": [
           {
            "colorbar": {
             "outlinewidth": 0,
             "ticks": ""
            },
            "colorscale": [
             [
              0,
              "#0d0887"
             ],
             [
              0.1111111111111111,
              "#46039f"
             ],
             [
              0.2222222222222222,
              "#7201a8"
             ],
             [
              0.3333333333333333,
              "#9c179e"
             ],
             [
              0.4444444444444444,
              "#bd3786"
             ],
             [
              0.5555555555555556,
              "#d8576b"
             ],
             [
              0.6666666666666666,
              "#ed7953"
             ],
             [
              0.7777777777777778,
              "#fb9f3a"
             ],
             [
              0.8888888888888888,
              "#fdca26"
             ],
             [
              1,
              "#f0f921"
             ]
            ],
            "type": "surface"
           }
          ],
          "table": [
           {
            "cells": {
             "fill": {
              "color": "#EBF0F8"
             },
             "line": {
              "color": "white"
             }
            },
            "header": {
             "fill": {
              "color": "#C8D4E3"
             },
             "line": {
              "color": "white"
             }
            },
            "type": "table"
           }
          ]
         },
         "layout": {
          "annotationdefaults": {
           "arrowcolor": "#2a3f5f",
           "arrowhead": 0,
           "arrowwidth": 1
          },
          "autotypenumbers": "strict",
          "coloraxis": {
           "colorbar": {
            "outlinewidth": 0,
            "ticks": ""
           }
          },
          "colorscale": {
           "diverging": [
            [
             0,
             "#8e0152"
            ],
            [
             0.1,
             "#c51b7d"
            ],
            [
             0.2,
             "#de77ae"
            ],
            [
             0.3,
             "#f1b6da"
            ],
            [
             0.4,
             "#fde0ef"
            ],
            [
             0.5,
             "#f7f7f7"
            ],
            [
             0.6,
             "#e6f5d0"
            ],
            [
             0.7,
             "#b8e186"
            ],
            [
             0.8,
             "#7fbc41"
            ],
            [
             0.9,
             "#4d9221"
            ],
            [
             1,
             "#276419"
            ]
           ],
           "sequential": [
            [
             0,
             "#0d0887"
            ],
            [
             0.1111111111111111,
             "#46039f"
            ],
            [
             0.2222222222222222,
             "#7201a8"
            ],
            [
             0.3333333333333333,
             "#9c179e"
            ],
            [
             0.4444444444444444,
             "#bd3786"
            ],
            [
             0.5555555555555556,
             "#d8576b"
            ],
            [
             0.6666666666666666,
             "#ed7953"
            ],
            [
             0.7777777777777778,
             "#fb9f3a"
            ],
            [
             0.8888888888888888,
             "#fdca26"
            ],
            [
             1,
             "#f0f921"
            ]
           ],
           "sequentialminus": [
            [
             0,
             "#0d0887"
            ],
            [
             0.1111111111111111,
             "#46039f"
            ],
            [
             0.2222222222222222,
             "#7201a8"
            ],
            [
             0.3333333333333333,
             "#9c179e"
            ],
            [
             0.4444444444444444,
             "#bd3786"
            ],
            [
             0.5555555555555556,
             "#d8576b"
            ],
            [
             0.6666666666666666,
             "#ed7953"
            ],
            [
             0.7777777777777778,
             "#fb9f3a"
            ],
            [
             0.8888888888888888,
             "#fdca26"
            ],
            [
             1,
             "#f0f921"
            ]
           ]
          },
          "colorway": [
           "#636efa",
           "#EF553B",
           "#00cc96",
           "#ab63fa",
           "#FFA15A",
           "#19d3f3",
           "#FF6692",
           "#B6E880",
           "#FF97FF",
           "#FECB52"
          ],
          "font": {
           "color": "#2a3f5f"
          },
          "geo": {
           "bgcolor": "white",
           "lakecolor": "white",
           "landcolor": "#E5ECF6",
           "showlakes": true,
           "showland": true,
           "subunitcolor": "white"
          },
          "hoverlabel": {
           "align": "left"
          },
          "hovermode": "closest",
          "mapbox": {
           "style": "light"
          },
          "paper_bgcolor": "white",
          "plot_bgcolor": "#E5ECF6",
          "polar": {
           "angularaxis": {
            "gridcolor": "white",
            "linecolor": "white",
            "ticks": ""
           },
           "bgcolor": "#E5ECF6",
           "radialaxis": {
            "gridcolor": "white",
            "linecolor": "white",
            "ticks": ""
           }
          },
          "scene": {
           "xaxis": {
            "backgroundcolor": "#E5ECF6",
            "gridcolor": "white",
            "gridwidth": 2,
            "linecolor": "white",
            "showbackground": true,
            "ticks": "",
            "zerolinecolor": "white"
           },
           "yaxis": {
            "backgroundcolor": "#E5ECF6",
            "gridcolor": "white",
            "gridwidth": 2,
            "linecolor": "white",
            "showbackground": true,
            "ticks": "",
            "zerolinecolor": "white"
           },
           "zaxis": {
            "backgroundcolor": "#E5ECF6",
            "gridcolor": "white",
            "gridwidth": 2,
            "linecolor": "white",
            "showbackground": true,
            "ticks": "",
            "zerolinecolor": "white"
           }
          },
          "shapedefaults": {
           "line": {
            "color": "#2a3f5f"
           }
          },
          "ternary": {
           "aaxis": {
            "gridcolor": "white",
            "linecolor": "white",
            "ticks": ""
           },
           "baxis": {
            "gridcolor": "white",
            "linecolor": "white",
            "ticks": ""
           },
           "bgcolor": "#E5ECF6",
           "caxis": {
            "gridcolor": "white",
            "linecolor": "white",
            "ticks": ""
           }
          },
          "title": {
           "x": 0.05
          },
          "xaxis": {
           "automargin": true,
           "gridcolor": "white",
           "linecolor": "white",
           "ticks": "",
           "title": {
            "standoff": 15
           },
           "zerolinecolor": "white",
           "zerolinewidth": 2
          },
          "yaxis": {
           "automargin": true,
           "gridcolor": "white",
           "linecolor": "white",
           "ticks": "",
           "title": {
            "standoff": 15
           },
           "zerolinecolor": "white",
           "zerolinewidth": 2
          }
         }
        },
        "title": {
         "text": "Susceptibility Trends for Pseudomonas aeruginosa (Penicillins Group)"
        },
        "width": 1000,
        "xaxis": {
         "anchor": "y",
         "domain": [
          0,
          1
         ],
         "dtick": 1,
         "tick0": 2018,
         "tickmode": "linear",
         "title": {
          "text": "Year"
         }
        },
        "yaxis": {
         "anchor": "x",
         "domain": [
          0,
          1
         ],
         "title": {
          "text": "Percentage (%)"
         }
        }
       }
      }
     },
     "metadata": {},
     "output_type": "display_data"
    },
    {
     "name": "stdout",
     "output_type": "stream",
     "text": [
      "Visualizing results for Antibiotic Group: Cephalosporins\n",
      "No data available for Ceftriaxone_I\n"
     ]
    },
    {
     "data": {
      "application/vnd.plotly.v1+json": {
       "config": {
        "plotlyServerURL": "https://plot.ly"
       },
       "data": [
        {
         "hovertemplate": "Antibiotic=Ceftazidime<br>Resistance Category=Susceptible<br>Year=%{x}<br>Percentage (%)=%{y}<extra></extra>",
         "legendgroup": "Ceftazidime, Susceptible",
         "line": {
          "color": "#636efa",
          "dash": "solid"
         },
         "marker": {
          "symbol": "circle"
         },
         "mode": "markers+lines",
         "name": "Ceftazidime, Susceptible",
         "orientation": "v",
         "showlegend": true,
         "type": "scatter",
         "x": [
          2018,
          2019,
          2020,
          2021,
          2022
         ],
         "xaxis": "x",
         "y": [
          76.53,
          76.53,
          0,
          0,
          0
         ],
         "yaxis": "y"
        },
        {
         "hovertemplate": "Antibiotic=Ceftazidime<br>Resistance Category=Intermediate<br>Year=%{x}<br>Percentage (%)=%{y}<extra></extra>",
         "legendgroup": "Ceftazidime, Intermediate",
         "line": {
          "color": "#636efa",
          "dash": "dot"
         },
         "marker": {
          "symbol": "circle"
         },
         "mode": "markers+lines",
         "name": "Ceftazidime, Intermediate",
         "orientation": "v",
         "showlegend": true,
         "type": "scatter",
         "x": [
          2018,
          2019,
          2020,
          2021,
          2022
         ],
         "xaxis": "x",
         "y": [
          0,
          0,
          77.72,
          77.35,
          79.17
         ],
         "yaxis": "y"
        },
        {
         "hovertemplate": "Antibiotic=Ceftazidime<br>Resistance Category=Resistant<br>Year=%{x}<br>Percentage (%)=%{y}<extra></extra>",
         "legendgroup": "Ceftazidime, Resistant",
         "line": {
          "color": "#636efa",
          "dash": "dash"
         },
         "marker": {
          "symbol": "circle"
         },
         "mode": "markers+lines",
         "name": "Ceftazidime, Resistant",
         "orientation": "v",
         "showlegend": true,
         "type": "scatter",
         "x": [
          2018,
          2019,
          2020,
          2021,
          2022
         ],
         "xaxis": "x",
         "y": [
          23.47,
          23.47,
          22.28,
          22.65,
          20.83
         ],
         "yaxis": "y"
        },
        {
         "hovertemplate": "Antibiotic=Cefepime<br>Resistance Category=Susceptible<br>Year=%{x}<br>Percentage (%)=%{y}<extra></extra>",
         "legendgroup": "Cefepime, Susceptible",
         "line": {
          "color": "#EF553B",
          "dash": "solid"
         },
         "marker": {
          "symbol": "circle"
         },
         "mode": "markers+lines",
         "name": "Cefepime, Susceptible",
         "orientation": "v",
         "showlegend": true,
         "type": "scatter",
         "x": [
          2018,
          2019,
          2020,
          2021,
          2022
         ],
         "xaxis": "x",
         "y": [
          78.84,
          78.16,
          0,
          0,
          0
         ],
         "yaxis": "y"
        },
        {
         "hovertemplate": "Antibiotic=Cefepime<br>Resistance Category=Intermediate<br>Year=%{x}<br>Percentage (%)=%{y}<extra></extra>",
         "legendgroup": "Cefepime, Intermediate",
         "line": {
          "color": "#EF553B",
          "dash": "dot"
         },
         "marker": {
          "symbol": "circle"
         },
         "mode": "markers+lines",
         "name": "Cefepime, Intermediate",
         "orientation": "v",
         "showlegend": true,
         "type": "scatter",
         "x": [
          2018,
          2019,
          2020,
          2021,
          2022
         ],
         "xaxis": "x",
         "y": [
          0,
          0,
          79.69,
          78.18,
          81.03
         ],
         "yaxis": "y"
        },
        {
         "hovertemplate": "Antibiotic=Cefepime<br>Resistance Category=Resistant<br>Year=%{x}<br>Percentage (%)=%{y}<extra></extra>",
         "legendgroup": "Cefepime, Resistant",
         "line": {
          "color": "#EF553B",
          "dash": "dash"
         },
         "marker": {
          "symbol": "circle"
         },
         "mode": "markers+lines",
         "name": "Cefepime, Resistant",
         "orientation": "v",
         "showlegend": true,
         "type": "scatter",
         "x": [
          2018,
          2019,
          2020,
          2021,
          2022
         ],
         "xaxis": "x",
         "y": [
          21.16,
          21.84,
          20.31,
          21.82,
          18.97
         ],
         "yaxis": "y"
        }
       ],
       "layout": {
        "height": 600,
        "legend": {
         "title": {
          "text": "Antibiotic / Resistance Category"
         },
         "tracegroupgap": 0
        },
        "template": {
         "data": {
          "bar": [
           {
            "error_x": {
             "color": "#2a3f5f"
            },
            "error_y": {
             "color": "#2a3f5f"
            },
            "marker": {
             "line": {
              "color": "#E5ECF6",
              "width": 0.5
             },
             "pattern": {
              "fillmode": "overlay",
              "size": 10,
              "solidity": 0.2
             }
            },
            "type": "bar"
           }
          ],
          "barpolar": [
           {
            "marker": {
             "line": {
              "color": "#E5ECF6",
              "width": 0.5
             },
             "pattern": {
              "fillmode": "overlay",
              "size": 10,
              "solidity": 0.2
             }
            },
            "type": "barpolar"
           }
          ],
          "carpet": [
           {
            "aaxis": {
             "endlinecolor": "#2a3f5f",
             "gridcolor": "white",
             "linecolor": "white",
             "minorgridcolor": "white",
             "startlinecolor": "#2a3f5f"
            },
            "baxis": {
             "endlinecolor": "#2a3f5f",
             "gridcolor": "white",
             "linecolor": "white",
             "minorgridcolor": "white",
             "startlinecolor": "#2a3f5f"
            },
            "type": "carpet"
           }
          ],
          "choropleth": [
           {
            "colorbar": {
             "outlinewidth": 0,
             "ticks": ""
            },
            "type": "choropleth"
           }
          ],
          "contour": [
           {
            "colorbar": {
             "outlinewidth": 0,
             "ticks": ""
            },
            "colorscale": [
             [
              0,
              "#0d0887"
             ],
             [
              0.1111111111111111,
              "#46039f"
             ],
             [
              0.2222222222222222,
              "#7201a8"
             ],
             [
              0.3333333333333333,
              "#9c179e"
             ],
             [
              0.4444444444444444,
              "#bd3786"
             ],
             [
              0.5555555555555556,
              "#d8576b"
             ],
             [
              0.6666666666666666,
              "#ed7953"
             ],
             [
              0.7777777777777778,
              "#fb9f3a"
             ],
             [
              0.8888888888888888,
              "#fdca26"
             ],
             [
              1,
              "#f0f921"
             ]
            ],
            "type": "contour"
           }
          ],
          "contourcarpet": [
           {
            "colorbar": {
             "outlinewidth": 0,
             "ticks": ""
            },
            "type": "contourcarpet"
           }
          ],
          "heatmap": [
           {
            "colorbar": {
             "outlinewidth": 0,
             "ticks": ""
            },
            "colorscale": [
             [
              0,
              "#0d0887"
             ],
             [
              0.1111111111111111,
              "#46039f"
             ],
             [
              0.2222222222222222,
              "#7201a8"
             ],
             [
              0.3333333333333333,
              "#9c179e"
             ],
             [
              0.4444444444444444,
              "#bd3786"
             ],
             [
              0.5555555555555556,
              "#d8576b"
             ],
             [
              0.6666666666666666,
              "#ed7953"
             ],
             [
              0.7777777777777778,
              "#fb9f3a"
             ],
             [
              0.8888888888888888,
              "#fdca26"
             ],
             [
              1,
              "#f0f921"
             ]
            ],
            "type": "heatmap"
           }
          ],
          "heatmapgl": [
           {
            "colorbar": {
             "outlinewidth": 0,
             "ticks": ""
            },
            "colorscale": [
             [
              0,
              "#0d0887"
             ],
             [
              0.1111111111111111,
              "#46039f"
             ],
             [
              0.2222222222222222,
              "#7201a8"
             ],
             [
              0.3333333333333333,
              "#9c179e"
             ],
             [
              0.4444444444444444,
              "#bd3786"
             ],
             [
              0.5555555555555556,
              "#d8576b"
             ],
             [
              0.6666666666666666,
              "#ed7953"
             ],
             [
              0.7777777777777778,
              "#fb9f3a"
             ],
             [
              0.8888888888888888,
              "#fdca26"
             ],
             [
              1,
              "#f0f921"
             ]
            ],
            "type": "heatmapgl"
           }
          ],
          "histogram": [
           {
            "marker": {
             "pattern": {
              "fillmode": "overlay",
              "size": 10,
              "solidity": 0.2
             }
            },
            "type": "histogram"
           }
          ],
          "histogram2d": [
           {
            "colorbar": {
             "outlinewidth": 0,
             "ticks": ""
            },
            "colorscale": [
             [
              0,
              "#0d0887"
             ],
             [
              0.1111111111111111,
              "#46039f"
             ],
             [
              0.2222222222222222,
              "#7201a8"
             ],
             [
              0.3333333333333333,
              "#9c179e"
             ],
             [
              0.4444444444444444,
              "#bd3786"
             ],
             [
              0.5555555555555556,
              "#d8576b"
             ],
             [
              0.6666666666666666,
              "#ed7953"
             ],
             [
              0.7777777777777778,
              "#fb9f3a"
             ],
             [
              0.8888888888888888,
              "#fdca26"
             ],
             [
              1,
              "#f0f921"
             ]
            ],
            "type": "histogram2d"
           }
          ],
          "histogram2dcontour": [
           {
            "colorbar": {
             "outlinewidth": 0,
             "ticks": ""
            },
            "colorscale": [
             [
              0,
              "#0d0887"
             ],
             [
              0.1111111111111111,
              "#46039f"
             ],
             [
              0.2222222222222222,
              "#7201a8"
             ],
             [
              0.3333333333333333,
              "#9c179e"
             ],
             [
              0.4444444444444444,
              "#bd3786"
             ],
             [
              0.5555555555555556,
              "#d8576b"
             ],
             [
              0.6666666666666666,
              "#ed7953"
             ],
             [
              0.7777777777777778,
              "#fb9f3a"
             ],
             [
              0.8888888888888888,
              "#fdca26"
             ],
             [
              1,
              "#f0f921"
             ]
            ],
            "type": "histogram2dcontour"
           }
          ],
          "mesh3d": [
           {
            "colorbar": {
             "outlinewidth": 0,
             "ticks": ""
            },
            "type": "mesh3d"
           }
          ],
          "parcoords": [
           {
            "line": {
             "colorbar": {
              "outlinewidth": 0,
              "ticks": ""
             }
            },
            "type": "parcoords"
           }
          ],
          "pie": [
           {
            "automargin": true,
            "type": "pie"
           }
          ],
          "scatter": [
           {
            "fillpattern": {
             "fillmode": "overlay",
             "size": 10,
             "solidity": 0.2
            },
            "type": "scatter"
           }
          ],
          "scatter3d": [
           {
            "line": {
             "colorbar": {
              "outlinewidth": 0,
              "ticks": ""
             }
            },
            "marker": {
             "colorbar": {
              "outlinewidth": 0,
              "ticks": ""
             }
            },
            "type": "scatter3d"
           }
          ],
          "scattercarpet": [
           {
            "marker": {
             "colorbar": {
              "outlinewidth": 0,
              "ticks": ""
             }
            },
            "type": "scattercarpet"
           }
          ],
          "scattergeo": [
           {
            "marker": {
             "colorbar": {
              "outlinewidth": 0,
              "ticks": ""
             }
            },
            "type": "scattergeo"
           }
          ],
          "scattergl": [
           {
            "marker": {
             "colorbar": {
              "outlinewidth": 0,
              "ticks": ""
             }
            },
            "type": "scattergl"
           }
          ],
          "scattermapbox": [
           {
            "marker": {
             "colorbar": {
              "outlinewidth": 0,
              "ticks": ""
             }
            },
            "type": "scattermapbox"
           }
          ],
          "scatterpolar": [
           {
            "marker": {
             "colorbar": {
              "outlinewidth": 0,
              "ticks": ""
             }
            },
            "type": "scatterpolar"
           }
          ],
          "scatterpolargl": [
           {
            "marker": {
             "colorbar": {
              "outlinewidth": 0,
              "ticks": ""
             }
            },
            "type": "scatterpolargl"
           }
          ],
          "scatterternary": [
           {
            "marker": {
             "colorbar": {
              "outlinewidth": 0,
              "ticks": ""
             }
            },
            "type": "scatterternary"
           }
          ],
          "surface": [
           {
            "colorbar": {
             "outlinewidth": 0,
             "ticks": ""
            },
            "colorscale": [
             [
              0,
              "#0d0887"
             ],
             [
              0.1111111111111111,
              "#46039f"
             ],
             [
              0.2222222222222222,
              "#7201a8"
             ],
             [
              0.3333333333333333,
              "#9c179e"
             ],
             [
              0.4444444444444444,
              "#bd3786"
             ],
             [
              0.5555555555555556,
              "#d8576b"
             ],
             [
              0.6666666666666666,
              "#ed7953"
             ],
             [
              0.7777777777777778,
              "#fb9f3a"
             ],
             [
              0.8888888888888888,
              "#fdca26"
             ],
             [
              1,
              "#f0f921"
             ]
            ],
            "type": "surface"
           }
          ],
          "table": [
           {
            "cells": {
             "fill": {
              "color": "#EBF0F8"
             },
             "line": {
              "color": "white"
             }
            },
            "header": {
             "fill": {
              "color": "#C8D4E3"
             },
             "line": {
              "color": "white"
             }
            },
            "type": "table"
           }
          ]
         },
         "layout": {
          "annotationdefaults": {
           "arrowcolor": "#2a3f5f",
           "arrowhead": 0,
           "arrowwidth": 1
          },
          "autotypenumbers": "strict",
          "coloraxis": {
           "colorbar": {
            "outlinewidth": 0,
            "ticks": ""
           }
          },
          "colorscale": {
           "diverging": [
            [
             0,
             "#8e0152"
            ],
            [
             0.1,
             "#c51b7d"
            ],
            [
             0.2,
             "#de77ae"
            ],
            [
             0.3,
             "#f1b6da"
            ],
            [
             0.4,
             "#fde0ef"
            ],
            [
             0.5,
             "#f7f7f7"
            ],
            [
             0.6,
             "#e6f5d0"
            ],
            [
             0.7,
             "#b8e186"
            ],
            [
             0.8,
             "#7fbc41"
            ],
            [
             0.9,
             "#4d9221"
            ],
            [
             1,
             "#276419"
            ]
           ],
           "sequential": [
            [
             0,
             "#0d0887"
            ],
            [
             0.1111111111111111,
             "#46039f"
            ],
            [
             0.2222222222222222,
             "#7201a8"
            ],
            [
             0.3333333333333333,
             "#9c179e"
            ],
            [
             0.4444444444444444,
             "#bd3786"
            ],
            [
             0.5555555555555556,
             "#d8576b"
            ],
            [
             0.6666666666666666,
             "#ed7953"
            ],
            [
             0.7777777777777778,
             "#fb9f3a"
            ],
            [
             0.8888888888888888,
             "#fdca26"
            ],
            [
             1,
             "#f0f921"
            ]
           ],
           "sequentialminus": [
            [
             0,
             "#0d0887"
            ],
            [
             0.1111111111111111,
             "#46039f"
            ],
            [
             0.2222222222222222,
             "#7201a8"
            ],
            [
             0.3333333333333333,
             "#9c179e"
            ],
            [
             0.4444444444444444,
             "#bd3786"
            ],
            [
             0.5555555555555556,
             "#d8576b"
            ],
            [
             0.6666666666666666,
             "#ed7953"
            ],
            [
             0.7777777777777778,
             "#fb9f3a"
            ],
            [
             0.8888888888888888,
             "#fdca26"
            ],
            [
             1,
             "#f0f921"
            ]
           ]
          },
          "colorway": [
           "#636efa",
           "#EF553B",
           "#00cc96",
           "#ab63fa",
           "#FFA15A",
           "#19d3f3",
           "#FF6692",
           "#B6E880",
           "#FF97FF",
           "#FECB52"
          ],
          "font": {
           "color": "#2a3f5f"
          },
          "geo": {
           "bgcolor": "white",
           "lakecolor": "white",
           "landcolor": "#E5ECF6",
           "showlakes": true,
           "showland": true,
           "subunitcolor": "white"
          },
          "hoverlabel": {
           "align": "left"
          },
          "hovermode": "closest",
          "mapbox": {
           "style": "light"
          },
          "paper_bgcolor": "white",
          "plot_bgcolor": "#E5ECF6",
          "polar": {
           "angularaxis": {
            "gridcolor": "white",
            "linecolor": "white",
            "ticks": ""
           },
           "bgcolor": "#E5ECF6",
           "radialaxis": {
            "gridcolor": "white",
            "linecolor": "white",
            "ticks": ""
           }
          },
          "scene": {
           "xaxis": {
            "backgroundcolor": "#E5ECF6",
            "gridcolor": "white",
            "gridwidth": 2,
            "linecolor": "white",
            "showbackground": true,
            "ticks": "",
            "zerolinecolor": "white"
           },
           "yaxis": {
            "backgroundcolor": "#E5ECF6",
            "gridcolor": "white",
            "gridwidth": 2,
            "linecolor": "white",
            "showbackground": true,
            "ticks": "",
            "zerolinecolor": "white"
           },
           "zaxis": {
            "backgroundcolor": "#E5ECF6",
            "gridcolor": "white",
            "gridwidth": 2,
            "linecolor": "white",
            "showbackground": true,
            "ticks": "",
            "zerolinecolor": "white"
           }
          },
          "shapedefaults": {
           "line": {
            "color": "#2a3f5f"
           }
          },
          "ternary": {
           "aaxis": {
            "gridcolor": "white",
            "linecolor": "white",
            "ticks": ""
           },
           "baxis": {
            "gridcolor": "white",
            "linecolor": "white",
            "ticks": ""
           },
           "bgcolor": "#E5ECF6",
           "caxis": {
            "gridcolor": "white",
            "linecolor": "white",
            "ticks": ""
           }
          },
          "title": {
           "x": 0.05
          },
          "xaxis": {
           "automargin": true,
           "gridcolor": "white",
           "linecolor": "white",
           "ticks": "",
           "title": {
            "standoff": 15
           },
           "zerolinecolor": "white",
           "zerolinewidth": 2
          },
          "yaxis": {
           "automargin": true,
           "gridcolor": "white",
           "linecolor": "white",
           "ticks": "",
           "title": {
            "standoff": 15
           },
           "zerolinecolor": "white",
           "zerolinewidth": 2
          }
         }
        },
        "title": {
         "text": "Susceptibility Trends for Pseudomonas aeruginosa (Cephalosporins Group)"
        },
        "width": 1000,
        "xaxis": {
         "anchor": "y",
         "domain": [
          0,
          1
         ],
         "dtick": 1,
         "tick0": 2018,
         "tickmode": "linear",
         "title": {
          "text": "Year"
         }
        },
        "yaxis": {
         "anchor": "x",
         "domain": [
          0,
          1
         ],
         "title": {
          "text": "Percentage (%)"
         }
        }
       }
      }
     },
     "metadata": {},
     "output_type": "display_data"
    },
    {
     "name": "stdout",
     "output_type": "stream",
     "text": [
      "Visualizing results for Antibiotic Group: Carbapenems\n"
     ]
    },
    {
     "data": {
      "application/vnd.plotly.v1+json": {
       "config": {
        "plotlyServerURL": "https://plot.ly"
       },
       "data": [
        {
         "hovertemplate": "Antibiotic=Imipenem<br>Resistance Category=Susceptible<br>Year=%{x}<br>Percentage (%)=%{y}<extra></extra>",
         "legendgroup": "Imipenem, Susceptible",
         "line": {
          "color": "#636efa",
          "dash": "solid"
         },
         "marker": {
          "symbol": "circle"
         },
         "mode": "markers+lines",
         "name": "Imipenem, Susceptible",
         "orientation": "v",
         "showlegend": true,
         "type": "scatter",
         "x": [
          2018,
          2019,
          2020,
          2021,
          2022
         ],
         "xaxis": "x",
         "y": [
          72.86,
          73.08,
          0,
          0,
          0
         ],
         "yaxis": "y"
        },
        {
         "hovertemplate": "Antibiotic=Imipenem<br>Resistance Category=Intermediate<br>Year=%{x}<br>Percentage (%)=%{y}<extra></extra>",
         "legendgroup": "Imipenem, Intermediate",
         "line": {
          "color": "#636efa",
          "dash": "dot"
         },
         "marker": {
          "symbol": "circle"
         },
         "mode": "markers+lines",
         "name": "Imipenem, Intermediate",
         "orientation": "v",
         "showlegend": true,
         "type": "scatter",
         "x": [
          2018,
          2019,
          2020,
          2021,
          2022
         ],
         "xaxis": "x",
         "y": [
          23.86,
          0,
          73.61,
          73.77,
          75.99
         ],
         "yaxis": "y"
        },
        {
         "hovertemplate": "Antibiotic=Imipenem<br>Resistance Category=Resistant<br>Year=%{x}<br>Percentage (%)=%{y}<extra></extra>",
         "legendgroup": "Imipenem, Resistant",
         "line": {
          "color": "#636efa",
          "dash": "dash"
         },
         "marker": {
          "symbol": "circle"
         },
         "mode": "markers+lines",
         "name": "Imipenem, Resistant",
         "orientation": "v",
         "showlegend": true,
         "type": "scatter",
         "x": [
          2018,
          2019,
          2020,
          2021,
          2022
         ],
         "xaxis": "x",
         "y": [
          3.28,
          26.92,
          26.39,
          26.23,
          24.01
         ],
         "yaxis": "y"
        },
        {
         "hovertemplate": "Antibiotic=Meropenem<br>Resistance Category=Susceptible<br>Year=%{x}<br>Percentage (%)=%{y}<extra></extra>",
         "legendgroup": "Meropenem, Susceptible",
         "line": {
          "color": "#EF553B",
          "dash": "solid"
         },
         "marker": {
          "symbol": "circle"
         },
         "mode": "markers+lines",
         "name": "Meropenem, Susceptible",
         "orientation": "v",
         "showlegend": true,
         "type": "scatter",
         "x": [
          2018,
          2019,
          2020,
          2021,
          2022
         ],
         "xaxis": "x",
         "y": [
          73.64,
          73.45,
          75.28,
          73.89,
          77.71
         ],
         "yaxis": "y"
        },
        {
         "hovertemplate": "Antibiotic=Meropenem<br>Resistance Category=Intermediate<br>Year=%{x}<br>Percentage (%)=%{y}<extra></extra>",
         "legendgroup": "Meropenem, Intermediate",
         "line": {
          "color": "#EF553B",
          "dash": "dot"
         },
         "marker": {
          "symbol": "circle"
         },
         "mode": "markers+lines",
         "name": "Meropenem, Intermediate",
         "orientation": "v",
         "showlegend": true,
         "type": "scatter",
         "x": [
          2018,
          2019,
          2020,
          2021,
          2022
         ],
         "xaxis": "x",
         "y": [
          12.24,
          11.29,
          11.22,
          11.95,
          10.19
         ],
         "yaxis": "y"
        },
        {
         "hovertemplate": "Antibiotic=Meropenem<br>Resistance Category=Resistant<br>Year=%{x}<br>Percentage (%)=%{y}<extra></extra>",
         "legendgroup": "Meropenem, Resistant",
         "line": {
          "color": "#EF553B",
          "dash": "dash"
         },
         "marker": {
          "symbol": "circle"
         },
         "mode": "markers+lines",
         "name": "Meropenem, Resistant",
         "orientation": "v",
         "showlegend": true,
         "type": "scatter",
         "x": [
          2018,
          2019,
          2020,
          2021,
          2022
         ],
         "xaxis": "x",
         "y": [
          14.12,
          15.26,
          13.5,
          14.16,
          12.11
         ],
         "yaxis": "y"
        }
       ],
       "layout": {
        "height": 600,
        "legend": {
         "title": {
          "text": "Antibiotic / Resistance Category"
         },
         "tracegroupgap": 0
        },
        "template": {
         "data": {
          "bar": [
           {
            "error_x": {
             "color": "#2a3f5f"
            },
            "error_y": {
             "color": "#2a3f5f"
            },
            "marker": {
             "line": {
              "color": "#E5ECF6",
              "width": 0.5
             },
             "pattern": {
              "fillmode": "overlay",
              "size": 10,
              "solidity": 0.2
             }
            },
            "type": "bar"
           }
          ],
          "barpolar": [
           {
            "marker": {
             "line": {
              "color": "#E5ECF6",
              "width": 0.5
             },
             "pattern": {
              "fillmode": "overlay",
              "size": 10,
              "solidity": 0.2
             }
            },
            "type": "barpolar"
           }
          ],
          "carpet": [
           {
            "aaxis": {
             "endlinecolor": "#2a3f5f",
             "gridcolor": "white",
             "linecolor": "white",
             "minorgridcolor": "white",
             "startlinecolor": "#2a3f5f"
            },
            "baxis": {
             "endlinecolor": "#2a3f5f",
             "gridcolor": "white",
             "linecolor": "white",
             "minorgridcolor": "white",
             "startlinecolor": "#2a3f5f"
            },
            "type": "carpet"
           }
          ],
          "choropleth": [
           {
            "colorbar": {
             "outlinewidth": 0,
             "ticks": ""
            },
            "type": "choropleth"
           }
          ],
          "contour": [
           {
            "colorbar": {
             "outlinewidth": 0,
             "ticks": ""
            },
            "colorscale": [
             [
              0,
              "#0d0887"
             ],
             [
              0.1111111111111111,
              "#46039f"
             ],
             [
              0.2222222222222222,
              "#7201a8"
             ],
             [
              0.3333333333333333,
              "#9c179e"
             ],
             [
              0.4444444444444444,
              "#bd3786"
             ],
             [
              0.5555555555555556,
              "#d8576b"
             ],
             [
              0.6666666666666666,
              "#ed7953"
             ],
             [
              0.7777777777777778,
              "#fb9f3a"
             ],
             [
              0.8888888888888888,
              "#fdca26"
             ],
             [
              1,
              "#f0f921"
             ]
            ],
            "type": "contour"
           }
          ],
          "contourcarpet": [
           {
            "colorbar": {
             "outlinewidth": 0,
             "ticks": ""
            },
            "type": "contourcarpet"
           }
          ],
          "heatmap": [
           {
            "colorbar": {
             "outlinewidth": 0,
             "ticks": ""
            },
            "colorscale": [
             [
              0,
              "#0d0887"
             ],
             [
              0.1111111111111111,
              "#46039f"
             ],
             [
              0.2222222222222222,
              "#7201a8"
             ],
             [
              0.3333333333333333,
              "#9c179e"
             ],
             [
              0.4444444444444444,
              "#bd3786"
             ],
             [
              0.5555555555555556,
              "#d8576b"
             ],
             [
              0.6666666666666666,
              "#ed7953"
             ],
             [
              0.7777777777777778,
              "#fb9f3a"
             ],
             [
              0.8888888888888888,
              "#fdca26"
             ],
             [
              1,
              "#f0f921"
             ]
            ],
            "type": "heatmap"
           }
          ],
          "heatmapgl": [
           {
            "colorbar": {
             "outlinewidth": 0,
             "ticks": ""
            },
            "colorscale": [
             [
              0,
              "#0d0887"
             ],
             [
              0.1111111111111111,
              "#46039f"
             ],
             [
              0.2222222222222222,
              "#7201a8"
             ],
             [
              0.3333333333333333,
              "#9c179e"
             ],
             [
              0.4444444444444444,
              "#bd3786"
             ],
             [
              0.5555555555555556,
              "#d8576b"
             ],
             [
              0.6666666666666666,
              "#ed7953"
             ],
             [
              0.7777777777777778,
              "#fb9f3a"
             ],
             [
              0.8888888888888888,
              "#fdca26"
             ],
             [
              1,
              "#f0f921"
             ]
            ],
            "type": "heatmapgl"
           }
          ],
          "histogram": [
           {
            "marker": {
             "pattern": {
              "fillmode": "overlay",
              "size": 10,
              "solidity": 0.2
             }
            },
            "type": "histogram"
           }
          ],
          "histogram2d": [
           {
            "colorbar": {
             "outlinewidth": 0,
             "ticks": ""
            },
            "colorscale": [
             [
              0,
              "#0d0887"
             ],
             [
              0.1111111111111111,
              "#46039f"
             ],
             [
              0.2222222222222222,
              "#7201a8"
             ],
             [
              0.3333333333333333,
              "#9c179e"
             ],
             [
              0.4444444444444444,
              "#bd3786"
             ],
             [
              0.5555555555555556,
              "#d8576b"
             ],
             [
              0.6666666666666666,
              "#ed7953"
             ],
             [
              0.7777777777777778,
              "#fb9f3a"
             ],
             [
              0.8888888888888888,
              "#fdca26"
             ],
             [
              1,
              "#f0f921"
             ]
            ],
            "type": "histogram2d"
           }
          ],
          "histogram2dcontour": [
           {
            "colorbar": {
             "outlinewidth": 0,
             "ticks": ""
            },
            "colorscale": [
             [
              0,
              "#0d0887"
             ],
             [
              0.1111111111111111,
              "#46039f"
             ],
             [
              0.2222222222222222,
              "#7201a8"
             ],
             [
              0.3333333333333333,
              "#9c179e"
             ],
             [
              0.4444444444444444,
              "#bd3786"
             ],
             [
              0.5555555555555556,
              "#d8576b"
             ],
             [
              0.6666666666666666,
              "#ed7953"
             ],
             [
              0.7777777777777778,
              "#fb9f3a"
             ],
             [
              0.8888888888888888,
              "#fdca26"
             ],
             [
              1,
              "#f0f921"
             ]
            ],
            "type": "histogram2dcontour"
           }
          ],
          "mesh3d": [
           {
            "colorbar": {
             "outlinewidth": 0,
             "ticks": ""
            },
            "type": "mesh3d"
           }
          ],
          "parcoords": [
           {
            "line": {
             "colorbar": {
              "outlinewidth": 0,
              "ticks": ""
             }
            },
            "type": "parcoords"
           }
          ],
          "pie": [
           {
            "automargin": true,
            "type": "pie"
           }
          ],
          "scatter": [
           {
            "fillpattern": {
             "fillmode": "overlay",
             "size": 10,
             "solidity": 0.2
            },
            "type": "scatter"
           }
          ],
          "scatter3d": [
           {
            "line": {
             "colorbar": {
              "outlinewidth": 0,
              "ticks": ""
             }
            },
            "marker": {
             "colorbar": {
              "outlinewidth": 0,
              "ticks": ""
             }
            },
            "type": "scatter3d"
           }
          ],
          "scattercarpet": [
           {
            "marker": {
             "colorbar": {
              "outlinewidth": 0,
              "ticks": ""
             }
            },
            "type": "scattercarpet"
           }
          ],
          "scattergeo": [
           {
            "marker": {
             "colorbar": {
              "outlinewidth": 0,
              "ticks": ""
             }
            },
            "type": "scattergeo"
           }
          ],
          "scattergl": [
           {
            "marker": {
             "colorbar": {
              "outlinewidth": 0,
              "ticks": ""
             }
            },
            "type": "scattergl"
           }
          ],
          "scattermapbox": [
           {
            "marker": {
             "colorbar": {
              "outlinewidth": 0,
              "ticks": ""
             }
            },
            "type": "scattermapbox"
           }
          ],
          "scatterpolar": [
           {
            "marker": {
             "colorbar": {
              "outlinewidth": 0,
              "ticks": ""
             }
            },
            "type": "scatterpolar"
           }
          ],
          "scatterpolargl": [
           {
            "marker": {
             "colorbar": {
              "outlinewidth": 0,
              "ticks": ""
             }
            },
            "type": "scatterpolargl"
           }
          ],
          "scatterternary": [
           {
            "marker": {
             "colorbar": {
              "outlinewidth": 0,
              "ticks": ""
             }
            },
            "type": "scatterternary"
           }
          ],
          "surface": [
           {
            "colorbar": {
             "outlinewidth": 0,
             "ticks": ""
            },
            "colorscale": [
             [
              0,
              "#0d0887"
             ],
             [
              0.1111111111111111,
              "#46039f"
             ],
             [
              0.2222222222222222,
              "#7201a8"
             ],
             [
              0.3333333333333333,
              "#9c179e"
             ],
             [
              0.4444444444444444,
              "#bd3786"
             ],
             [
              0.5555555555555556,
              "#d8576b"
             ],
             [
              0.6666666666666666,
              "#ed7953"
             ],
             [
              0.7777777777777778,
              "#fb9f3a"
             ],
             [
              0.8888888888888888,
              "#fdca26"
             ],
             [
              1,
              "#f0f921"
             ]
            ],
            "type": "surface"
           }
          ],
          "table": [
           {
            "cells": {
             "fill": {
              "color": "#EBF0F8"
             },
             "line": {
              "color": "white"
             }
            },
            "header": {
             "fill": {
              "color": "#C8D4E3"
             },
             "line": {
              "color": "white"
             }
            },
            "type": "table"
           }
          ]
         },
         "layout": {
          "annotationdefaults": {
           "arrowcolor": "#2a3f5f",
           "arrowhead": 0,
           "arrowwidth": 1
          },
          "autotypenumbers": "strict",
          "coloraxis": {
           "colorbar": {
            "outlinewidth": 0,
            "ticks": ""
           }
          },
          "colorscale": {
           "diverging": [
            [
             0,
             "#8e0152"
            ],
            [
             0.1,
             "#c51b7d"
            ],
            [
             0.2,
             "#de77ae"
            ],
            [
             0.3,
             "#f1b6da"
            ],
            [
             0.4,
             "#fde0ef"
            ],
            [
             0.5,
             "#f7f7f7"
            ],
            [
             0.6,
             "#e6f5d0"
            ],
            [
             0.7,
             "#b8e186"
            ],
            [
             0.8,
             "#7fbc41"
            ],
            [
             0.9,
             "#4d9221"
            ],
            [
             1,
             "#276419"
            ]
           ],
           "sequential": [
            [
             0,
             "#0d0887"
            ],
            [
             0.1111111111111111,
             "#46039f"
            ],
            [
             0.2222222222222222,
             "#7201a8"
            ],
            [
             0.3333333333333333,
             "#9c179e"
            ],
            [
             0.4444444444444444,
             "#bd3786"
            ],
            [
             0.5555555555555556,
             "#d8576b"
            ],
            [
             0.6666666666666666,
             "#ed7953"
            ],
            [
             0.7777777777777778,
             "#fb9f3a"
            ],
            [
             0.8888888888888888,
             "#fdca26"
            ],
            [
             1,
             "#f0f921"
            ]
           ],
           "sequentialminus": [
            [
             0,
             "#0d0887"
            ],
            [
             0.1111111111111111,
             "#46039f"
            ],
            [
             0.2222222222222222,
             "#7201a8"
            ],
            [
             0.3333333333333333,
             "#9c179e"
            ],
            [
             0.4444444444444444,
             "#bd3786"
            ],
            [
             0.5555555555555556,
             "#d8576b"
            ],
            [
             0.6666666666666666,
             "#ed7953"
            ],
            [
             0.7777777777777778,
             "#fb9f3a"
            ],
            [
             0.8888888888888888,
             "#fdca26"
            ],
            [
             1,
             "#f0f921"
            ]
           ]
          },
          "colorway": [
           "#636efa",
           "#EF553B",
           "#00cc96",
           "#ab63fa",
           "#FFA15A",
           "#19d3f3",
           "#FF6692",
           "#B6E880",
           "#FF97FF",
           "#FECB52"
          ],
          "font": {
           "color": "#2a3f5f"
          },
          "geo": {
           "bgcolor": "white",
           "lakecolor": "white",
           "landcolor": "#E5ECF6",
           "showlakes": true,
           "showland": true,
           "subunitcolor": "white"
          },
          "hoverlabel": {
           "align": "left"
          },
          "hovermode": "closest",
          "mapbox": {
           "style": "light"
          },
          "paper_bgcolor": "white",
          "plot_bgcolor": "#E5ECF6",
          "polar": {
           "angularaxis": {
            "gridcolor": "white",
            "linecolor": "white",
            "ticks": ""
           },
           "bgcolor": "#E5ECF6",
           "radialaxis": {
            "gridcolor": "white",
            "linecolor": "white",
            "ticks": ""
           }
          },
          "scene": {
           "xaxis": {
            "backgroundcolor": "#E5ECF6",
            "gridcolor": "white",
            "gridwidth": 2,
            "linecolor": "white",
            "showbackground": true,
            "ticks": "",
            "zerolinecolor": "white"
           },
           "yaxis": {
            "backgroundcolor": "#E5ECF6",
            "gridcolor": "white",
            "gridwidth": 2,
            "linecolor": "white",
            "showbackground": true,
            "ticks": "",
            "zerolinecolor": "white"
           },
           "zaxis": {
            "backgroundcolor": "#E5ECF6",
            "gridcolor": "white",
            "gridwidth": 2,
            "linecolor": "white",
            "showbackground": true,
            "ticks": "",
            "zerolinecolor": "white"
           }
          },
          "shapedefaults": {
           "line": {
            "color": "#2a3f5f"
           }
          },
          "ternary": {
           "aaxis": {
            "gridcolor": "white",
            "linecolor": "white",
            "ticks": ""
           },
           "baxis": {
            "gridcolor": "white",
            "linecolor": "white",
            "ticks": ""
           },
           "bgcolor": "#E5ECF6",
           "caxis": {
            "gridcolor": "white",
            "linecolor": "white",
            "ticks": ""
           }
          },
          "title": {
           "x": 0.05
          },
          "xaxis": {
           "automargin": true,
           "gridcolor": "white",
           "linecolor": "white",
           "ticks": "",
           "title": {
            "standoff": 15
           },
           "zerolinecolor": "white",
           "zerolinewidth": 2
          },
          "yaxis": {
           "automargin": true,
           "gridcolor": "white",
           "linecolor": "white",
           "ticks": "",
           "title": {
            "standoff": 15
           },
           "zerolinecolor": "white",
           "zerolinewidth": 2
          }
         }
        },
        "title": {
         "text": "Susceptibility Trends for Pseudomonas aeruginosa (Carbapenems Group)"
        },
        "width": 1000,
        "xaxis": {
         "anchor": "y",
         "domain": [
          0,
          1
         ],
         "dtick": 1,
         "tick0": 2018,
         "tickmode": "linear",
         "title": {
          "text": "Year"
         }
        },
        "yaxis": {
         "anchor": "x",
         "domain": [
          0,
          1
         ],
         "title": {
          "text": "Percentage (%)"
         }
        }
       }
      }
     },
     "metadata": {},
     "output_type": "display_data"
    },
    {
     "name": "stdout",
     "output_type": "stream",
     "text": [
      "Visualizing results for Antibiotic Group: Fluoroquinolones\n"
     ]
    },
    {
     "data": {
      "application/vnd.plotly.v1+json": {
       "config": {
        "plotlyServerURL": "https://plot.ly"
       },
       "data": [
        {
         "hovertemplate": "Antibiotic=Ciprofloxacin<br>Resistance Category=Susceptible<br>Year=%{x}<br>Percentage (%)=%{y}<extra></extra>",
         "legendgroup": "Ciprofloxacin, Susceptible",
         "line": {
          "color": "#636efa",
          "dash": "solid"
         },
         "marker": {
          "symbol": "circle"
         },
         "mode": "markers+lines",
         "name": "Ciprofloxacin, Susceptible",
         "orientation": "v",
         "showlegend": true,
         "type": "scatter",
         "x": [
          2018,
          2019,
          2020,
          2021,
          2022
         ],
         "xaxis": "x",
         "y": [
          71.88,
          72.37,
          0,
          0,
          0
         ],
         "yaxis": "y"
        },
        {
         "hovertemplate": "Antibiotic=Ciprofloxacin<br>Resistance Category=Intermediate<br>Year=%{x}<br>Percentage (%)=%{y}<extra></extra>",
         "legendgroup": "Ciprofloxacin, Intermediate",
         "line": {
          "color": "#636efa",
          "dash": "dot"
         },
         "marker": {
          "symbol": "circle"
         },
         "mode": "markers+lines",
         "name": "Ciprofloxacin, Intermediate",
         "orientation": "v",
         "showlegend": true,
         "type": "scatter",
         "x": [
          2018,
          2019,
          2020,
          2021,
          2022
         ],
         "xaxis": "x",
         "y": [
          0,
          0,
          76.49,
          76.93,
          79.01
         ],
         "yaxis": "y"
        },
        {
         "hovertemplate": "Antibiotic=Ciprofloxacin<br>Resistance Category=Resistant<br>Year=%{x}<br>Percentage (%)=%{y}<extra></extra>",
         "legendgroup": "Ciprofloxacin, Resistant",
         "line": {
          "color": "#636efa",
          "dash": "dash"
         },
         "marker": {
          "symbol": "circle"
         },
         "mode": "markers+lines",
         "name": "Ciprofloxacin, Resistant",
         "orientation": "v",
         "showlegend": true,
         "type": "scatter",
         "x": [
          2018,
          2019,
          2020,
          2021,
          2022
         ],
         "xaxis": "x",
         "y": [
          28.12,
          27.63,
          23.51,
          23.07,
          20.99
         ],
         "yaxis": "y"
        },
        {
         "hovertemplate": "Antibiotic=Levofloxacin<br>Resistance Category=Susceptible<br>Year=%{x}<br>Percentage (%)=%{y}<extra></extra>",
         "legendgroup": "Levofloxacin, Susceptible",
         "line": {
          "color": "#EF553B",
          "dash": "solid"
         },
         "marker": {
          "symbol": "circle"
         },
         "mode": "markers+lines",
         "name": "Levofloxacin, Susceptible",
         "orientation": "v",
         "showlegend": true,
         "type": "scatter",
         "x": [
          2018,
          2019,
          2020,
          2021,
          2022
         ],
         "xaxis": "x",
         "y": [
          64.5,
          66.2,
          0,
          0,
          0
         ],
         "yaxis": "y"
        },
        {
         "hovertemplate": "Antibiotic=Levofloxacin<br>Resistance Category=Intermediate<br>Year=%{x}<br>Percentage (%)=%{y}<extra></extra>",
         "legendgroup": "Levofloxacin, Intermediate",
         "line": {
          "color": "#EF553B",
          "dash": "dot"
         },
         "marker": {
          "symbol": "circle"
         },
         "mode": "markers+lines",
         "name": "Levofloxacin, Intermediate",
         "orientation": "v",
         "showlegend": true,
         "type": "scatter",
         "x": [
          2018,
          2019,
          2020,
          2021,
          2022
         ],
         "xaxis": "x",
         "y": [
          0,
          0,
          67.72,
          69.12,
          80.48
         ],
         "yaxis": "y"
        },
        {
         "hovertemplate": "Antibiotic=Levofloxacin<br>Resistance Category=Resistant<br>Year=%{x}<br>Percentage (%)=%{y}<extra></extra>",
         "legendgroup": "Levofloxacin, Resistant",
         "line": {
          "color": "#EF553B",
          "dash": "dash"
         },
         "marker": {
          "symbol": "circle"
         },
         "mode": "markers+lines",
         "name": "Levofloxacin, Resistant",
         "orientation": "v",
         "showlegend": true,
         "type": "scatter",
         "x": [
          2018,
          2019,
          2020,
          2021,
          2022
         ],
         "xaxis": "x",
         "y": [
          35.5,
          33.8,
          32.28,
          30.88,
          19.52
         ],
         "yaxis": "y"
        }
       ],
       "layout": {
        "height": 600,
        "legend": {
         "title": {
          "text": "Antibiotic / Resistance Category"
         },
         "tracegroupgap": 0
        },
        "template": {
         "data": {
          "bar": [
           {
            "error_x": {
             "color": "#2a3f5f"
            },
            "error_y": {
             "color": "#2a3f5f"
            },
            "marker": {
             "line": {
              "color": "#E5ECF6",
              "width": 0.5
             },
             "pattern": {
              "fillmode": "overlay",
              "size": 10,
              "solidity": 0.2
             }
            },
            "type": "bar"
           }
          ],
          "barpolar": [
           {
            "marker": {
             "line": {
              "color": "#E5ECF6",
              "width": 0.5
             },
             "pattern": {
              "fillmode": "overlay",
              "size": 10,
              "solidity": 0.2
             }
            },
            "type": "barpolar"
           }
          ],
          "carpet": [
           {
            "aaxis": {
             "endlinecolor": "#2a3f5f",
             "gridcolor": "white",
             "linecolor": "white",
             "minorgridcolor": "white",
             "startlinecolor": "#2a3f5f"
            },
            "baxis": {
             "endlinecolor": "#2a3f5f",
             "gridcolor": "white",
             "linecolor": "white",
             "minorgridcolor": "white",
             "startlinecolor": "#2a3f5f"
            },
            "type": "carpet"
           }
          ],
          "choropleth": [
           {
            "colorbar": {
             "outlinewidth": 0,
             "ticks": ""
            },
            "type": "choropleth"
           }
          ],
          "contour": [
           {
            "colorbar": {
             "outlinewidth": 0,
             "ticks": ""
            },
            "colorscale": [
             [
              0,
              "#0d0887"
             ],
             [
              0.1111111111111111,
              "#46039f"
             ],
             [
              0.2222222222222222,
              "#7201a8"
             ],
             [
              0.3333333333333333,
              "#9c179e"
             ],
             [
              0.4444444444444444,
              "#bd3786"
             ],
             [
              0.5555555555555556,
              "#d8576b"
             ],
             [
              0.6666666666666666,
              "#ed7953"
             ],
             [
              0.7777777777777778,
              "#fb9f3a"
             ],
             [
              0.8888888888888888,
              "#fdca26"
             ],
             [
              1,
              "#f0f921"
             ]
            ],
            "type": "contour"
           }
          ],
          "contourcarpet": [
           {
            "colorbar": {
             "outlinewidth": 0,
             "ticks": ""
            },
            "type": "contourcarpet"
           }
          ],
          "heatmap": [
           {
            "colorbar": {
             "outlinewidth": 0,
             "ticks": ""
            },
            "colorscale": [
             [
              0,
              "#0d0887"
             ],
             [
              0.1111111111111111,
              "#46039f"
             ],
             [
              0.2222222222222222,
              "#7201a8"
             ],
             [
              0.3333333333333333,
              "#9c179e"
             ],
             [
              0.4444444444444444,
              "#bd3786"
             ],
             [
              0.5555555555555556,
              "#d8576b"
             ],
             [
              0.6666666666666666,
              "#ed7953"
             ],
             [
              0.7777777777777778,
              "#fb9f3a"
             ],
             [
              0.8888888888888888,
              "#fdca26"
             ],
             [
              1,
              "#f0f921"
             ]
            ],
            "type": "heatmap"
           }
          ],
          "heatmapgl": [
           {
            "colorbar": {
             "outlinewidth": 0,
             "ticks": ""
            },
            "colorscale": [
             [
              0,
              "#0d0887"
             ],
             [
              0.1111111111111111,
              "#46039f"
             ],
             [
              0.2222222222222222,
              "#7201a8"
             ],
             [
              0.3333333333333333,
              "#9c179e"
             ],
             [
              0.4444444444444444,
              "#bd3786"
             ],
             [
              0.5555555555555556,
              "#d8576b"
             ],
             [
              0.6666666666666666,
              "#ed7953"
             ],
             [
              0.7777777777777778,
              "#fb9f3a"
             ],
             [
              0.8888888888888888,
              "#fdca26"
             ],
             [
              1,
              "#f0f921"
             ]
            ],
            "type": "heatmapgl"
           }
          ],
          "histogram": [
           {
            "marker": {
             "pattern": {
              "fillmode": "overlay",
              "size": 10,
              "solidity": 0.2
             }
            },
            "type": "histogram"
           }
          ],
          "histogram2d": [
           {
            "colorbar": {
             "outlinewidth": 0,
             "ticks": ""
            },
            "colorscale": [
             [
              0,
              "#0d0887"
             ],
             [
              0.1111111111111111,
              "#46039f"
             ],
             [
              0.2222222222222222,
              "#7201a8"
             ],
             [
              0.3333333333333333,
              "#9c179e"
             ],
             [
              0.4444444444444444,
              "#bd3786"
             ],
             [
              0.5555555555555556,
              "#d8576b"
             ],
             [
              0.6666666666666666,
              "#ed7953"
             ],
             [
              0.7777777777777778,
              "#fb9f3a"
             ],
             [
              0.8888888888888888,
              "#fdca26"
             ],
             [
              1,
              "#f0f921"
             ]
            ],
            "type": "histogram2d"
           }
          ],
          "histogram2dcontour": [
           {
            "colorbar": {
             "outlinewidth": 0,
             "ticks": ""
            },
            "colorscale": [
             [
              0,
              "#0d0887"
             ],
             [
              0.1111111111111111,
              "#46039f"
             ],
             [
              0.2222222222222222,
              "#7201a8"
             ],
             [
              0.3333333333333333,
              "#9c179e"
             ],
             [
              0.4444444444444444,
              "#bd3786"
             ],
             [
              0.5555555555555556,
              "#d8576b"
             ],
             [
              0.6666666666666666,
              "#ed7953"
             ],
             [
              0.7777777777777778,
              "#fb9f3a"
             ],
             [
              0.8888888888888888,
              "#fdca26"
             ],
             [
              1,
              "#f0f921"
             ]
            ],
            "type": "histogram2dcontour"
           }
          ],
          "mesh3d": [
           {
            "colorbar": {
             "outlinewidth": 0,
             "ticks": ""
            },
            "type": "mesh3d"
           }
          ],
          "parcoords": [
           {
            "line": {
             "colorbar": {
              "outlinewidth": 0,
              "ticks": ""
             }
            },
            "type": "parcoords"
           }
          ],
          "pie": [
           {
            "automargin": true,
            "type": "pie"
           }
          ],
          "scatter": [
           {
            "fillpattern": {
             "fillmode": "overlay",
             "size": 10,
             "solidity": 0.2
            },
            "type": "scatter"
           }
          ],
          "scatter3d": [
           {
            "line": {
             "colorbar": {
              "outlinewidth": 0,
              "ticks": ""
             }
            },
            "marker": {
             "colorbar": {
              "outlinewidth": 0,
              "ticks": ""
             }
            },
            "type": "scatter3d"
           }
          ],
          "scattercarpet": [
           {
            "marker": {
             "colorbar": {
              "outlinewidth": 0,
              "ticks": ""
             }
            },
            "type": "scattercarpet"
           }
          ],
          "scattergeo": [
           {
            "marker": {
             "colorbar": {
              "outlinewidth": 0,
              "ticks": ""
             }
            },
            "type": "scattergeo"
           }
          ],
          "scattergl": [
           {
            "marker": {
             "colorbar": {
              "outlinewidth": 0,
              "ticks": ""
             }
            },
            "type": "scattergl"
           }
          ],
          "scattermapbox": [
           {
            "marker": {
             "colorbar": {
              "outlinewidth": 0,
              "ticks": ""
             }
            },
            "type": "scattermapbox"
           }
          ],
          "scatterpolar": [
           {
            "marker": {
             "colorbar": {
              "outlinewidth": 0,
              "ticks": ""
             }
            },
            "type": "scatterpolar"
           }
          ],
          "scatterpolargl": [
           {
            "marker": {
             "colorbar": {
              "outlinewidth": 0,
              "ticks": ""
             }
            },
            "type": "scatterpolargl"
           }
          ],
          "scatterternary": [
           {
            "marker": {
             "colorbar": {
              "outlinewidth": 0,
              "ticks": ""
             }
            },
            "type": "scatterternary"
           }
          ],
          "surface": [
           {
            "colorbar": {
             "outlinewidth": 0,
             "ticks": ""
            },
            "colorscale": [
             [
              0,
              "#0d0887"
             ],
             [
              0.1111111111111111,
              "#46039f"
             ],
             [
              0.2222222222222222,
              "#7201a8"
             ],
             [
              0.3333333333333333,
              "#9c179e"
             ],
             [
              0.4444444444444444,
              "#bd3786"
             ],
             [
              0.5555555555555556,
              "#d8576b"
             ],
             [
              0.6666666666666666,
              "#ed7953"
             ],
             [
              0.7777777777777778,
              "#fb9f3a"
             ],
             [
              0.8888888888888888,
              "#fdca26"
             ],
             [
              1,
              "#f0f921"
             ]
            ],
            "type": "surface"
           }
          ],
          "table": [
           {
            "cells": {
             "fill": {
              "color": "#EBF0F8"
             },
             "line": {
              "color": "white"
             }
            },
            "header": {
             "fill": {
              "color": "#C8D4E3"
             },
             "line": {
              "color": "white"
             }
            },
            "type": "table"
           }
          ]
         },
         "layout": {
          "annotationdefaults": {
           "arrowcolor": "#2a3f5f",
           "arrowhead": 0,
           "arrowwidth": 1
          },
          "autotypenumbers": "strict",
          "coloraxis": {
           "colorbar": {
            "outlinewidth": 0,
            "ticks": ""
           }
          },
          "colorscale": {
           "diverging": [
            [
             0,
             "#8e0152"
            ],
            [
             0.1,
             "#c51b7d"
            ],
            [
             0.2,
             "#de77ae"
            ],
            [
             0.3,
             "#f1b6da"
            ],
            [
             0.4,
             "#fde0ef"
            ],
            [
             0.5,
             "#f7f7f7"
            ],
            [
             0.6,
             "#e6f5d0"
            ],
            [
             0.7,
             "#b8e186"
            ],
            [
             0.8,
             "#7fbc41"
            ],
            [
             0.9,
             "#4d9221"
            ],
            [
             1,
             "#276419"
            ]
           ],
           "sequential": [
            [
             0,
             "#0d0887"
            ],
            [
             0.1111111111111111,
             "#46039f"
            ],
            [
             0.2222222222222222,
             "#7201a8"
            ],
            [
             0.3333333333333333,
             "#9c179e"
            ],
            [
             0.4444444444444444,
             "#bd3786"
            ],
            [
             0.5555555555555556,
             "#d8576b"
            ],
            [
             0.6666666666666666,
             "#ed7953"
            ],
            [
             0.7777777777777778,
             "#fb9f3a"
            ],
            [
             0.8888888888888888,
             "#fdca26"
            ],
            [
             1,
             "#f0f921"
            ]
           ],
           "sequentialminus": [
            [
             0,
             "#0d0887"
            ],
            [
             0.1111111111111111,
             "#46039f"
            ],
            [
             0.2222222222222222,
             "#7201a8"
            ],
            [
             0.3333333333333333,
             "#9c179e"
            ],
            [
             0.4444444444444444,
             "#bd3786"
            ],
            [
             0.5555555555555556,
             "#d8576b"
            ],
            [
             0.6666666666666666,
             "#ed7953"
            ],
            [
             0.7777777777777778,
             "#fb9f3a"
            ],
            [
             0.8888888888888888,
             "#fdca26"
            ],
            [
             1,
             "#f0f921"
            ]
           ]
          },
          "colorway": [
           "#636efa",
           "#EF553B",
           "#00cc96",
           "#ab63fa",
           "#FFA15A",
           "#19d3f3",
           "#FF6692",
           "#B6E880",
           "#FF97FF",
           "#FECB52"
          ],
          "font": {
           "color": "#2a3f5f"
          },
          "geo": {
           "bgcolor": "white",
           "lakecolor": "white",
           "landcolor": "#E5ECF6",
           "showlakes": true,
           "showland": true,
           "subunitcolor": "white"
          },
          "hoverlabel": {
           "align": "left"
          },
          "hovermode": "closest",
          "mapbox": {
           "style": "light"
          },
          "paper_bgcolor": "white",
          "plot_bgcolor": "#E5ECF6",
          "polar": {
           "angularaxis": {
            "gridcolor": "white",
            "linecolor": "white",
            "ticks": ""
           },
           "bgcolor": "#E5ECF6",
           "radialaxis": {
            "gridcolor": "white",
            "linecolor": "white",
            "ticks": ""
           }
          },
          "scene": {
           "xaxis": {
            "backgroundcolor": "#E5ECF6",
            "gridcolor": "white",
            "gridwidth": 2,
            "linecolor": "white",
            "showbackground": true,
            "ticks": "",
            "zerolinecolor": "white"
           },
           "yaxis": {
            "backgroundcolor": "#E5ECF6",
            "gridcolor": "white",
            "gridwidth": 2,
            "linecolor": "white",
            "showbackground": true,
            "ticks": "",
            "zerolinecolor": "white"
           },
           "zaxis": {
            "backgroundcolor": "#E5ECF6",
            "gridcolor": "white",
            "gridwidth": 2,
            "linecolor": "white",
            "showbackground": true,
            "ticks": "",
            "zerolinecolor": "white"
           }
          },
          "shapedefaults": {
           "line": {
            "color": "#2a3f5f"
           }
          },
          "ternary": {
           "aaxis": {
            "gridcolor": "white",
            "linecolor": "white",
            "ticks": ""
           },
           "baxis": {
            "gridcolor": "white",
            "linecolor": "white",
            "ticks": ""
           },
           "bgcolor": "#E5ECF6",
           "caxis": {
            "gridcolor": "white",
            "linecolor": "white",
            "ticks": ""
           }
          },
          "title": {
           "x": 0.05
          },
          "xaxis": {
           "automargin": true,
           "gridcolor": "white",
           "linecolor": "white",
           "ticks": "",
           "title": {
            "standoff": 15
           },
           "zerolinecolor": "white",
           "zerolinewidth": 2
          },
          "yaxis": {
           "automargin": true,
           "gridcolor": "white",
           "linecolor": "white",
           "ticks": "",
           "title": {
            "standoff": 15
           },
           "zerolinecolor": "white",
           "zerolinewidth": 2
          }
         }
        },
        "title": {
         "text": "Susceptibility Trends for Pseudomonas aeruginosa (Fluoroquinolones Group)"
        },
        "width": 1000,
        "xaxis": {
         "anchor": "y",
         "domain": [
          0,
          1
         ],
         "dtick": 1,
         "tick0": 2018,
         "tickmode": "linear",
         "title": {
          "text": "Year"
         }
        },
        "yaxis": {
         "anchor": "x",
         "domain": [
          0,
          1
         ],
         "title": {
          "text": "Percentage (%)"
         }
        }
       }
      }
     },
     "metadata": {},
     "output_type": "display_data"
    },
    {
     "name": "stdout",
     "output_type": "stream",
     "text": [
      "Visualizing results for Antibiotic Group: Aminoglycosides\n"
     ]
    },
    {
     "data": {
      "application/vnd.plotly.v1+json": {
       "config": {
        "plotlyServerURL": "https://plot.ly"
       },
       "data": [
        {
         "hovertemplate": "Antibiotic=Amikacin<br>Resistance Category=Susceptible<br>Year=%{x}<br>Percentage (%)=%{y}<extra></extra>",
         "legendgroup": "Amikacin, Susceptible",
         "line": {
          "color": "#636efa",
          "dash": "solid"
         },
         "marker": {
          "symbol": "circle"
         },
         "mode": "markers+lines",
         "name": "Amikacin, Susceptible",
         "orientation": "v",
         "showlegend": true,
         "type": "scatter",
         "x": [
          2018,
          2019,
          2020,
          2021,
          2022
         ],
         "xaxis": "x",
         "y": [
          86.47,
          85.6,
          90.83,
          91.66,
          92.25
         ],
         "yaxis": "y"
        },
        {
         "hovertemplate": "Antibiotic=Amikacin<br>Resistance Category=Intermediate<br>Year=%{x}<br>Percentage (%)=%{y}<extra></extra>",
         "legendgroup": "Amikacin, Intermediate",
         "line": {
          "color": "#636efa",
          "dash": "dot"
         },
         "marker": {
          "symbol": "circle"
         },
         "mode": "markers+lines",
         "name": "Amikacin, Intermediate",
         "orientation": "v",
         "showlegend": true,
         "type": "scatter",
         "x": [
          2018,
          2019,
          2020,
          2021,
          2022
         ],
         "xaxis": "x",
         "y": [
          3.66,
          4.84,
          0,
          0,
          0
         ],
         "yaxis": "y"
        },
        {
         "hovertemplate": "Antibiotic=Amikacin<br>Resistance Category=Resistant<br>Year=%{x}<br>Percentage (%)=%{y}<extra></extra>",
         "legendgroup": "Amikacin, Resistant",
         "line": {
          "color": "#636efa",
          "dash": "dash"
         },
         "marker": {
          "symbol": "circle"
         },
         "mode": "markers+lines",
         "name": "Amikacin, Resistant",
         "orientation": "v",
         "showlegend": true,
         "type": "scatter",
         "x": [
          2018,
          2019,
          2020,
          2021,
          2022
         ],
         "xaxis": "x",
         "y": [
          9.87,
          9.56,
          9.17,
          8.34,
          7.75
         ],
         "yaxis": "y"
        },
        {
         "hovertemplate": "Antibiotic=Gentamicin<br>Resistance Category=Susceptible<br>Year=%{x}<br>Percentage (%)=%{y}<extra></extra>",
         "legendgroup": "Gentamicin, Susceptible",
         "line": {
          "color": "#EF553B",
          "dash": "solid"
         },
         "marker": {
          "symbol": "circle"
         },
         "mode": "markers+lines",
         "name": "Gentamicin, Susceptible",
         "orientation": "v",
         "showlegend": true,
         "type": "scatter",
         "x": [
          2018,
          2019
         ],
         "xaxis": "x",
         "y": [
          83.7,
          82.87
         ],
         "yaxis": "y"
        },
        {
         "hovertemplate": "Antibiotic=Gentamicin<br>Resistance Category=Intermediate<br>Year=%{x}<br>Percentage (%)=%{y}<extra></extra>",
         "legendgroup": "Gentamicin, Intermediate",
         "line": {
          "color": "#EF553B",
          "dash": "dot"
         },
         "marker": {
          "symbol": "circle"
         },
         "mode": "markers+lines",
         "name": "Gentamicin, Intermediate",
         "orientation": "v",
         "showlegend": true,
         "type": "scatter",
         "x": [
          2018,
          2019
         ],
         "xaxis": "x",
         "y": [
          0,
          0
         ],
         "yaxis": "y"
        },
        {
         "hovertemplate": "Antibiotic=Gentamicin<br>Resistance Category=Resistant<br>Year=%{x}<br>Percentage (%)=%{y}<extra></extra>",
         "legendgroup": "Gentamicin, Resistant",
         "line": {
          "color": "#EF553B",
          "dash": "dash"
         },
         "marker": {
          "symbol": "circle"
         },
         "mode": "markers+lines",
         "name": "Gentamicin, Resistant",
         "orientation": "v",
         "showlegend": true,
         "type": "scatter",
         "x": [
          2018,
          2019
         ],
         "xaxis": "x",
         "y": [
          16.3,
          17.13
         ],
         "yaxis": "y"
        }
       ],
       "layout": {
        "height": 600,
        "legend": {
         "title": {
          "text": "Antibiotic / Resistance Category"
         },
         "tracegroupgap": 0
        },
        "template": {
         "data": {
          "bar": [
           {
            "error_x": {
             "color": "#2a3f5f"
            },
            "error_y": {
             "color": "#2a3f5f"
            },
            "marker": {
             "line": {
              "color": "#E5ECF6",
              "width": 0.5
             },
             "pattern": {
              "fillmode": "overlay",
              "size": 10,
              "solidity": 0.2
             }
            },
            "type": "bar"
           }
          ],
          "barpolar": [
           {
            "marker": {
             "line": {
              "color": "#E5ECF6",
              "width": 0.5
             },
             "pattern": {
              "fillmode": "overlay",
              "size": 10,
              "solidity": 0.2
             }
            },
            "type": "barpolar"
           }
          ],
          "carpet": [
           {
            "aaxis": {
             "endlinecolor": "#2a3f5f",
             "gridcolor": "white",
             "linecolor": "white",
             "minorgridcolor": "white",
             "startlinecolor": "#2a3f5f"
            },
            "baxis": {
             "endlinecolor": "#2a3f5f",
             "gridcolor": "white",
             "linecolor": "white",
             "minorgridcolor": "white",
             "startlinecolor": "#2a3f5f"
            },
            "type": "carpet"
           }
          ],
          "choropleth": [
           {
            "colorbar": {
             "outlinewidth": 0,
             "ticks": ""
            },
            "type": "choropleth"
           }
          ],
          "contour": [
           {
            "colorbar": {
             "outlinewidth": 0,
             "ticks": ""
            },
            "colorscale": [
             [
              0,
              "#0d0887"
             ],
             [
              0.1111111111111111,
              "#46039f"
             ],
             [
              0.2222222222222222,
              "#7201a8"
             ],
             [
              0.3333333333333333,
              "#9c179e"
             ],
             [
              0.4444444444444444,
              "#bd3786"
             ],
             [
              0.5555555555555556,
              "#d8576b"
             ],
             [
              0.6666666666666666,
              "#ed7953"
             ],
             [
              0.7777777777777778,
              "#fb9f3a"
             ],
             [
              0.8888888888888888,
              "#fdca26"
             ],
             [
              1,
              "#f0f921"
             ]
            ],
            "type": "contour"
           }
          ],
          "contourcarpet": [
           {
            "colorbar": {
             "outlinewidth": 0,
             "ticks": ""
            },
            "type": "contourcarpet"
           }
          ],
          "heatmap": [
           {
            "colorbar": {
             "outlinewidth": 0,
             "ticks": ""
            },
            "colorscale": [
             [
              0,
              "#0d0887"
             ],
             [
              0.1111111111111111,
              "#46039f"
             ],
             [
              0.2222222222222222,
              "#7201a8"
             ],
             [
              0.3333333333333333,
              "#9c179e"
             ],
             [
              0.4444444444444444,
              "#bd3786"
             ],
             [
              0.5555555555555556,
              "#d8576b"
             ],
             [
              0.6666666666666666,
              "#ed7953"
             ],
             [
              0.7777777777777778,
              "#fb9f3a"
             ],
             [
              0.8888888888888888,
              "#fdca26"
             ],
             [
              1,
              "#f0f921"
             ]
            ],
            "type": "heatmap"
           }
          ],
          "heatmapgl": [
           {
            "colorbar": {
             "outlinewidth": 0,
             "ticks": ""
            },
            "colorscale": [
             [
              0,
              "#0d0887"
             ],
             [
              0.1111111111111111,
              "#46039f"
             ],
             [
              0.2222222222222222,
              "#7201a8"
             ],
             [
              0.3333333333333333,
              "#9c179e"
             ],
             [
              0.4444444444444444,
              "#bd3786"
             ],
             [
              0.5555555555555556,
              "#d8576b"
             ],
             [
              0.6666666666666666,
              "#ed7953"
             ],
             [
              0.7777777777777778,
              "#fb9f3a"
             ],
             [
              0.8888888888888888,
              "#fdca26"
             ],
             [
              1,
              "#f0f921"
             ]
            ],
            "type": "heatmapgl"
           }
          ],
          "histogram": [
           {
            "marker": {
             "pattern": {
              "fillmode": "overlay",
              "size": 10,
              "solidity": 0.2
             }
            },
            "type": "histogram"
           }
          ],
          "histogram2d": [
           {
            "colorbar": {
             "outlinewidth": 0,
             "ticks": ""
            },
            "colorscale": [
             [
              0,
              "#0d0887"
             ],
             [
              0.1111111111111111,
              "#46039f"
             ],
             [
              0.2222222222222222,
              "#7201a8"
             ],
             [
              0.3333333333333333,
              "#9c179e"
             ],
             [
              0.4444444444444444,
              "#bd3786"
             ],
             [
              0.5555555555555556,
              "#d8576b"
             ],
             [
              0.6666666666666666,
              "#ed7953"
             ],
             [
              0.7777777777777778,
              "#fb9f3a"
             ],
             [
              0.8888888888888888,
              "#fdca26"
             ],
             [
              1,
              "#f0f921"
             ]
            ],
            "type": "histogram2d"
           }
          ],
          "histogram2dcontour": [
           {
            "colorbar": {
             "outlinewidth": 0,
             "ticks": ""
            },
            "colorscale": [
             [
              0,
              "#0d0887"
             ],
             [
              0.1111111111111111,
              "#46039f"
             ],
             [
              0.2222222222222222,
              "#7201a8"
             ],
             [
              0.3333333333333333,
              "#9c179e"
             ],
             [
              0.4444444444444444,
              "#bd3786"
             ],
             [
              0.5555555555555556,
              "#d8576b"
             ],
             [
              0.6666666666666666,
              "#ed7953"
             ],
             [
              0.7777777777777778,
              "#fb9f3a"
             ],
             [
              0.8888888888888888,
              "#fdca26"
             ],
             [
              1,
              "#f0f921"
             ]
            ],
            "type": "histogram2dcontour"
           }
          ],
          "mesh3d": [
           {
            "colorbar": {
             "outlinewidth": 0,
             "ticks": ""
            },
            "type": "mesh3d"
           }
          ],
          "parcoords": [
           {
            "line": {
             "colorbar": {
              "outlinewidth": 0,
              "ticks": ""
             }
            },
            "type": "parcoords"
           }
          ],
          "pie": [
           {
            "automargin": true,
            "type": "pie"
           }
          ],
          "scatter": [
           {
            "fillpattern": {
             "fillmode": "overlay",
             "size": 10,
             "solidity": 0.2
            },
            "type": "scatter"
           }
          ],
          "scatter3d": [
           {
            "line": {
             "colorbar": {
              "outlinewidth": 0,
              "ticks": ""
             }
            },
            "marker": {
             "colorbar": {
              "outlinewidth": 0,
              "ticks": ""
             }
            },
            "type": "scatter3d"
           }
          ],
          "scattercarpet": [
           {
            "marker": {
             "colorbar": {
              "outlinewidth": 0,
              "ticks": ""
             }
            },
            "type": "scattercarpet"
           }
          ],
          "scattergeo": [
           {
            "marker": {
             "colorbar": {
              "outlinewidth": 0,
              "ticks": ""
             }
            },
            "type": "scattergeo"
           }
          ],
          "scattergl": [
           {
            "marker": {
             "colorbar": {
              "outlinewidth": 0,
              "ticks": ""
             }
            },
            "type": "scattergl"
           }
          ],
          "scattermapbox": [
           {
            "marker": {
             "colorbar": {
              "outlinewidth": 0,
              "ticks": ""
             }
            },
            "type": "scattermapbox"
           }
          ],
          "scatterpolar": [
           {
            "marker": {
             "colorbar": {
              "outlinewidth": 0,
              "ticks": ""
             }
            },
            "type": "scatterpolar"
           }
          ],
          "scatterpolargl": [
           {
            "marker": {
             "colorbar": {
              "outlinewidth": 0,
              "ticks": ""
             }
            },
            "type": "scatterpolargl"
           }
          ],
          "scatterternary": [
           {
            "marker": {
             "colorbar": {
              "outlinewidth": 0,
              "ticks": ""
             }
            },
            "type": "scatterternary"
           }
          ],
          "surface": [
           {
            "colorbar": {
             "outlinewidth": 0,
             "ticks": ""
            },
            "colorscale": [
             [
              0,
              "#0d0887"
             ],
             [
              0.1111111111111111,
              "#46039f"
             ],
             [
              0.2222222222222222,
              "#7201a8"
             ],
             [
              0.3333333333333333,
              "#9c179e"
             ],
             [
              0.4444444444444444,
              "#bd3786"
             ],
             [
              0.5555555555555556,
              "#d8576b"
             ],
             [
              0.6666666666666666,
              "#ed7953"
             ],
             [
              0.7777777777777778,
              "#fb9f3a"
             ],
             [
              0.8888888888888888,
              "#fdca26"
             ],
             [
              1,
              "#f0f921"
             ]
            ],
            "type": "surface"
           }
          ],
          "table": [
           {
            "cells": {
             "fill": {
              "color": "#EBF0F8"
             },
             "line": {
              "color": "white"
             }
            },
            "header": {
             "fill": {
              "color": "#C8D4E3"
             },
             "line": {
              "color": "white"
             }
            },
            "type": "table"
           }
          ]
         },
         "layout": {
          "annotationdefaults": {
           "arrowcolor": "#2a3f5f",
           "arrowhead": 0,
           "arrowwidth": 1
          },
          "autotypenumbers": "strict",
          "coloraxis": {
           "colorbar": {
            "outlinewidth": 0,
            "ticks": ""
           }
          },
          "colorscale": {
           "diverging": [
            [
             0,
             "#8e0152"
            ],
            [
             0.1,
             "#c51b7d"
            ],
            [
             0.2,
             "#de77ae"
            ],
            [
             0.3,
             "#f1b6da"
            ],
            [
             0.4,
             "#fde0ef"
            ],
            [
             0.5,
             "#f7f7f7"
            ],
            [
             0.6,
             "#e6f5d0"
            ],
            [
             0.7,
             "#b8e186"
            ],
            [
             0.8,
             "#7fbc41"
            ],
            [
             0.9,
             "#4d9221"
            ],
            [
             1,
             "#276419"
            ]
           ],
           "sequential": [
            [
             0,
             "#0d0887"
            ],
            [
             0.1111111111111111,
             "#46039f"
            ],
            [
             0.2222222222222222,
             "#7201a8"
            ],
            [
             0.3333333333333333,
             "#9c179e"
            ],
            [
             0.4444444444444444,
             "#bd3786"
            ],
            [
             0.5555555555555556,
             "#d8576b"
            ],
            [
             0.6666666666666666,
             "#ed7953"
            ],
            [
             0.7777777777777778,
             "#fb9f3a"
            ],
            [
             0.8888888888888888,
             "#fdca26"
            ],
            [
             1,
             "#f0f921"
            ]
           ],
           "sequentialminus": [
            [
             0,
             "#0d0887"
            ],
            [
             0.1111111111111111,
             "#46039f"
            ],
            [
             0.2222222222222222,
             "#7201a8"
            ],
            [
             0.3333333333333333,
             "#9c179e"
            ],
            [
             0.4444444444444444,
             "#bd3786"
            ],
            [
             0.5555555555555556,
             "#d8576b"
            ],
            [
             0.6666666666666666,
             "#ed7953"
            ],
            [
             0.7777777777777778,
             "#fb9f3a"
            ],
            [
             0.8888888888888888,
             "#fdca26"
            ],
            [
             1,
             "#f0f921"
            ]
           ]
          },
          "colorway": [
           "#636efa",
           "#EF553B",
           "#00cc96",
           "#ab63fa",
           "#FFA15A",
           "#19d3f3",
           "#FF6692",
           "#B6E880",
           "#FF97FF",
           "#FECB52"
          ],
          "font": {
           "color": "#2a3f5f"
          },
          "geo": {
           "bgcolor": "white",
           "lakecolor": "white",
           "landcolor": "#E5ECF6",
           "showlakes": true,
           "showland": true,
           "subunitcolor": "white"
          },
          "hoverlabel": {
           "align": "left"
          },
          "hovermode": "closest",
          "mapbox": {
           "style": "light"
          },
          "paper_bgcolor": "white",
          "plot_bgcolor": "#E5ECF6",
          "polar": {
           "angularaxis": {
            "gridcolor": "white",
            "linecolor": "white",
            "ticks": ""
           },
           "bgcolor": "#E5ECF6",
           "radialaxis": {
            "gridcolor": "white",
            "linecolor": "white",
            "ticks": ""
           }
          },
          "scene": {
           "xaxis": {
            "backgroundcolor": "#E5ECF6",
            "gridcolor": "white",
            "gridwidth": 2,
            "linecolor": "white",
            "showbackground": true,
            "ticks": "",
            "zerolinecolor": "white"
           },
           "yaxis": {
            "backgroundcolor": "#E5ECF6",
            "gridcolor": "white",
            "gridwidth": 2,
            "linecolor": "white",
            "showbackground": true,
            "ticks": "",
            "zerolinecolor": "white"
           },
           "zaxis": {
            "backgroundcolor": "#E5ECF6",
            "gridcolor": "white",
            "gridwidth": 2,
            "linecolor": "white",
            "showbackground": true,
            "ticks": "",
            "zerolinecolor": "white"
           }
          },
          "shapedefaults": {
           "line": {
            "color": "#2a3f5f"
           }
          },
          "ternary": {
           "aaxis": {
            "gridcolor": "white",
            "linecolor": "white",
            "ticks": ""
           },
           "baxis": {
            "gridcolor": "white",
            "linecolor": "white",
            "ticks": ""
           },
           "bgcolor": "#E5ECF6",
           "caxis": {
            "gridcolor": "white",
            "linecolor": "white",
            "ticks": ""
           }
          },
          "title": {
           "x": 0.05
          },
          "xaxis": {
           "automargin": true,
           "gridcolor": "white",
           "linecolor": "white",
           "ticks": "",
           "title": {
            "standoff": 15
           },
           "zerolinecolor": "white",
           "zerolinewidth": 2
          },
          "yaxis": {
           "automargin": true,
           "gridcolor": "white",
           "linecolor": "white",
           "ticks": "",
           "title": {
            "standoff": 15
           },
           "zerolinecolor": "white",
           "zerolinewidth": 2
          }
         }
        },
        "title": {
         "text": "Susceptibility Trends for Pseudomonas aeruginosa (Aminoglycosides Group)"
        },
        "width": 1000,
        "xaxis": {
         "anchor": "y",
         "domain": [
          0,
          1
         ],
         "dtick": 1,
         "tick0": 2018,
         "tickmode": "linear",
         "title": {
          "text": "Year"
         }
        },
        "yaxis": {
         "anchor": "x",
         "domain": [
          0,
          1
         ],
         "title": {
          "text": "Percentage (%)"
         }
        }
       }
      }
     },
     "metadata": {},
     "output_type": "display_data"
    },
    {
     "name": "stdout",
     "output_type": "stream",
     "text": [
      "Visualizing results for Antibiotic Group: Glycopeptides\n",
      "No data available for Vancomycin_I\n",
      "No data to visualize for group Glycopeptides\n",
      "Visualizing results for Antibiotic Group: Macrolides\n",
      "No data available for Azithromycin_I\n",
      "No data available for Clarithromycin_I\n",
      "No data to visualize for group Macrolides\n",
      "Visualizing results for Antibiotic Group: Tetracyclines\n",
      "No data available for Tigecycline_I\n",
      "No data to visualize for group Tetracyclines\n",
      "Visualizing results for Antibiotic Group: Oxazolidinones\n",
      "No data available for Linezolid_I\n",
      "No data to visualize for group Oxazolidinones\n",
      "Visualizing results for Antibiotic Group: Antifolates\n",
      "No data available for Trimethoprim-sulfamethoxazole_I\n",
      "No data to visualize for group Antifolates\n"
     ]
    }
   ],
   "source": [
    "# Dictionary grouping antibiotics by their pharmacological classes\n",
    "antibiotic_groups = {\n",
    "    'Penicillins': ['Amoxicillin-clavulanate_I', 'Ampicillin_I', 'Piperacillin tazobactam_I'],\n",
    "    'Cephalosporins': ['Ceftriaxone_I', 'Ceftazidime_I', 'Cefepime_I'],\n",
    "    'Carbapenems': ['Imipenem_I', 'Meropenem_I'],\n",
    "    'Fluoroquinolones': ['Ciprofloxacin_I', 'Levofloxacin_I'],\n",
    "    'Aminoglycosides': ['Amikacin_I', 'Gentamicin_I'],\n",
    "    'Glycopeptides': ['Vancomycin_I'],\n",
    "    'Macrolides': ['Azithromycin_I', 'Clarithromycin_I'],\n",
    "    'Tetracyclines': ['Tigecycline_I'],\n",
    "    'Oxazolidinones': ['Linezolid_I'],\n",
    "    'Antifolates': ['Trimethoprim-sulfamethoxazole_I']\n",
    "}\n",
    "\n",
    "# Loop through antibiotic groups to visualize the trends for Pseudomonas aeruginosa\n",
    "print(\"Visualizing results for Species: Pseudomonas aeruginosa\")\n",
    "\n",
    "# Loop through each antibiotic group\n",
    "for group, antibiotics in antibiotic_groups.items():\n",
    "    print(f\"Visualizing results for Antibiotic Group: {group}\")\n",
    "\n",
    "    # Prepare a combined dataframe for the current group\n",
    "    combined_df_list = []\n",
    "\n",
    "    for antibiotic in antibiotics:\n",
    "        if antibiotic in pseudomonadaceae_results:\n",
    "            # Add the 'Antibiotic' column to identify each antibiotic in the group\n",
    "            df = pseudomonadaceae_results[antibiotic].copy()\n",
    "            df['Antibiotic'] = antibiotic.replace('_I', '')  # Removing the \"_I\" suffix for readability\n",
    "            combined_df_list.append(df)\n",
    "        else:\n",
    "            print(f\"No data available for {antibiotic}\")\n",
    "\n",
    "    # If there is data for this group, combine and plot\n",
    "    if combined_df_list:\n",
    "        combined_df = pd.concat(combined_df_list)\n",
    "\n",
    "        # Plotting trends for each antibiotic in the group\n",
    "        fig = px.line(\n",
    "            combined_df,\n",
    "            x='Year',\n",
    "            y=['Susceptible', 'Intermediate', 'Resistant'],\n",
    "            color='Antibiotic',  # Different colors for each antibiotic\n",
    "            line_dash='variable',  # Different dash patterns for susceptible, intermediate, and resistant\n",
    "            title=f\"Susceptibility Trends for Pseudomonas aeruginosa ({group} Group)\",\n",
    "            labels={'value': 'Percentage (%)', 'variable': 'Resistance Category'},\n",
    "            markers=True\n",
    "        )\n",
    "\n",
    "        # Customize the layout\n",
    "        fig.update_layout(\n",
    "            xaxis_title=\"Year\",\n",
    "            yaxis_title=\"Percentage (%)\",\n",
    "            legend_title=\"Antibiotic / Resistance Category\",\n",
    "            template=\"plotly\",\n",
    "            xaxis=dict(tickmode='linear', tick0=2018, dtick=1),  # Ensure years are displayed as integers\n",
    "            width=1000,  # Adjust the width\n",
    "            height=600   # Adjust the height\n",
    "        )\n",
    "\n",
    "        # Show the plot\n",
    "        fig.show()\n",
    "    else:\n",
    "        print(f\"No data to visualize for group {group}\")\n"
   ]
  },
  {
   "cell_type": "code",
   "execution_count": 30,
   "metadata": {},
   "outputs": [
    {
     "name": "stdout",
     "output_type": "stream",
     "text": [
      "Antibiotics showing increasing resistance trends for Pseudomonas aeruginosa with Overall Resistance Rate Increase:\n",
      "Antibiotic      Years Resistant Rates  Overall Resistance Rate Increase\n",
      "Gentamicin 2018, 2019     16.3, 17.13                              0.83\n"
     ]
    }
   ],
   "source": [
    "\n",
    "def check_increasing_trend(resistant_rates):\n",
    "    \"\"\"\n",
    "    This function checks if the resistance trend is increasing year over year.\n",
    "    Returns True if resistance is increasing, False otherwise.\n",
    "    \"\"\"\n",
    "    # Compare each element with the next one to ensure it's increasing\n",
    "    for i in range(len(resistant_rates) - 1):\n",
    "        if resistant_rates[i] > resistant_rates[i + 1]:\n",
    "            return False  # If any rate decreases, return False\n",
    "    return True  # Return True if all rates are increasing\n",
    "\n",
    "def calculate_absolute_change(start_value, end_value):\n",
    "    \"\"\"\n",
    "    This function calculates the absolute change between two values.\n",
    "    \"\"\"\n",
    "    return end_value - start_value\n",
    "\n",
    "# List to store results of increasing resistance trends for Pseudomonas aeruginosa\n",
    "increasing_resistance_results = []\n",
    "\n",
    "# Loop through each antibiotic in the results for Pseudomonas aeruginosa\n",
    "for antibiotic, df in pseudomonadaceae_results.items():\n",
    "    # Extract the resistant rates over the years\n",
    "    resistant_rates = df['Resistant'].values\n",
    "    years = df['Year'].values\n",
    "    \n",
    "    # Check if the resistance trend is increasing\n",
    "    if check_increasing_trend(resistant_rates):\n",
    "        # Calculate absolute changes between consecutive years\n",
    "        absolute_changes = []\n",
    "        for i in range(1, len(resistant_rates)):\n",
    "            start_value = resistant_rates[i - 1]\n",
    "            end_value = resistant_rates[i]\n",
    "            absolute_change = calculate_absolute_change(start_value, end_value)\n",
    "            absolute_changes.append(absolute_change)\n",
    "        \n",
    "        # Calculate the mean of the absolute changes\n",
    "        if absolute_changes:\n",
    "            mean_absolute_change = sum(absolute_changes) / len(absolute_changes)\n",
    "        else:\n",
    "            mean_absolute_change = 0.0\n",
    "        \n",
    "        # Store the information in the results\n",
    "        increasing_resistance_results.append({\n",
    "            'Antibiotic': antibiotic.replace('_I', ''),  # Remove \"_I\" for readability\n",
    "            'Years': ', '.join(map(str, years)),  # Concatenate years for display\n",
    "            'Resistant Rates': ', '.join(map(str, resistant_rates)),  # Concatenate rates for display\n",
    "            'Overall Resistance Rate Increase': round(mean_absolute_change, 2)  # Round to 2 decimal places\n",
    "        })\n",
    "\n",
    "# Convert the results into a DataFrame for easy display\n",
    "increasing_resistance_df = pd.DataFrame(increasing_resistance_results)\n",
    "\n",
    "# Display the results\n",
    "if not increasing_resistance_df.empty:\n",
    "    print(\"Antibiotics showing increasing resistance trends for Pseudomonas aeruginosa with Overall Resistance Rate Increase:\")\n",
    "    print(increasing_resistance_df.to_string(index=False))  # Display DataFrame without the index\n",
    "else:\n",
    "    print(\"No increasing resistance trends identified.\")\n"
   ]
  }
 ],
 "metadata": {
  "kernelspec": {
   "display_name": "base",
   "language": "python",
   "name": "python3"
  },
  "language_info": {
   "codemirror_mode": {
    "name": "ipython",
    "version": 3
   },
   "file_extension": ".py",
   "mimetype": "text/x-python",
   "name": "python",
   "nbconvert_exporter": "python",
   "pygments_lexer": "ipython3",
   "version": "3.11.7"
  }
 },
 "nbformat": 4,
 "nbformat_minor": 2
}
