{
 "cells": [
  {
   "cell_type": "code",
   "execution_count": 8,
   "metadata": {},
   "outputs": [],
   "source": [
    "import pandas as pd\n",
    "import matplotlib.pyplot as plt\n",
    "import plotly.express as px\n",
    "import re\n",
    "import numpy as np\n",
    "pd.options.display.max_columns = None\n",
    "pd.set_option('display.max_rows', None)"
   ]
  },
  {
   "cell_type": "code",
   "execution_count": 9,
   "metadata": {},
   "outputs": [
    {
     "data": {
      "text/html": [
       "<div>\n",
       "<style scoped>\n",
       "    .dataframe tbody tr th:only-of-type {\n",
       "        vertical-align: middle;\n",
       "    }\n",
       "\n",
       "    .dataframe tbody tr th {\n",
       "        vertical-align: top;\n",
       "    }\n",
       "\n",
       "    .dataframe thead th {\n",
       "        text-align: right;\n",
       "    }\n",
       "</style>\n",
       "<table border=\"1\" class=\"dataframe\">\n",
       "  <thead>\n",
       "    <tr style=\"text-align: right;\">\n",
       "      <th></th>\n",
       "      <th>Isolate Number</th>\n",
       "      <th>Data Source</th>\n",
       "      <th>Species</th>\n",
       "      <th>Family</th>\n",
       "      <th>Gender</th>\n",
       "      <th>Age Group</th>\n",
       "      <th>Country</th>\n",
       "      <th>Year</th>\n",
       "      <th>Source of Infection</th>\n",
       "      <th>Amoxicillin-clavulanate</th>\n",
       "      <th>Amoxicillin-clavulanate_I</th>\n",
       "      <th>Ampicillin</th>\n",
       "      <th>Ampicillin_I</th>\n",
       "      <th>Piperacillin tazobactam</th>\n",
       "      <th>Piperacillin tazobactam_I</th>\n",
       "      <th>Ceftriaxone</th>\n",
       "      <th>Ceftriaxone_I</th>\n",
       "      <th>Ceftazidime</th>\n",
       "      <th>Ceftazidime_I</th>\n",
       "      <th>Cefepime</th>\n",
       "      <th>Cefepime_I</th>\n",
       "      <th>Imipenem</th>\n",
       "      <th>Imipenem_I</th>\n",
       "      <th>Meropenem</th>\n",
       "      <th>Meropenem_I</th>\n",
       "      <th>Ciprofloxacin</th>\n",
       "      <th>Ciprofloxacin_I</th>\n",
       "      <th>Levofloxacin</th>\n",
       "      <th>Levofloxacin_I</th>\n",
       "      <th>Amikacin</th>\n",
       "      <th>Amikacin_I</th>\n",
       "      <th>Gentamicin</th>\n",
       "      <th>Gentamicin_I</th>\n",
       "      <th>Vancomycin</th>\n",
       "      <th>Vancomycin_I</th>\n",
       "      <th>Azithromycin</th>\n",
       "      <th>Azithromycin_I</th>\n",
       "      <th>Clarithromycin</th>\n",
       "      <th>Clarithromycin_I</th>\n",
       "      <th>Tigecycline</th>\n",
       "      <th>Tigecycline_I</th>\n",
       "      <th>Linezolid</th>\n",
       "      <th>Linezolid_I</th>\n",
       "      <th>Trimethoprim-sulfamethoxazole</th>\n",
       "      <th>Trimethoprim-sulfamethoxazole_I</th>\n",
       "    </tr>\n",
       "  </thead>\n",
       "  <tbody>\n",
       "    <tr>\n",
       "      <th>0</th>\n",
       "      <td>1773155</td>\n",
       "      <td>ATLAS</td>\n",
       "      <td>Haemophilus influenzae</td>\n",
       "      <td>Pasteurellaceae</td>\n",
       "      <td>Female</td>\n",
       "      <td>85 and Over</td>\n",
       "      <td>Spain</td>\n",
       "      <td>2018</td>\n",
       "      <td>Sputum</td>\n",
       "      <td>2</td>\n",
       "      <td>NaN</td>\n",
       "      <td>&gt;8</td>\n",
       "      <td>NaN</td>\n",
       "      <td>&lt;=0.03</td>\n",
       "      <td>NaN</td>\n",
       "      <td>&lt;=0.03</td>\n",
       "      <td>NaN</td>\n",
       "      <td>0.06</td>\n",
       "      <td>NaN</td>\n",
       "      <td>NaN</td>\n",
       "      <td>NaN</td>\n",
       "      <td>NaN</td>\n",
       "      <td>NaN</td>\n",
       "      <td>0.12</td>\n",
       "      <td>NaN</td>\n",
       "      <td>NaN</td>\n",
       "      <td>NaN</td>\n",
       "      <td>0.03</td>\n",
       "      <td>NaN</td>\n",
       "      <td>NaN</td>\n",
       "      <td>NaN</td>\n",
       "      <td>NaN</td>\n",
       "      <td>NaN</td>\n",
       "      <td>NaN</td>\n",
       "      <td>NaN</td>\n",
       "      <td>1</td>\n",
       "      <td>NaN</td>\n",
       "      <td>NaN</td>\n",
       "      <td>NaN</td>\n",
       "      <td>0.06</td>\n",
       "      <td>NaN</td>\n",
       "      <td>NaN</td>\n",
       "      <td>NaN</td>\n",
       "      <td>NaN</td>\n",
       "      <td>NaN</td>\n",
       "    </tr>\n",
       "    <tr>\n",
       "      <th>1</th>\n",
       "      <td>1773157</td>\n",
       "      <td>ATLAS</td>\n",
       "      <td>Haemophilus influenzae</td>\n",
       "      <td>Pasteurellaceae</td>\n",
       "      <td>Male</td>\n",
       "      <td>3 to 12 Years</td>\n",
       "      <td>Spain</td>\n",
       "      <td>2018</td>\n",
       "      <td>Sputum</td>\n",
       "      <td>&lt;=0.5</td>\n",
       "      <td>NaN</td>\n",
       "      <td>&lt;=0.5</td>\n",
       "      <td>NaN</td>\n",
       "      <td>&lt;=0.03</td>\n",
       "      <td>NaN</td>\n",
       "      <td>&lt;=0.03</td>\n",
       "      <td>NaN</td>\n",
       "      <td>&lt;=0.03</td>\n",
       "      <td>NaN</td>\n",
       "      <td>NaN</td>\n",
       "      <td>NaN</td>\n",
       "      <td>NaN</td>\n",
       "      <td>NaN</td>\n",
       "      <td>0.03</td>\n",
       "      <td>NaN</td>\n",
       "      <td>NaN</td>\n",
       "      <td>NaN</td>\n",
       "      <td>0.03</td>\n",
       "      <td>NaN</td>\n",
       "      <td>NaN</td>\n",
       "      <td>NaN</td>\n",
       "      <td>NaN</td>\n",
       "      <td>NaN</td>\n",
       "      <td>NaN</td>\n",
       "      <td>NaN</td>\n",
       "      <td>1</td>\n",
       "      <td>NaN</td>\n",
       "      <td>NaN</td>\n",
       "      <td>NaN</td>\n",
       "      <td>0.06</td>\n",
       "      <td>NaN</td>\n",
       "      <td>NaN</td>\n",
       "      <td>NaN</td>\n",
       "      <td>NaN</td>\n",
       "      <td>NaN</td>\n",
       "    </tr>\n",
       "    <tr>\n",
       "      <th>2</th>\n",
       "      <td>1773158</td>\n",
       "      <td>ATLAS</td>\n",
       "      <td>Haemophilus influenzae</td>\n",
       "      <td>Pasteurellaceae</td>\n",
       "      <td>Female</td>\n",
       "      <td>3 to 12 Years</td>\n",
       "      <td>Spain</td>\n",
       "      <td>2018</td>\n",
       "      <td>Sputum</td>\n",
       "      <td>2</td>\n",
       "      <td>NaN</td>\n",
       "      <td>1</td>\n",
       "      <td>NaN</td>\n",
       "      <td>&lt;=0.03</td>\n",
       "      <td>NaN</td>\n",
       "      <td>0.06</td>\n",
       "      <td>NaN</td>\n",
       "      <td>0.12</td>\n",
       "      <td>NaN</td>\n",
       "      <td>NaN</td>\n",
       "      <td>NaN</td>\n",
       "      <td>NaN</td>\n",
       "      <td>NaN</td>\n",
       "      <td>0.25</td>\n",
       "      <td>NaN</td>\n",
       "      <td>NaN</td>\n",
       "      <td>NaN</td>\n",
       "      <td>0.015</td>\n",
       "      <td>NaN</td>\n",
       "      <td>NaN</td>\n",
       "      <td>NaN</td>\n",
       "      <td>NaN</td>\n",
       "      <td>NaN</td>\n",
       "      <td>NaN</td>\n",
       "      <td>NaN</td>\n",
       "      <td>1</td>\n",
       "      <td>NaN</td>\n",
       "      <td>NaN</td>\n",
       "      <td>NaN</td>\n",
       "      <td>0.06</td>\n",
       "      <td>NaN</td>\n",
       "      <td>NaN</td>\n",
       "      <td>NaN</td>\n",
       "      <td>NaN</td>\n",
       "      <td>NaN</td>\n",
       "    </tr>\n",
       "    <tr>\n",
       "      <th>3</th>\n",
       "      <td>1773159</td>\n",
       "      <td>ATLAS</td>\n",
       "      <td>Haemophilus influenzae</td>\n",
       "      <td>Pasteurellaceae</td>\n",
       "      <td>Male</td>\n",
       "      <td>19 to 64 Years</td>\n",
       "      <td>Spain</td>\n",
       "      <td>2018</td>\n",
       "      <td>Sputum</td>\n",
       "      <td>2</td>\n",
       "      <td>NaN</td>\n",
       "      <td>1</td>\n",
       "      <td>NaN</td>\n",
       "      <td>&lt;=0.03</td>\n",
       "      <td>NaN</td>\n",
       "      <td>&lt;=0.03</td>\n",
       "      <td>NaN</td>\n",
       "      <td>0.12</td>\n",
       "      <td>NaN</td>\n",
       "      <td>NaN</td>\n",
       "      <td>NaN</td>\n",
       "      <td>NaN</td>\n",
       "      <td>NaN</td>\n",
       "      <td>0.12</td>\n",
       "      <td>NaN</td>\n",
       "      <td>NaN</td>\n",
       "      <td>NaN</td>\n",
       "      <td>0.015</td>\n",
       "      <td>NaN</td>\n",
       "      <td>NaN</td>\n",
       "      <td>NaN</td>\n",
       "      <td>NaN</td>\n",
       "      <td>NaN</td>\n",
       "      <td>NaN</td>\n",
       "      <td>NaN</td>\n",
       "      <td>1</td>\n",
       "      <td>NaN</td>\n",
       "      <td>NaN</td>\n",
       "      <td>NaN</td>\n",
       "      <td>0.12</td>\n",
       "      <td>NaN</td>\n",
       "      <td>NaN</td>\n",
       "      <td>NaN</td>\n",
       "      <td>NaN</td>\n",
       "      <td>NaN</td>\n",
       "    </tr>\n",
       "    <tr>\n",
       "      <th>4</th>\n",
       "      <td>1773160</td>\n",
       "      <td>ATLAS</td>\n",
       "      <td>Haemophilus influenzae</td>\n",
       "      <td>Pasteurellaceae</td>\n",
       "      <td>Male</td>\n",
       "      <td>3 to 12 Years</td>\n",
       "      <td>Spain</td>\n",
       "      <td>2018</td>\n",
       "      <td>Sputum</td>\n",
       "      <td>&lt;=0.5</td>\n",
       "      <td>NaN</td>\n",
       "      <td>&lt;=0.5</td>\n",
       "      <td>NaN</td>\n",
       "      <td>&lt;=0.03</td>\n",
       "      <td>NaN</td>\n",
       "      <td>&lt;=0.03</td>\n",
       "      <td>NaN</td>\n",
       "      <td>0.12</td>\n",
       "      <td>NaN</td>\n",
       "      <td>NaN</td>\n",
       "      <td>NaN</td>\n",
       "      <td>NaN</td>\n",
       "      <td>NaN</td>\n",
       "      <td>0.06</td>\n",
       "      <td>NaN</td>\n",
       "      <td>NaN</td>\n",
       "      <td>NaN</td>\n",
       "      <td>0.015</td>\n",
       "      <td>NaN</td>\n",
       "      <td>NaN</td>\n",
       "      <td>NaN</td>\n",
       "      <td>NaN</td>\n",
       "      <td>NaN</td>\n",
       "      <td>NaN</td>\n",
       "      <td>NaN</td>\n",
       "      <td>1</td>\n",
       "      <td>NaN</td>\n",
       "      <td>NaN</td>\n",
       "      <td>NaN</td>\n",
       "      <td>0.06</td>\n",
       "      <td>NaN</td>\n",
       "      <td>NaN</td>\n",
       "      <td>NaN</td>\n",
       "      <td>NaN</td>\n",
       "      <td>NaN</td>\n",
       "    </tr>\n",
       "  </tbody>\n",
       "</table>\n",
       "</div>"
      ],
      "text/plain": [
       "   Isolate Number Data Source                 Species           Family  \\\n",
       "0         1773155       ATLAS  Haemophilus influenzae  Pasteurellaceae   \n",
       "1         1773157       ATLAS  Haemophilus influenzae  Pasteurellaceae   \n",
       "2         1773158       ATLAS  Haemophilus influenzae  Pasteurellaceae   \n",
       "3         1773159       ATLAS  Haemophilus influenzae  Pasteurellaceae   \n",
       "4         1773160       ATLAS  Haemophilus influenzae  Pasteurellaceae   \n",
       "\n",
       "   Gender       Age Group Country  Year Source of Infection  \\\n",
       "0  Female     85 and Over   Spain  2018              Sputum   \n",
       "1    Male   3 to 12 Years   Spain  2018              Sputum   \n",
       "2  Female   3 to 12 Years   Spain  2018              Sputum   \n",
       "3    Male  19 to 64 Years   Spain  2018              Sputum   \n",
       "4    Male   3 to 12 Years   Spain  2018              Sputum   \n",
       "\n",
       "  Amoxicillin-clavulanate  Amoxicillin-clavulanate_I Ampicillin  Ampicillin_I  \\\n",
       "0                       2                        NaN         >8           NaN   \n",
       "1                   <=0.5                        NaN      <=0.5           NaN   \n",
       "2                       2                        NaN          1           NaN   \n",
       "3                       2                        NaN          1           NaN   \n",
       "4                   <=0.5                        NaN      <=0.5           NaN   \n",
       "\n",
       "  Piperacillin tazobactam  Piperacillin tazobactam_I Ceftriaxone  \\\n",
       "0                  <=0.03                        NaN      <=0.03   \n",
       "1                  <=0.03                        NaN      <=0.03   \n",
       "2                  <=0.03                        NaN        0.06   \n",
       "3                  <=0.03                        NaN      <=0.03   \n",
       "4                  <=0.03                        NaN      <=0.03   \n",
       "\n",
       "   Ceftriaxone_I Ceftazidime  Ceftazidime_I  Cefepime  Cefepime_I  Imipenem  \\\n",
       "0            NaN        0.06            NaN       NaN         NaN       NaN   \n",
       "1            NaN      <=0.03            NaN       NaN         NaN       NaN   \n",
       "2            NaN        0.12            NaN       NaN         NaN       NaN   \n",
       "3            NaN        0.12            NaN       NaN         NaN       NaN   \n",
       "4            NaN        0.12            NaN       NaN         NaN       NaN   \n",
       "\n",
       "   Imipenem_I Meropenem  Meropenem_I  Ciprofloxacin  Ciprofloxacin_I  \\\n",
       "0         NaN      0.12          NaN            NaN              NaN   \n",
       "1         NaN      0.03          NaN            NaN              NaN   \n",
       "2         NaN      0.25          NaN            NaN              NaN   \n",
       "3         NaN      0.12          NaN            NaN              NaN   \n",
       "4         NaN      0.06          NaN            NaN              NaN   \n",
       "\n",
       "  Levofloxacin  Levofloxacin_I  Amikacin  Amikacin_I  Gentamicin  \\\n",
       "0         0.03             NaN       NaN         NaN         NaN   \n",
       "1         0.03             NaN       NaN         NaN         NaN   \n",
       "2        0.015             NaN       NaN         NaN         NaN   \n",
       "3        0.015             NaN       NaN         NaN         NaN   \n",
       "4        0.015             NaN       NaN         NaN         NaN   \n",
       "\n",
       "   Gentamicin_I  Vancomycin  Vancomycin_I Azithromycin  Azithromycin_I  \\\n",
       "0           NaN         NaN           NaN            1             NaN   \n",
       "1           NaN         NaN           NaN            1             NaN   \n",
       "2           NaN         NaN           NaN            1             NaN   \n",
       "3           NaN         NaN           NaN            1             NaN   \n",
       "4           NaN         NaN           NaN            1             NaN   \n",
       "\n",
       "   Clarithromycin  Clarithromycin_I Tigecycline  Tigecycline_I  Linezolid  \\\n",
       "0             NaN               NaN        0.06            NaN        NaN   \n",
       "1             NaN               NaN        0.06            NaN        NaN   \n",
       "2             NaN               NaN        0.06            NaN        NaN   \n",
       "3             NaN               NaN        0.12            NaN        NaN   \n",
       "4             NaN               NaN        0.06            NaN        NaN   \n",
       "\n",
       "   Linezolid_I Trimethoprim-sulfamethoxazole  Trimethoprim-sulfamethoxazole_I  \n",
       "0          NaN                           NaN                              NaN  \n",
       "1          NaN                           NaN                              NaN  \n",
       "2          NaN                           NaN                              NaN  \n",
       "3          NaN                           NaN                              NaN  \n",
       "4          NaN                           NaN                              NaN  "
      ]
     },
     "execution_count": 9,
     "metadata": {},
     "output_type": "execute_result"
    }
   ],
   "source": [
    "# Load the CSV into the DataFrame\n",
    "pasteurellaceae_df = pd.read_csv(r\"D:\\Vivli 2024\\Jupiter Notebooks\\Vidata Analysis\\Filtered Data for the Species and Families\\pasteurellaceae_df.csv\")\n",
    "\n",
    "# Display the DataFrame (optional)\n",
    "pasteurellaceae_df.head()\n"
   ]
  },
  {
   "cell_type": "code",
   "execution_count": 10,
   "metadata": {},
   "outputs": [],
   "source": [
    "# Function to extract numeric value from a string, handling cases like '<', '>', etc.\n",
    "def extract_numeric_value(value):\n",
    "    if isinstance(value, str):\n",
    "        # Use regex to remove any non-numeric characters except for '.' and '-'\n",
    "        cleaned_value = re.sub(r'[^\\d.-]', '', value)\n",
    "        try:\n",
    "            return float(cleaned_value)\n",
    "        except ValueError:\n",
    "            return np.nan  # Return NaN if conversion fails\n",
    "    return value  # Return the value as is if it's already numeric"
   ]
  },
  {
   "cell_type": "code",
   "execution_count": 11,
   "metadata": {},
   "outputs": [
    {
     "data": {
      "text/html": [
       "<div>\n",
       "<style scoped>\n",
       "    .dataframe tbody tr th:only-of-type {\n",
       "        vertical-align: middle;\n",
       "    }\n",
       "\n",
       "    .dataframe tbody tr th {\n",
       "        vertical-align: top;\n",
       "    }\n",
       "\n",
       "    .dataframe thead th {\n",
       "        text-align: right;\n",
       "    }\n",
       "</style>\n",
       "<table border=\"1\" class=\"dataframe\">\n",
       "  <thead>\n",
       "    <tr style=\"text-align: right;\">\n",
       "      <th></th>\n",
       "      <th>Isolate Number</th>\n",
       "      <th>Data Source</th>\n",
       "      <th>Species</th>\n",
       "      <th>Family</th>\n",
       "      <th>Gender</th>\n",
       "      <th>Age Group</th>\n",
       "      <th>Country</th>\n",
       "      <th>Year</th>\n",
       "      <th>Source of Infection</th>\n",
       "      <th>Amoxicillin-clavulanate</th>\n",
       "      <th>Amoxicillin-clavulanate_I</th>\n",
       "      <th>Ampicillin</th>\n",
       "      <th>Ampicillin_I</th>\n",
       "      <th>Piperacillin tazobactam</th>\n",
       "      <th>Piperacillin tazobactam_I</th>\n",
       "      <th>Ceftriaxone</th>\n",
       "      <th>Ceftriaxone_I</th>\n",
       "      <th>Ceftazidime</th>\n",
       "      <th>Ceftazidime_I</th>\n",
       "      <th>Cefepime</th>\n",
       "      <th>Cefepime_I</th>\n",
       "      <th>Imipenem</th>\n",
       "      <th>Imipenem_I</th>\n",
       "      <th>Meropenem</th>\n",
       "      <th>Meropenem_I</th>\n",
       "      <th>Ciprofloxacin</th>\n",
       "      <th>Ciprofloxacin_I</th>\n",
       "      <th>Levofloxacin</th>\n",
       "      <th>Levofloxacin_I</th>\n",
       "      <th>Amikacin</th>\n",
       "      <th>Amikacin_I</th>\n",
       "      <th>Gentamicin</th>\n",
       "      <th>Gentamicin_I</th>\n",
       "      <th>Vancomycin</th>\n",
       "      <th>Vancomycin_I</th>\n",
       "      <th>Azithromycin</th>\n",
       "      <th>Azithromycin_I</th>\n",
       "      <th>Clarithromycin</th>\n",
       "      <th>Clarithromycin_I</th>\n",
       "      <th>Tigecycline</th>\n",
       "      <th>Tigecycline_I</th>\n",
       "      <th>Linezolid</th>\n",
       "      <th>Linezolid_I</th>\n",
       "      <th>Trimethoprim-sulfamethoxazole</th>\n",
       "      <th>Trimethoprim-sulfamethoxazole_I</th>\n",
       "    </tr>\n",
       "  </thead>\n",
       "  <tbody>\n",
       "    <tr>\n",
       "      <th>0</th>\n",
       "      <td>1773155</td>\n",
       "      <td>ATLAS</td>\n",
       "      <td>Haemophilus influenzae</td>\n",
       "      <td>Pasteurellaceae</td>\n",
       "      <td>Female</td>\n",
       "      <td>85 and Over</td>\n",
       "      <td>Spain</td>\n",
       "      <td>2018</td>\n",
       "      <td>Sputum</td>\n",
       "      <td>2</td>\n",
       "      <td>Susceptible</td>\n",
       "      <td>&gt;8</td>\n",
       "      <td>Resistant</td>\n",
       "      <td>&lt;=0.03</td>\n",
       "      <td>Susceptible</td>\n",
       "      <td>&lt;=0.03</td>\n",
       "      <td>Susceptible</td>\n",
       "      <td>0.06</td>\n",
       "      <td>NaN</td>\n",
       "      <td>NaN</td>\n",
       "      <td>Use Not recommended</td>\n",
       "      <td>NaN</td>\n",
       "      <td>Use Not recommended</td>\n",
       "      <td>0.12</td>\n",
       "      <td>Susceptible</td>\n",
       "      <td>NaN</td>\n",
       "      <td>Use Not recommended</td>\n",
       "      <td>0.03</td>\n",
       "      <td>Susceptible</td>\n",
       "      <td>NaN</td>\n",
       "      <td>Use Not recommended</td>\n",
       "      <td>NaN</td>\n",
       "      <td>Use Not recommended</td>\n",
       "      <td>NaN</td>\n",
       "      <td>NaN</td>\n",
       "      <td>1</td>\n",
       "      <td>Negative test for strain with acquired resistance</td>\n",
       "      <td>NaN</td>\n",
       "      <td>Use Not recommended</td>\n",
       "      <td>0.06</td>\n",
       "      <td>Insufficient evidence that the organism or gro...</td>\n",
       "      <td>NaN</td>\n",
       "      <td>NaN</td>\n",
       "      <td>NaN</td>\n",
       "      <td>Use Not recommended</td>\n",
       "    </tr>\n",
       "    <tr>\n",
       "      <th>1</th>\n",
       "      <td>1773157</td>\n",
       "      <td>ATLAS</td>\n",
       "      <td>Haemophilus influenzae</td>\n",
       "      <td>Pasteurellaceae</td>\n",
       "      <td>Male</td>\n",
       "      <td>3 to 12 Years</td>\n",
       "      <td>Spain</td>\n",
       "      <td>2018</td>\n",
       "      <td>Sputum</td>\n",
       "      <td>&lt;=0.5</td>\n",
       "      <td>Susceptible</td>\n",
       "      <td>&lt;=0.5</td>\n",
       "      <td>Susceptible</td>\n",
       "      <td>&lt;=0.03</td>\n",
       "      <td>Susceptible</td>\n",
       "      <td>&lt;=0.03</td>\n",
       "      <td>Susceptible</td>\n",
       "      <td>&lt;=0.03</td>\n",
       "      <td>NaN</td>\n",
       "      <td>NaN</td>\n",
       "      <td>Use Not recommended</td>\n",
       "      <td>NaN</td>\n",
       "      <td>Use Not recommended</td>\n",
       "      <td>0.03</td>\n",
       "      <td>Susceptible</td>\n",
       "      <td>NaN</td>\n",
       "      <td>Use Not recommended</td>\n",
       "      <td>0.03</td>\n",
       "      <td>Susceptible</td>\n",
       "      <td>NaN</td>\n",
       "      <td>Use Not recommended</td>\n",
       "      <td>NaN</td>\n",
       "      <td>Use Not recommended</td>\n",
       "      <td>NaN</td>\n",
       "      <td>NaN</td>\n",
       "      <td>1</td>\n",
       "      <td>Negative test for strain with acquired resistance</td>\n",
       "      <td>NaN</td>\n",
       "      <td>Use Not recommended</td>\n",
       "      <td>0.06</td>\n",
       "      <td>Insufficient evidence that the organism or gro...</td>\n",
       "      <td>NaN</td>\n",
       "      <td>NaN</td>\n",
       "      <td>NaN</td>\n",
       "      <td>Use Not recommended</td>\n",
       "    </tr>\n",
       "    <tr>\n",
       "      <th>2</th>\n",
       "      <td>1773158</td>\n",
       "      <td>ATLAS</td>\n",
       "      <td>Haemophilus influenzae</td>\n",
       "      <td>Pasteurellaceae</td>\n",
       "      <td>Female</td>\n",
       "      <td>3 to 12 Years</td>\n",
       "      <td>Spain</td>\n",
       "      <td>2018</td>\n",
       "      <td>Sputum</td>\n",
       "      <td>2</td>\n",
       "      <td>Susceptible</td>\n",
       "      <td>1</td>\n",
       "      <td>Susceptible</td>\n",
       "      <td>&lt;=0.03</td>\n",
       "      <td>Susceptible</td>\n",
       "      <td>0.06</td>\n",
       "      <td>Susceptible</td>\n",
       "      <td>0.12</td>\n",
       "      <td>NaN</td>\n",
       "      <td>NaN</td>\n",
       "      <td>Use Not recommended</td>\n",
       "      <td>NaN</td>\n",
       "      <td>Use Not recommended</td>\n",
       "      <td>0.25</td>\n",
       "      <td>Susceptible</td>\n",
       "      <td>NaN</td>\n",
       "      <td>Use Not recommended</td>\n",
       "      <td>0.015</td>\n",
       "      <td>Susceptible</td>\n",
       "      <td>NaN</td>\n",
       "      <td>Use Not recommended</td>\n",
       "      <td>NaN</td>\n",
       "      <td>Use Not recommended</td>\n",
       "      <td>NaN</td>\n",
       "      <td>NaN</td>\n",
       "      <td>1</td>\n",
       "      <td>Negative test for strain with acquired resistance</td>\n",
       "      <td>NaN</td>\n",
       "      <td>Use Not recommended</td>\n",
       "      <td>0.06</td>\n",
       "      <td>Insufficient evidence that the organism or gro...</td>\n",
       "      <td>NaN</td>\n",
       "      <td>NaN</td>\n",
       "      <td>NaN</td>\n",
       "      <td>Use Not recommended</td>\n",
       "    </tr>\n",
       "    <tr>\n",
       "      <th>3</th>\n",
       "      <td>1773159</td>\n",
       "      <td>ATLAS</td>\n",
       "      <td>Haemophilus influenzae</td>\n",
       "      <td>Pasteurellaceae</td>\n",
       "      <td>Male</td>\n",
       "      <td>19 to 64 Years</td>\n",
       "      <td>Spain</td>\n",
       "      <td>2018</td>\n",
       "      <td>Sputum</td>\n",
       "      <td>2</td>\n",
       "      <td>Susceptible</td>\n",
       "      <td>1</td>\n",
       "      <td>Susceptible</td>\n",
       "      <td>&lt;=0.03</td>\n",
       "      <td>Susceptible</td>\n",
       "      <td>&lt;=0.03</td>\n",
       "      <td>Susceptible</td>\n",
       "      <td>0.12</td>\n",
       "      <td>NaN</td>\n",
       "      <td>NaN</td>\n",
       "      <td>Use Not recommended</td>\n",
       "      <td>NaN</td>\n",
       "      <td>Use Not recommended</td>\n",
       "      <td>0.12</td>\n",
       "      <td>Susceptible</td>\n",
       "      <td>NaN</td>\n",
       "      <td>Use Not recommended</td>\n",
       "      <td>0.015</td>\n",
       "      <td>Susceptible</td>\n",
       "      <td>NaN</td>\n",
       "      <td>Use Not recommended</td>\n",
       "      <td>NaN</td>\n",
       "      <td>Use Not recommended</td>\n",
       "      <td>NaN</td>\n",
       "      <td>NaN</td>\n",
       "      <td>1</td>\n",
       "      <td>Negative test for strain with acquired resistance</td>\n",
       "      <td>NaN</td>\n",
       "      <td>Use Not recommended</td>\n",
       "      <td>0.12</td>\n",
       "      <td>Insufficient evidence that the organism or gro...</td>\n",
       "      <td>NaN</td>\n",
       "      <td>NaN</td>\n",
       "      <td>NaN</td>\n",
       "      <td>Use Not recommended</td>\n",
       "    </tr>\n",
       "    <tr>\n",
       "      <th>4</th>\n",
       "      <td>1773160</td>\n",
       "      <td>ATLAS</td>\n",
       "      <td>Haemophilus influenzae</td>\n",
       "      <td>Pasteurellaceae</td>\n",
       "      <td>Male</td>\n",
       "      <td>3 to 12 Years</td>\n",
       "      <td>Spain</td>\n",
       "      <td>2018</td>\n",
       "      <td>Sputum</td>\n",
       "      <td>&lt;=0.5</td>\n",
       "      <td>Susceptible</td>\n",
       "      <td>&lt;=0.5</td>\n",
       "      <td>Susceptible</td>\n",
       "      <td>&lt;=0.03</td>\n",
       "      <td>Susceptible</td>\n",
       "      <td>&lt;=0.03</td>\n",
       "      <td>Susceptible</td>\n",
       "      <td>0.12</td>\n",
       "      <td>NaN</td>\n",
       "      <td>NaN</td>\n",
       "      <td>Use Not recommended</td>\n",
       "      <td>NaN</td>\n",
       "      <td>Use Not recommended</td>\n",
       "      <td>0.06</td>\n",
       "      <td>Susceptible</td>\n",
       "      <td>NaN</td>\n",
       "      <td>Use Not recommended</td>\n",
       "      <td>0.015</td>\n",
       "      <td>Susceptible</td>\n",
       "      <td>NaN</td>\n",
       "      <td>Use Not recommended</td>\n",
       "      <td>NaN</td>\n",
       "      <td>Use Not recommended</td>\n",
       "      <td>NaN</td>\n",
       "      <td>NaN</td>\n",
       "      <td>1</td>\n",
       "      <td>Negative test for strain with acquired resistance</td>\n",
       "      <td>NaN</td>\n",
       "      <td>Use Not recommended</td>\n",
       "      <td>0.06</td>\n",
       "      <td>Insufficient evidence that the organism or gro...</td>\n",
       "      <td>NaN</td>\n",
       "      <td>NaN</td>\n",
       "      <td>NaN</td>\n",
       "      <td>Use Not recommended</td>\n",
       "    </tr>\n",
       "  </tbody>\n",
       "</table>\n",
       "</div>"
      ],
      "text/plain": [
       "   Isolate Number Data Source                 Species           Family  \\\n",
       "0         1773155       ATLAS  Haemophilus influenzae  Pasteurellaceae   \n",
       "1         1773157       ATLAS  Haemophilus influenzae  Pasteurellaceae   \n",
       "2         1773158       ATLAS  Haemophilus influenzae  Pasteurellaceae   \n",
       "3         1773159       ATLAS  Haemophilus influenzae  Pasteurellaceae   \n",
       "4         1773160       ATLAS  Haemophilus influenzae  Pasteurellaceae   \n",
       "\n",
       "   Gender       Age Group Country  Year Source of Infection  \\\n",
       "0  Female     85 and Over   Spain  2018              Sputum   \n",
       "1    Male   3 to 12 Years   Spain  2018              Sputum   \n",
       "2  Female   3 to 12 Years   Spain  2018              Sputum   \n",
       "3    Male  19 to 64 Years   Spain  2018              Sputum   \n",
       "4    Male   3 to 12 Years   Spain  2018              Sputum   \n",
       "\n",
       "  Amoxicillin-clavulanate Amoxicillin-clavulanate_I Ampicillin Ampicillin_I  \\\n",
       "0                       2               Susceptible         >8    Resistant   \n",
       "1                   <=0.5               Susceptible      <=0.5  Susceptible   \n",
       "2                       2               Susceptible          1  Susceptible   \n",
       "3                       2               Susceptible          1  Susceptible   \n",
       "4                   <=0.5               Susceptible      <=0.5  Susceptible   \n",
       "\n",
       "  Piperacillin tazobactam Piperacillin tazobactam_I Ceftriaxone Ceftriaxone_I  \\\n",
       "0                  <=0.03               Susceptible      <=0.03   Susceptible   \n",
       "1                  <=0.03               Susceptible      <=0.03   Susceptible   \n",
       "2                  <=0.03               Susceptible        0.06   Susceptible   \n",
       "3                  <=0.03               Susceptible      <=0.03   Susceptible   \n",
       "4                  <=0.03               Susceptible      <=0.03   Susceptible   \n",
       "\n",
       "  Ceftazidime  Ceftazidime_I  Cefepime           Cefepime_I  Imipenem  \\\n",
       "0        0.06            NaN       NaN  Use Not recommended       NaN   \n",
       "1      <=0.03            NaN       NaN  Use Not recommended       NaN   \n",
       "2        0.12            NaN       NaN  Use Not recommended       NaN   \n",
       "3        0.12            NaN       NaN  Use Not recommended       NaN   \n",
       "4        0.12            NaN       NaN  Use Not recommended       NaN   \n",
       "\n",
       "            Imipenem_I Meropenem  Meropenem_I  Ciprofloxacin  \\\n",
       "0  Use Not recommended      0.12  Susceptible            NaN   \n",
       "1  Use Not recommended      0.03  Susceptible            NaN   \n",
       "2  Use Not recommended      0.25  Susceptible            NaN   \n",
       "3  Use Not recommended      0.12  Susceptible            NaN   \n",
       "4  Use Not recommended      0.06  Susceptible            NaN   \n",
       "\n",
       "       Ciprofloxacin_I Levofloxacin Levofloxacin_I  Amikacin  \\\n",
       "0  Use Not recommended         0.03    Susceptible       NaN   \n",
       "1  Use Not recommended         0.03    Susceptible       NaN   \n",
       "2  Use Not recommended        0.015    Susceptible       NaN   \n",
       "3  Use Not recommended        0.015    Susceptible       NaN   \n",
       "4  Use Not recommended        0.015    Susceptible       NaN   \n",
       "\n",
       "            Amikacin_I  Gentamicin         Gentamicin_I  Vancomycin  \\\n",
       "0  Use Not recommended         NaN  Use Not recommended         NaN   \n",
       "1  Use Not recommended         NaN  Use Not recommended         NaN   \n",
       "2  Use Not recommended         NaN  Use Not recommended         NaN   \n",
       "3  Use Not recommended         NaN  Use Not recommended         NaN   \n",
       "4  Use Not recommended         NaN  Use Not recommended         NaN   \n",
       "\n",
       "   Vancomycin_I Azithromycin  \\\n",
       "0           NaN            1   \n",
       "1           NaN            1   \n",
       "2           NaN            1   \n",
       "3           NaN            1   \n",
       "4           NaN            1   \n",
       "\n",
       "                                      Azithromycin_I  Clarithromycin  \\\n",
       "0  Negative test for strain with acquired resistance             NaN   \n",
       "1  Negative test for strain with acquired resistance             NaN   \n",
       "2  Negative test for strain with acquired resistance             NaN   \n",
       "3  Negative test for strain with acquired resistance             NaN   \n",
       "4  Negative test for strain with acquired resistance             NaN   \n",
       "\n",
       "      Clarithromycin_I Tigecycline  \\\n",
       "0  Use Not recommended        0.06   \n",
       "1  Use Not recommended        0.06   \n",
       "2  Use Not recommended        0.06   \n",
       "3  Use Not recommended        0.12   \n",
       "4  Use Not recommended        0.06   \n",
       "\n",
       "                                       Tigecycline_I  Linezolid  Linezolid_I  \\\n",
       "0  Insufficient evidence that the organism or gro...        NaN          NaN   \n",
       "1  Insufficient evidence that the organism or gro...        NaN          NaN   \n",
       "2  Insufficient evidence that the organism or gro...        NaN          NaN   \n",
       "3  Insufficient evidence that the organism or gro...        NaN          NaN   \n",
       "4  Insufficient evidence that the organism or gro...        NaN          NaN   \n",
       "\n",
       "  Trimethoprim-sulfamethoxazole Trimethoprim-sulfamethoxazole_I  \n",
       "0                           NaN             Use Not recommended  \n",
       "1                           NaN             Use Not recommended  \n",
       "2                           NaN             Use Not recommended  \n",
       "3                           NaN             Use Not recommended  \n",
       "4                           NaN             Use Not recommended  "
      ]
     },
     "execution_count": 11,
     "metadata": {},
     "output_type": "execute_result"
    }
   ],
   "source": [
    "# Function to interpret antibiotic values based on the given conditions for Pasteurellaceae family\n",
    "def interpret_antibiotic_pasteurellaceae(row, antibiotic, year):\n",
    "    value = extract_numeric_value(row[antibiotic])  # Clean the value\n",
    "\n",
    "    # Handle missing or non-numeric values\n",
    "    if pd.isna(value):\n",
    "        return 'Use Not recommended'\n",
    "\n",
    "    # Interpret for Penicillins (Amoxicillin-clavulanate - AMC, Ampicillin - AMP, Piperacillin tazobactam - TZP)\n",
    "    if antibiotic == 'Amoxicillin-clavulanate':\n",
    "        if year in [2018, 2019, 2020, 2021, 2022]:\n",
    "            return 'Susceptible' if value <= 2 else 'Resistant'\n",
    "    elif antibiotic == 'Ampicillin':\n",
    "        if year in [2018, 2019, 2020, 2021, 2022]:\n",
    "            return 'Susceptible' if value <= 1 else 'Resistant'\n",
    "    elif antibiotic == 'Piperacillin tazobactam':\n",
    "        if year in [2018, 2019, 2020, 2021, 2022]:\n",
    "            return 'Susceptible' if value <= 0.25 else 'Resistant'\n",
    "\n",
    "    # Interpret for Cephalosporins (Ceftriaxone - AXO, Cefepime - PIP)\n",
    "    elif antibiotic == 'Ceftriaxone':\n",
    "        if year in [2018, 2019, 2020, 2021, 2022]:\n",
    "            return 'Susceptible' if value <= 0.125 else 'Resistant'\n",
    "    elif antibiotic == 'Cefepime':\n",
    "        if year in [2018, 2019, 2020, 2021, 2022]:\n",
    "            return 'Susceptible' if value <= 0.25 else 'Resistant'\n",
    "\n",
    "    # Interpret for Carbapenems (Imipenem - IPM, Meropenem - MEM)\n",
    "    elif antibiotic in ['Imipenem', 'Meropenem']:\n",
    "        if year in [2018, 2019, 2020, 2021, 2022]:\n",
    "            return 'Susceptible' if value <= 2 else 'Resistant'\n",
    "\n",
    "    # Interpret for Fluoroquinolones (Ciprofloxacin - CIP, Levofloxacin - LEV)\n",
    "    elif antibiotic == 'Ciprofloxacin':\n",
    "        if year in [2018, 2019, 2020, 2021, 2022]:\n",
    "            return 'Susceptible' if value <= 0.06 else 'Resistant'\n",
    "    elif antibiotic == 'Levofloxacin':\n",
    "        if year in [2018, 2019, 2020, 2021, 2022]:\n",
    "            return 'Susceptible' if value <= 0.06 else 'Resistant'\n",
    "\n",
    "    # Interpret for Aminoglycosides (Amikacin - AMK, Gentamicin - GEN)\n",
    "    elif antibiotic in ['Amikacin', 'Gentamicin']:\n",
    "        if year in [2018, 2019, 2020, 2021, 2022]:\n",
    "            return 'Insufficient evidence that the organism or group is a good target for therapy with the agent'\n",
    "\n",
    "    # Interpret for Macrolides (Azithromycin - AZM, Clarithromycin - CAM)\n",
    "    elif antibiotic == 'Azithromycin':\n",
    "        if year in [2018, 2019, 2020, 2021, 2022]:\n",
    "            return 'Negative test for strain with acquired resistance' if value <= 4 else 'Positive test for strain with acquired resistance'\n",
    "    elif antibiotic == 'Clarithromycin':\n",
    "        if year in [2018, 2019, 2020, 2021, 2022]:\n",
    "            return 'Negative test for strain with acquired resistance' if value <= 32 else 'Positive test for strain with acquired resistance'\n",
    "\n",
    "    # Interpret for Tetracyclines (Tigecycline - TIG)\n",
    "    elif antibiotic == 'Tigecycline':\n",
    "        if year in [2018, 2019, 2020, 2021, 2022]:\n",
    "            return 'Insufficient evidence that the organism or group is a good target for therapy with the agent'\n",
    "\n",
    "    # Interpret for Antifolates (Trimethoprim-sulfamethoxazole - SXT)\n",
    "    elif antibiotic == 'Trimethoprim-sulfamethoxazole':\n",
    "        if year in [2018, 2019, 2020, 2021, 2022]:\n",
    "            if value <= 0.5:\n",
    "                return 'Susceptible'\n",
    "            elif 0.6 <= value <= 1:\n",
    "                return 'Intermediate'\n",
    "            else:\n",
    "                return 'Resistant'\n",
    "\n",
    "    return 'Use Not recommended'\n",
    "\n",
    "# Apply the function to the relevant columns for Pasteurellaceae family\n",
    "def apply_interpretation_pasteurellaceae(row):\n",
    "    antibiotics = [\n",
    "        'Amoxicillin-clavulanate', 'Ampicillin', 'Piperacillin tazobactam', 'Ceftriaxone', 'Cefepime',\n",
    "        'Imipenem', 'Meropenem', 'Ciprofloxacin', 'Levofloxacin', 'Amikacin', 'Gentamicin',\n",
    "        'Azithromycin', 'Clarithromycin', 'Tigecycline', 'Trimethoprim-sulfamethoxazole'\n",
    "    ]\n",
    "    year = row['Year']\n",
    "    \n",
    "    for antibiotic in antibiotics:\n",
    "        interpretation = interpret_antibiotic_pasteurellaceae(row, antibiotic, year)\n",
    "        row[antibiotic + '_I'] = interpretation  # Fill the interpretation into the respective \"_I\" column\n",
    "    return row\n",
    "\n",
    "# Apply the interpretation across the dataframe for Pasteurellaceae family\n",
    "pasteurellaceae_df = pasteurellaceae_df.apply(apply_interpretation_pasteurellaceae, axis=1)\n",
    "\n",
    "# Display the result\n",
    "pasteurellaceae_df.head()\n"
   ]
  },
  {
   "cell_type": "code",
   "execution_count": 12,
   "metadata": {},
   "outputs": [
    {
     "name": "stdout",
     "output_type": "stream",
     "text": [
      "Results for Species: Haemophilus influenzae\n",
      "\n",
      "Susceptibility rates for Amoxicillin-clavulanate_I:\n",
      "   Year  Susceptible  Intermediate  Resistant\n",
      "0  2018        94.11           0.0       5.89\n",
      "1  2019        97.60           0.0       2.40\n",
      "2  2020        95.36           0.0       4.64\n",
      "3  2021        94.47           0.0       5.53\n",
      "4  2022        95.31           0.0       4.69\n",
      "\n",
      "==================================================\n",
      "\n",
      "\n",
      "Susceptibility rates for Ampicillin_I:\n",
      "   Year  Susceptible  Intermediate  Resistant\n",
      "0  2018        74.61           0.0      25.39\n",
      "1  2019        74.17           0.0      25.83\n",
      "2  2020        73.73           0.0      26.27\n",
      "3  2021        69.91           0.0      30.09\n",
      "4  2022        73.73           0.0      26.27\n",
      "\n",
      "==================================================\n",
      "\n",
      "\n",
      "Susceptibility rates for Piperacillin tazobactam_I:\n",
      "   Year  Susceptible  Intermediate  Resistant\n",
      "0  2018        97.80           0.0       2.20\n",
      "1  2019        99.92           0.0       0.08\n",
      "2  2020        99.66           0.0       0.34\n",
      "3  2021        99.70           0.0       0.30\n",
      "4  2022        99.81           0.0       0.19\n",
      "\n",
      "==================================================\n",
      "\n",
      "\n",
      "Susceptibility rates for Ceftriaxone_I:\n",
      "   Year  Susceptible  Intermediate  Resistant\n",
      "0  2018        98.45           0.0       1.55\n",
      "1  2019        98.15           0.0       1.85\n",
      "2  2020        98.36           0.0       1.64\n",
      "3  2021        97.57           0.0       2.43\n",
      "4  2022        98.79           0.0       1.21\n",
      "\n",
      "==================================================\n",
      "\n",
      "\n",
      "Susceptibility rates for Meropenem_I:\n",
      "   Year  Susceptible  Intermediate  Resistant\n",
      "0  2018        100.0           0.0        0.0\n",
      "1  2019        100.0           0.0        0.0\n",
      "2  2020        100.0           0.0        0.0\n",
      "3  2021        100.0           0.0        0.0\n",
      "4  2022        100.0           0.0        0.0\n",
      "\n",
      "==================================================\n",
      "\n",
      "\n",
      "Susceptibility rates for Levofloxacin_I:\n",
      "   Year  Susceptible  Intermediate  Resistant\n",
      "0  2018        97.57           0.0       2.43\n",
      "1  2019        94.94           0.0       5.06\n",
      "2  2020        94.00           0.0       6.00\n",
      "3  2021        93.38           0.0       6.62\n",
      "4  2022        94.24           0.0       5.76\n",
      "\n",
      "==================================================\n",
      "\n",
      "\n",
      "Susceptibility rates for Trimethoprim-sulfamethoxazole_I:\n",
      "   Year  Susceptible  Intermediate  Resistant\n",
      "0  2018        58.37          1.71      39.92\n",
      "1  2019        61.18          1.64      37.17\n",
      "2  2020        67.39          0.00      32.61\n",
      "3  2021        69.02          0.00      30.98\n",
      "4  2022        66.37          0.45      33.18\n",
      "\n",
      "==================================================\n",
      "\n"
     ]
    }
   ],
   "source": [
    "# Dictionary for Pasteurellaceae species\n",
    "pasteurellaceae_species_list = [\n",
    "    'Haemophilus influenzae'\n",
    "]\n",
    "\n",
    "# List of antibiotics of interest with interpretations (_I)\n",
    "antibiotics_list = [\n",
    "    'Amoxicillin-clavulanate_I', 'Ampicillin_I', 'Piperacillin tazobactam_I', \n",
    "    'Ceftriaxone_I', 'Ceftazidime_I', 'Cefepime_I', 'Imipenem_I', 'Meropenem_I', \n",
    "    'Ciprofloxacin_I', 'Levofloxacin_I', 'Amikacin_I', 'Gentamicin_I', \n",
    "    'Vancomycin_I', 'Azithromycin_I', 'Clarithromycin_I', 'Tigecycline_I', \n",
    "    'Linezolid_I', 'Trimethoprim-sulfamethoxazole_I'\n",
    "]\n",
    "\n",
    "# List of years of interest\n",
    "years_list = [2018, 2019, 2020, 2021, 2022]\n",
    "\n",
    "# Dictionary to store susceptibility results for Pasteurellaceae\n",
    "pasteurellaceae_results = {}\n",
    "\n",
    "# Loop through each species of interest in Pasteurellaceae\n",
    "for species in pasteurellaceae_species_list:\n",
    "    # Filter the data for the current species\n",
    "    df_species = pasteurellaceae_df[pasteurellaceae_df['Species'] == species]\n",
    "\n",
    "    # Dictionary to store antibiotic results\n",
    "    antibiotic_results = {}\n",
    "\n",
    "    # Loop through each antibiotic of interest\n",
    "    for antibiotic in antibiotics_list:\n",
    "        susceptibility_rates_list = []\n",
    "        \n",
    "        # Loop through each year\n",
    "        for year in years_list:\n",
    "            year_data = df_species[df_species['Year'] == year]\n",
    "            total_count = len(year_data)\n",
    "            \n",
    "            if total_count > 0:\n",
    "                # Calculate susceptibility counts\n",
    "                susceptible_count = (year_data[antibiotic] == 'Susceptible').sum()\n",
    "                intermediate_count = (year_data[antibiotic] == 'Intermediate').sum()\n",
    "                resistant_count = (year_data[antibiotic] == 'Resistant').sum()\n",
    "\n",
    "                # Calculate rates\n",
    "                total_reported = susceptible_count + intermediate_count + resistant_count\n",
    "                if total_reported > 0:\n",
    "                    susceptible_rate = (susceptible_count / total_reported) * 100\n",
    "                    intermediate_rate = (intermediate_count / total_reported) * 100\n",
    "                    resistant_rate = (resistant_count / total_reported) * 100\n",
    "\n",
    "                    # Round rates to 2 decimal places\n",
    "                    susceptible_rate = round(susceptible_rate, 2)\n",
    "                    intermediate_rate = round(intermediate_rate, 2)\n",
    "                    resistant_rate = round(resistant_rate, 2)\n",
    "\n",
    "                    # Append the data to the list\n",
    "                    susceptibility_rates_list.append({\n",
    "                        'Year': year,\n",
    "                        'Susceptible': susceptible_rate,\n",
    "                        'Intermediate': intermediate_rate,\n",
    "                        'Resistant': resistant_rate\n",
    "                    })\n",
    "        \n",
    "        # Store the results for this antibiotic\n",
    "        if susceptibility_rates_list:\n",
    "            antibiotic_results[antibiotic] = pd.DataFrame(susceptibility_rates_list)\n",
    "\n",
    "    # Store the results for this species\n",
    "    if antibiotic_results:\n",
    "        pasteurellaceae_results[species] = antibiotic_results\n",
    "\n",
    "# Final results: Display susceptibility rates for Haemophilus influenzae grouped by years\n",
    "for species, antibiotics_data in pasteurellaceae_results.items():\n",
    "    print(f\"Results for Species: {species}\")\n",
    "    for antibiotic, df in antibiotics_data.items():\n",
    "        print(f\"\\nSusceptibility rates for {antibiotic}:\")\n",
    "        print(df)\n",
    "        print(\"\\n\" + \"=\"*50 + \"\\n\")\n"
   ]
  },
  {
   "cell_type": "code",
   "execution_count": 13,
   "metadata": {},
   "outputs": [
    {
     "name": "stdout",
     "output_type": "stream",
     "text": [
      "Visualizing results for Species: Haemophilus influenzae\n",
      "Visualizing results for Antibiotic Group: Penicillins\n"
     ]
    },
    {
     "data": {
      "application/vnd.plotly.v1+json": {
       "config": {
        "plotlyServerURL": "https://plot.ly"
       },
       "data": [
        {
         "hovertemplate": "Antibiotic=Amoxicillin-clavulanate<br>Resistance Category=Susceptible<br>Year=%{x}<br>Percentage (%)=%{y}<extra></extra>",
         "legendgroup": "Amoxicillin-clavulanate, Susceptible",
         "line": {
          "color": "#636efa",
          "dash": "solid"
         },
         "marker": {
          "symbol": "circle"
         },
         "mode": "lines+markers",
         "name": "Amoxicillin-clavulanate, Susceptible",
         "orientation": "v",
         "showlegend": true,
         "type": "scatter",
         "x": [
          2018,
          2019,
          2020,
          2021,
          2022
         ],
         "xaxis": "x",
         "y": [
          94.11,
          97.6,
          95.36,
          94.47,
          95.31
         ],
         "yaxis": "y"
        },
        {
         "hovertemplate": "Antibiotic=Amoxicillin-clavulanate<br>Resistance Category=Intermediate<br>Year=%{x}<br>Percentage (%)=%{y}<extra></extra>",
         "legendgroup": "Amoxicillin-clavulanate, Intermediate",
         "line": {
          "color": "#636efa",
          "dash": "dot"
         },
         "marker": {
          "symbol": "circle"
         },
         "mode": "lines+markers",
         "name": "Amoxicillin-clavulanate, Intermediate",
         "orientation": "v",
         "showlegend": true,
         "type": "scatter",
         "x": [
          2018,
          2019,
          2020,
          2021,
          2022
         ],
         "xaxis": "x",
         "y": [
          0,
          0,
          0,
          0,
          0
         ],
         "yaxis": "y"
        },
        {
         "hovertemplate": "Antibiotic=Amoxicillin-clavulanate<br>Resistance Category=Resistant<br>Year=%{x}<br>Percentage (%)=%{y}<extra></extra>",
         "legendgroup": "Amoxicillin-clavulanate, Resistant",
         "line": {
          "color": "#636efa",
          "dash": "dash"
         },
         "marker": {
          "symbol": "circle"
         },
         "mode": "lines+markers",
         "name": "Amoxicillin-clavulanate, Resistant",
         "orientation": "v",
         "showlegend": true,
         "type": "scatter",
         "x": [
          2018,
          2019,
          2020,
          2021,
          2022
         ],
         "xaxis": "x",
         "y": [
          5.89,
          2.4,
          4.64,
          5.53,
          4.69
         ],
         "yaxis": "y"
        },
        {
         "hovertemplate": "Antibiotic=Ampicillin<br>Resistance Category=Susceptible<br>Year=%{x}<br>Percentage (%)=%{y}<extra></extra>",
         "legendgroup": "Ampicillin, Susceptible",
         "line": {
          "color": "#EF553B",
          "dash": "solid"
         },
         "marker": {
          "symbol": "circle"
         },
         "mode": "lines+markers",
         "name": "Ampicillin, Susceptible",
         "orientation": "v",
         "showlegend": true,
         "type": "scatter",
         "x": [
          2018,
          2019,
          2020,
          2021,
          2022
         ],
         "xaxis": "x",
         "y": [
          74.61,
          74.17,
          73.73,
          69.91,
          73.73
         ],
         "yaxis": "y"
        },
        {
         "hovertemplate": "Antibiotic=Ampicillin<br>Resistance Category=Intermediate<br>Year=%{x}<br>Percentage (%)=%{y}<extra></extra>",
         "legendgroup": "Ampicillin, Intermediate",
         "line": {
          "color": "#EF553B",
          "dash": "dot"
         },
         "marker": {
          "symbol": "circle"
         },
         "mode": "lines+markers",
         "name": "Ampicillin, Intermediate",
         "orientation": "v",
         "showlegend": true,
         "type": "scatter",
         "x": [
          2018,
          2019,
          2020,
          2021,
          2022
         ],
         "xaxis": "x",
         "y": [
          0,
          0,
          0,
          0,
          0
         ],
         "yaxis": "y"
        },
        {
         "hovertemplate": "Antibiotic=Ampicillin<br>Resistance Category=Resistant<br>Year=%{x}<br>Percentage (%)=%{y}<extra></extra>",
         "legendgroup": "Ampicillin, Resistant",
         "line": {
          "color": "#EF553B",
          "dash": "dash"
         },
         "marker": {
          "symbol": "circle"
         },
         "mode": "lines+markers",
         "name": "Ampicillin, Resistant",
         "orientation": "v",
         "showlegend": true,
         "type": "scatter",
         "x": [
          2018,
          2019,
          2020,
          2021,
          2022
         ],
         "xaxis": "x",
         "y": [
          25.39,
          25.83,
          26.27,
          30.09,
          26.27
         ],
         "yaxis": "y"
        },
        {
         "hovertemplate": "Antibiotic=Piperacillin tazobactam<br>Resistance Category=Susceptible<br>Year=%{x}<br>Percentage (%)=%{y}<extra></extra>",
         "legendgroup": "Piperacillin tazobactam, Susceptible",
         "line": {
          "color": "#00cc96",
          "dash": "solid"
         },
         "marker": {
          "symbol": "circle"
         },
         "mode": "lines+markers",
         "name": "Piperacillin tazobactam, Susceptible",
         "orientation": "v",
         "showlegend": true,
         "type": "scatter",
         "x": [
          2018,
          2019,
          2020,
          2021,
          2022
         ],
         "xaxis": "x",
         "y": [
          97.8,
          99.92,
          99.66,
          99.7,
          99.81
         ],
         "yaxis": "y"
        },
        {
         "hovertemplate": "Antibiotic=Piperacillin tazobactam<br>Resistance Category=Intermediate<br>Year=%{x}<br>Percentage (%)=%{y}<extra></extra>",
         "legendgroup": "Piperacillin tazobactam, Intermediate",
         "line": {
          "color": "#00cc96",
          "dash": "dot"
         },
         "marker": {
          "symbol": "circle"
         },
         "mode": "lines+markers",
         "name": "Piperacillin tazobactam, Intermediate",
         "orientation": "v",
         "showlegend": true,
         "type": "scatter",
         "x": [
          2018,
          2019,
          2020,
          2021,
          2022
         ],
         "xaxis": "x",
         "y": [
          0,
          0,
          0,
          0,
          0
         ],
         "yaxis": "y"
        },
        {
         "hovertemplate": "Antibiotic=Piperacillin tazobactam<br>Resistance Category=Resistant<br>Year=%{x}<br>Percentage (%)=%{y}<extra></extra>",
         "legendgroup": "Piperacillin tazobactam, Resistant",
         "line": {
          "color": "#00cc96",
          "dash": "dash"
         },
         "marker": {
          "symbol": "circle"
         },
         "mode": "lines+markers",
         "name": "Piperacillin tazobactam, Resistant",
         "orientation": "v",
         "showlegend": true,
         "type": "scatter",
         "x": [
          2018,
          2019,
          2020,
          2021,
          2022
         ],
         "xaxis": "x",
         "y": [
          2.2,
          0.08,
          0.34,
          0.3,
          0.19
         ],
         "yaxis": "y"
        }
       ],
       "layout": {
        "height": 600,
        "legend": {
         "title": {
          "text": "Antibiotic / Resistance Category"
         },
         "tracegroupgap": 0
        },
        "template": {
         "data": {
          "bar": [
           {
            "error_x": {
             "color": "#2a3f5f"
            },
            "error_y": {
             "color": "#2a3f5f"
            },
            "marker": {
             "line": {
              "color": "#E5ECF6",
              "width": 0.5
             },
             "pattern": {
              "fillmode": "overlay",
              "size": 10,
              "solidity": 0.2
             }
            },
            "type": "bar"
           }
          ],
          "barpolar": [
           {
            "marker": {
             "line": {
              "color": "#E5ECF6",
              "width": 0.5
             },
             "pattern": {
              "fillmode": "overlay",
              "size": 10,
              "solidity": 0.2
             }
            },
            "type": "barpolar"
           }
          ],
          "carpet": [
           {
            "aaxis": {
             "endlinecolor": "#2a3f5f",
             "gridcolor": "white",
             "linecolor": "white",
             "minorgridcolor": "white",
             "startlinecolor": "#2a3f5f"
            },
            "baxis": {
             "endlinecolor": "#2a3f5f",
             "gridcolor": "white",
             "linecolor": "white",
             "minorgridcolor": "white",
             "startlinecolor": "#2a3f5f"
            },
            "type": "carpet"
           }
          ],
          "choropleth": [
           {
            "colorbar": {
             "outlinewidth": 0,
             "ticks": ""
            },
            "type": "choropleth"
           }
          ],
          "contour": [
           {
            "colorbar": {
             "outlinewidth": 0,
             "ticks": ""
            },
            "colorscale": [
             [
              0,
              "#0d0887"
             ],
             [
              0.1111111111111111,
              "#46039f"
             ],
             [
              0.2222222222222222,
              "#7201a8"
             ],
             [
              0.3333333333333333,
              "#9c179e"
             ],
             [
              0.4444444444444444,
              "#bd3786"
             ],
             [
              0.5555555555555556,
              "#d8576b"
             ],
             [
              0.6666666666666666,
              "#ed7953"
             ],
             [
              0.7777777777777778,
              "#fb9f3a"
             ],
             [
              0.8888888888888888,
              "#fdca26"
             ],
             [
              1,
              "#f0f921"
             ]
            ],
            "type": "contour"
           }
          ],
          "contourcarpet": [
           {
            "colorbar": {
             "outlinewidth": 0,
             "ticks": ""
            },
            "type": "contourcarpet"
           }
          ],
          "heatmap": [
           {
            "colorbar": {
             "outlinewidth": 0,
             "ticks": ""
            },
            "colorscale": [
             [
              0,
              "#0d0887"
             ],
             [
              0.1111111111111111,
              "#46039f"
             ],
             [
              0.2222222222222222,
              "#7201a8"
             ],
             [
              0.3333333333333333,
              "#9c179e"
             ],
             [
              0.4444444444444444,
              "#bd3786"
             ],
             [
              0.5555555555555556,
              "#d8576b"
             ],
             [
              0.6666666666666666,
              "#ed7953"
             ],
             [
              0.7777777777777778,
              "#fb9f3a"
             ],
             [
              0.8888888888888888,
              "#fdca26"
             ],
             [
              1,
              "#f0f921"
             ]
            ],
            "type": "heatmap"
           }
          ],
          "heatmapgl": [
           {
            "colorbar": {
             "outlinewidth": 0,
             "ticks": ""
            },
            "colorscale": [
             [
              0,
              "#0d0887"
             ],
             [
              0.1111111111111111,
              "#46039f"
             ],
             [
              0.2222222222222222,
              "#7201a8"
             ],
             [
              0.3333333333333333,
              "#9c179e"
             ],
             [
              0.4444444444444444,
              "#bd3786"
             ],
             [
              0.5555555555555556,
              "#d8576b"
             ],
             [
              0.6666666666666666,
              "#ed7953"
             ],
             [
              0.7777777777777778,
              "#fb9f3a"
             ],
             [
              0.8888888888888888,
              "#fdca26"
             ],
             [
              1,
              "#f0f921"
             ]
            ],
            "type": "heatmapgl"
           }
          ],
          "histogram": [
           {
            "marker": {
             "pattern": {
              "fillmode": "overlay",
              "size": 10,
              "solidity": 0.2
             }
            },
            "type": "histogram"
           }
          ],
          "histogram2d": [
           {
            "colorbar": {
             "outlinewidth": 0,
             "ticks": ""
            },
            "colorscale": [
             [
              0,
              "#0d0887"
             ],
             [
              0.1111111111111111,
              "#46039f"
             ],
             [
              0.2222222222222222,
              "#7201a8"
             ],
             [
              0.3333333333333333,
              "#9c179e"
             ],
             [
              0.4444444444444444,
              "#bd3786"
             ],
             [
              0.5555555555555556,
              "#d8576b"
             ],
             [
              0.6666666666666666,
              "#ed7953"
             ],
             [
              0.7777777777777778,
              "#fb9f3a"
             ],
             [
              0.8888888888888888,
              "#fdca26"
             ],
             [
              1,
              "#f0f921"
             ]
            ],
            "type": "histogram2d"
           }
          ],
          "histogram2dcontour": [
           {
            "colorbar": {
             "outlinewidth": 0,
             "ticks": ""
            },
            "colorscale": [
             [
              0,
              "#0d0887"
             ],
             [
              0.1111111111111111,
              "#46039f"
             ],
             [
              0.2222222222222222,
              "#7201a8"
             ],
             [
              0.3333333333333333,
              "#9c179e"
             ],
             [
              0.4444444444444444,
              "#bd3786"
             ],
             [
              0.5555555555555556,
              "#d8576b"
             ],
             [
              0.6666666666666666,
              "#ed7953"
             ],
             [
              0.7777777777777778,
              "#fb9f3a"
             ],
             [
              0.8888888888888888,
              "#fdca26"
             ],
             [
              1,
              "#f0f921"
             ]
            ],
            "type": "histogram2dcontour"
           }
          ],
          "mesh3d": [
           {
            "colorbar": {
             "outlinewidth": 0,
             "ticks": ""
            },
            "type": "mesh3d"
           }
          ],
          "parcoords": [
           {
            "line": {
             "colorbar": {
              "outlinewidth": 0,
              "ticks": ""
             }
            },
            "type": "parcoords"
           }
          ],
          "pie": [
           {
            "automargin": true,
            "type": "pie"
           }
          ],
          "scatter": [
           {
            "fillpattern": {
             "fillmode": "overlay",
             "size": 10,
             "solidity": 0.2
            },
            "type": "scatter"
           }
          ],
          "scatter3d": [
           {
            "line": {
             "colorbar": {
              "outlinewidth": 0,
              "ticks": ""
             }
            },
            "marker": {
             "colorbar": {
              "outlinewidth": 0,
              "ticks": ""
             }
            },
            "type": "scatter3d"
           }
          ],
          "scattercarpet": [
           {
            "marker": {
             "colorbar": {
              "outlinewidth": 0,
              "ticks": ""
             }
            },
            "type": "scattercarpet"
           }
          ],
          "scattergeo": [
           {
            "marker": {
             "colorbar": {
              "outlinewidth": 0,
              "ticks": ""
             }
            },
            "type": "scattergeo"
           }
          ],
          "scattergl": [
           {
            "marker": {
             "colorbar": {
              "outlinewidth": 0,
              "ticks": ""
             }
            },
            "type": "scattergl"
           }
          ],
          "scattermapbox": [
           {
            "marker": {
             "colorbar": {
              "outlinewidth": 0,
              "ticks": ""
             }
            },
            "type": "scattermapbox"
           }
          ],
          "scatterpolar": [
           {
            "marker": {
             "colorbar": {
              "outlinewidth": 0,
              "ticks": ""
             }
            },
            "type": "scatterpolar"
           }
          ],
          "scatterpolargl": [
           {
            "marker": {
             "colorbar": {
              "outlinewidth": 0,
              "ticks": ""
             }
            },
            "type": "scatterpolargl"
           }
          ],
          "scatterternary": [
           {
            "marker": {
             "colorbar": {
              "outlinewidth": 0,
              "ticks": ""
             }
            },
            "type": "scatterternary"
           }
          ],
          "surface": [
           {
            "colorbar": {
             "outlinewidth": 0,
             "ticks": ""
            },
            "colorscale": [
             [
              0,
              "#0d0887"
             ],
             [
              0.1111111111111111,
              "#46039f"
             ],
             [
              0.2222222222222222,
              "#7201a8"
             ],
             [
              0.3333333333333333,
              "#9c179e"
             ],
             [
              0.4444444444444444,
              "#bd3786"
             ],
             [
              0.5555555555555556,
              "#d8576b"
             ],
             [
              0.6666666666666666,
              "#ed7953"
             ],
             [
              0.7777777777777778,
              "#fb9f3a"
             ],
             [
              0.8888888888888888,
              "#fdca26"
             ],
             [
              1,
              "#f0f921"
             ]
            ],
            "type": "surface"
           }
          ],
          "table": [
           {
            "cells": {
             "fill": {
              "color": "#EBF0F8"
             },
             "line": {
              "color": "white"
             }
            },
            "header": {
             "fill": {
              "color": "#C8D4E3"
             },
             "line": {
              "color": "white"
             }
            },
            "type": "table"
           }
          ]
         },
         "layout": {
          "annotationdefaults": {
           "arrowcolor": "#2a3f5f",
           "arrowhead": 0,
           "arrowwidth": 1
          },
          "autotypenumbers": "strict",
          "coloraxis": {
           "colorbar": {
            "outlinewidth": 0,
            "ticks": ""
           }
          },
          "colorscale": {
           "diverging": [
            [
             0,
             "#8e0152"
            ],
            [
             0.1,
             "#c51b7d"
            ],
            [
             0.2,
             "#de77ae"
            ],
            [
             0.3,
             "#f1b6da"
            ],
            [
             0.4,
             "#fde0ef"
            ],
            [
             0.5,
             "#f7f7f7"
            ],
            [
             0.6,
             "#e6f5d0"
            ],
            [
             0.7,
             "#b8e186"
            ],
            [
             0.8,
             "#7fbc41"
            ],
            [
             0.9,
             "#4d9221"
            ],
            [
             1,
             "#276419"
            ]
           ],
           "sequential": [
            [
             0,
             "#0d0887"
            ],
            [
             0.1111111111111111,
             "#46039f"
            ],
            [
             0.2222222222222222,
             "#7201a8"
            ],
            [
             0.3333333333333333,
             "#9c179e"
            ],
            [
             0.4444444444444444,
             "#bd3786"
            ],
            [
             0.5555555555555556,
             "#d8576b"
            ],
            [
             0.6666666666666666,
             "#ed7953"
            ],
            [
             0.7777777777777778,
             "#fb9f3a"
            ],
            [
             0.8888888888888888,
             "#fdca26"
            ],
            [
             1,
             "#f0f921"
            ]
           ],
           "sequentialminus": [
            [
             0,
             "#0d0887"
            ],
            [
             0.1111111111111111,
             "#46039f"
            ],
            [
             0.2222222222222222,
             "#7201a8"
            ],
            [
             0.3333333333333333,
             "#9c179e"
            ],
            [
             0.4444444444444444,
             "#bd3786"
            ],
            [
             0.5555555555555556,
             "#d8576b"
            ],
            [
             0.6666666666666666,
             "#ed7953"
            ],
            [
             0.7777777777777778,
             "#fb9f3a"
            ],
            [
             0.8888888888888888,
             "#fdca26"
            ],
            [
             1,
             "#f0f921"
            ]
           ]
          },
          "colorway": [
           "#636efa",
           "#EF553B",
           "#00cc96",
           "#ab63fa",
           "#FFA15A",
           "#19d3f3",
           "#FF6692",
           "#B6E880",
           "#FF97FF",
           "#FECB52"
          ],
          "font": {
           "color": "#2a3f5f"
          },
          "geo": {
           "bgcolor": "white",
           "lakecolor": "white",
           "landcolor": "#E5ECF6",
           "showlakes": true,
           "showland": true,
           "subunitcolor": "white"
          },
          "hoverlabel": {
           "align": "left"
          },
          "hovermode": "closest",
          "mapbox": {
           "style": "light"
          },
          "paper_bgcolor": "white",
          "plot_bgcolor": "#E5ECF6",
          "polar": {
           "angularaxis": {
            "gridcolor": "white",
            "linecolor": "white",
            "ticks": ""
           },
           "bgcolor": "#E5ECF6",
           "radialaxis": {
            "gridcolor": "white",
            "linecolor": "white",
            "ticks": ""
           }
          },
          "scene": {
           "xaxis": {
            "backgroundcolor": "#E5ECF6",
            "gridcolor": "white",
            "gridwidth": 2,
            "linecolor": "white",
            "showbackground": true,
            "ticks": "",
            "zerolinecolor": "white"
           },
           "yaxis": {
            "backgroundcolor": "#E5ECF6",
            "gridcolor": "white",
            "gridwidth": 2,
            "linecolor": "white",
            "showbackground": true,
            "ticks": "",
            "zerolinecolor": "white"
           },
           "zaxis": {
            "backgroundcolor": "#E5ECF6",
            "gridcolor": "white",
            "gridwidth": 2,
            "linecolor": "white",
            "showbackground": true,
            "ticks": "",
            "zerolinecolor": "white"
           }
          },
          "shapedefaults": {
           "line": {
            "color": "#2a3f5f"
           }
          },
          "ternary": {
           "aaxis": {
            "gridcolor": "white",
            "linecolor": "white",
            "ticks": ""
           },
           "baxis": {
            "gridcolor": "white",
            "linecolor": "white",
            "ticks": ""
           },
           "bgcolor": "#E5ECF6",
           "caxis": {
            "gridcolor": "white",
            "linecolor": "white",
            "ticks": ""
           }
          },
          "title": {
           "x": 0.05
          },
          "xaxis": {
           "automargin": true,
           "gridcolor": "white",
           "linecolor": "white",
           "ticks": "",
           "title": {
            "standoff": 15
           },
           "zerolinecolor": "white",
           "zerolinewidth": 2
          },
          "yaxis": {
           "automargin": true,
           "gridcolor": "white",
           "linecolor": "white",
           "ticks": "",
           "title": {
            "standoff": 15
           },
           "zerolinecolor": "white",
           "zerolinewidth": 2
          }
         }
        },
        "title": {
         "text": "Susceptibility Trends for Haemophilus influenzae (Penicillins Group)"
        },
        "width": 1000,
        "xaxis": {
         "anchor": "y",
         "domain": [
          0,
          1
         ],
         "dtick": 1,
         "tick0": 2018,
         "tickmode": "linear",
         "title": {
          "text": "Year"
         }
        },
        "yaxis": {
         "anchor": "x",
         "domain": [
          0,
          1
         ],
         "title": {
          "text": "Percentage (%)"
         }
        }
       }
      }
     },
     "metadata": {},
     "output_type": "display_data"
    },
    {
     "name": "stdout",
     "output_type": "stream",
     "text": [
      "Visualizing results for Antibiotic Group: Cephalosporins\n"
     ]
    },
    {
     "data": {
      "application/vnd.plotly.v1+json": {
       "config": {
        "plotlyServerURL": "https://plot.ly"
       },
       "data": [
        {
         "hovertemplate": "Antibiotic=Ceftriaxone<br>Resistance Category=Susceptible<br>Year=%{x}<br>Percentage (%)=%{y}<extra></extra>",
         "legendgroup": "Ceftriaxone, Susceptible",
         "line": {
          "color": "#636efa",
          "dash": "solid"
         },
         "marker": {
          "symbol": "circle"
         },
         "mode": "lines+markers",
         "name": "Ceftriaxone, Susceptible",
         "orientation": "v",
         "showlegend": true,
         "type": "scatter",
         "x": [
          2018,
          2019,
          2020,
          2021,
          2022
         ],
         "xaxis": "x",
         "y": [
          98.45,
          98.15,
          98.36,
          97.57,
          98.79
         ],
         "yaxis": "y"
        },
        {
         "hovertemplate": "Antibiotic=Ceftriaxone<br>Resistance Category=Intermediate<br>Year=%{x}<br>Percentage (%)=%{y}<extra></extra>",
         "legendgroup": "Ceftriaxone, Intermediate",
         "line": {
          "color": "#636efa",
          "dash": "dot"
         },
         "marker": {
          "symbol": "circle"
         },
         "mode": "lines+markers",
         "name": "Ceftriaxone, Intermediate",
         "orientation": "v",
         "showlegend": true,
         "type": "scatter",
         "x": [
          2018,
          2019,
          2020,
          2021,
          2022
         ],
         "xaxis": "x",
         "y": [
          0,
          0,
          0,
          0,
          0
         ],
         "yaxis": "y"
        },
        {
         "hovertemplate": "Antibiotic=Ceftriaxone<br>Resistance Category=Resistant<br>Year=%{x}<br>Percentage (%)=%{y}<extra></extra>",
         "legendgroup": "Ceftriaxone, Resistant",
         "line": {
          "color": "#636efa",
          "dash": "dash"
         },
         "marker": {
          "symbol": "circle"
         },
         "mode": "lines+markers",
         "name": "Ceftriaxone, Resistant",
         "orientation": "v",
         "showlegend": true,
         "type": "scatter",
         "x": [
          2018,
          2019,
          2020,
          2021,
          2022
         ],
         "xaxis": "x",
         "y": [
          1.55,
          1.85,
          1.64,
          2.43,
          1.21
         ],
         "yaxis": "y"
        }
       ],
       "layout": {
        "height": 600,
        "legend": {
         "title": {
          "text": "Antibiotic / Resistance Category"
         },
         "tracegroupgap": 0
        },
        "template": {
         "data": {
          "bar": [
           {
            "error_x": {
             "color": "#2a3f5f"
            },
            "error_y": {
             "color": "#2a3f5f"
            },
            "marker": {
             "line": {
              "color": "#E5ECF6",
              "width": 0.5
             },
             "pattern": {
              "fillmode": "overlay",
              "size": 10,
              "solidity": 0.2
             }
            },
            "type": "bar"
           }
          ],
          "barpolar": [
           {
            "marker": {
             "line": {
              "color": "#E5ECF6",
              "width": 0.5
             },
             "pattern": {
              "fillmode": "overlay",
              "size": 10,
              "solidity": 0.2
             }
            },
            "type": "barpolar"
           }
          ],
          "carpet": [
           {
            "aaxis": {
             "endlinecolor": "#2a3f5f",
             "gridcolor": "white",
             "linecolor": "white",
             "minorgridcolor": "white",
             "startlinecolor": "#2a3f5f"
            },
            "baxis": {
             "endlinecolor": "#2a3f5f",
             "gridcolor": "white",
             "linecolor": "white",
             "minorgridcolor": "white",
             "startlinecolor": "#2a3f5f"
            },
            "type": "carpet"
           }
          ],
          "choropleth": [
           {
            "colorbar": {
             "outlinewidth": 0,
             "ticks": ""
            },
            "type": "choropleth"
           }
          ],
          "contour": [
           {
            "colorbar": {
             "outlinewidth": 0,
             "ticks": ""
            },
            "colorscale": [
             [
              0,
              "#0d0887"
             ],
             [
              0.1111111111111111,
              "#46039f"
             ],
             [
              0.2222222222222222,
              "#7201a8"
             ],
             [
              0.3333333333333333,
              "#9c179e"
             ],
             [
              0.4444444444444444,
              "#bd3786"
             ],
             [
              0.5555555555555556,
              "#d8576b"
             ],
             [
              0.6666666666666666,
              "#ed7953"
             ],
             [
              0.7777777777777778,
              "#fb9f3a"
             ],
             [
              0.8888888888888888,
              "#fdca26"
             ],
             [
              1,
              "#f0f921"
             ]
            ],
            "type": "contour"
           }
          ],
          "contourcarpet": [
           {
            "colorbar": {
             "outlinewidth": 0,
             "ticks": ""
            },
            "type": "contourcarpet"
           }
          ],
          "heatmap": [
           {
            "colorbar": {
             "outlinewidth": 0,
             "ticks": ""
            },
            "colorscale": [
             [
              0,
              "#0d0887"
             ],
             [
              0.1111111111111111,
              "#46039f"
             ],
             [
              0.2222222222222222,
              "#7201a8"
             ],
             [
              0.3333333333333333,
              "#9c179e"
             ],
             [
              0.4444444444444444,
              "#bd3786"
             ],
             [
              0.5555555555555556,
              "#d8576b"
             ],
             [
              0.6666666666666666,
              "#ed7953"
             ],
             [
              0.7777777777777778,
              "#fb9f3a"
             ],
             [
              0.8888888888888888,
              "#fdca26"
             ],
             [
              1,
              "#f0f921"
             ]
            ],
            "type": "heatmap"
           }
          ],
          "heatmapgl": [
           {
            "colorbar": {
             "outlinewidth": 0,
             "ticks": ""
            },
            "colorscale": [
             [
              0,
              "#0d0887"
             ],
             [
              0.1111111111111111,
              "#46039f"
             ],
             [
              0.2222222222222222,
              "#7201a8"
             ],
             [
              0.3333333333333333,
              "#9c179e"
             ],
             [
              0.4444444444444444,
              "#bd3786"
             ],
             [
              0.5555555555555556,
              "#d8576b"
             ],
             [
              0.6666666666666666,
              "#ed7953"
             ],
             [
              0.7777777777777778,
              "#fb9f3a"
             ],
             [
              0.8888888888888888,
              "#fdca26"
             ],
             [
              1,
              "#f0f921"
             ]
            ],
            "type": "heatmapgl"
           }
          ],
          "histogram": [
           {
            "marker": {
             "pattern": {
              "fillmode": "overlay",
              "size": 10,
              "solidity": 0.2
             }
            },
            "type": "histogram"
           }
          ],
          "histogram2d": [
           {
            "colorbar": {
             "outlinewidth": 0,
             "ticks": ""
            },
            "colorscale": [
             [
              0,
              "#0d0887"
             ],
             [
              0.1111111111111111,
              "#46039f"
             ],
             [
              0.2222222222222222,
              "#7201a8"
             ],
             [
              0.3333333333333333,
              "#9c179e"
             ],
             [
              0.4444444444444444,
              "#bd3786"
             ],
             [
              0.5555555555555556,
              "#d8576b"
             ],
             [
              0.6666666666666666,
              "#ed7953"
             ],
             [
              0.7777777777777778,
              "#fb9f3a"
             ],
             [
              0.8888888888888888,
              "#fdca26"
             ],
             [
              1,
              "#f0f921"
             ]
            ],
            "type": "histogram2d"
           }
          ],
          "histogram2dcontour": [
           {
            "colorbar": {
             "outlinewidth": 0,
             "ticks": ""
            },
            "colorscale": [
             [
              0,
              "#0d0887"
             ],
             [
              0.1111111111111111,
              "#46039f"
             ],
             [
              0.2222222222222222,
              "#7201a8"
             ],
             [
              0.3333333333333333,
              "#9c179e"
             ],
             [
              0.4444444444444444,
              "#bd3786"
             ],
             [
              0.5555555555555556,
              "#d8576b"
             ],
             [
              0.6666666666666666,
              "#ed7953"
             ],
             [
              0.7777777777777778,
              "#fb9f3a"
             ],
             [
              0.8888888888888888,
              "#fdca26"
             ],
             [
              1,
              "#f0f921"
             ]
            ],
            "type": "histogram2dcontour"
           }
          ],
          "mesh3d": [
           {
            "colorbar": {
             "outlinewidth": 0,
             "ticks": ""
            },
            "type": "mesh3d"
           }
          ],
          "parcoords": [
           {
            "line": {
             "colorbar": {
              "outlinewidth": 0,
              "ticks": ""
             }
            },
            "type": "parcoords"
           }
          ],
          "pie": [
           {
            "automargin": true,
            "type": "pie"
           }
          ],
          "scatter": [
           {
            "fillpattern": {
             "fillmode": "overlay",
             "size": 10,
             "solidity": 0.2
            },
            "type": "scatter"
           }
          ],
          "scatter3d": [
           {
            "line": {
             "colorbar": {
              "outlinewidth": 0,
              "ticks": ""
             }
            },
            "marker": {
             "colorbar": {
              "outlinewidth": 0,
              "ticks": ""
             }
            },
            "type": "scatter3d"
           }
          ],
          "scattercarpet": [
           {
            "marker": {
             "colorbar": {
              "outlinewidth": 0,
              "ticks": ""
             }
            },
            "type": "scattercarpet"
           }
          ],
          "scattergeo": [
           {
            "marker": {
             "colorbar": {
              "outlinewidth": 0,
              "ticks": ""
             }
            },
            "type": "scattergeo"
           }
          ],
          "scattergl": [
           {
            "marker": {
             "colorbar": {
              "outlinewidth": 0,
              "ticks": ""
             }
            },
            "type": "scattergl"
           }
          ],
          "scattermapbox": [
           {
            "marker": {
             "colorbar": {
              "outlinewidth": 0,
              "ticks": ""
             }
            },
            "type": "scattermapbox"
           }
          ],
          "scatterpolar": [
           {
            "marker": {
             "colorbar": {
              "outlinewidth": 0,
              "ticks": ""
             }
            },
            "type": "scatterpolar"
           }
          ],
          "scatterpolargl": [
           {
            "marker": {
             "colorbar": {
              "outlinewidth": 0,
              "ticks": ""
             }
            },
            "type": "scatterpolargl"
           }
          ],
          "scatterternary": [
           {
            "marker": {
             "colorbar": {
              "outlinewidth": 0,
              "ticks": ""
             }
            },
            "type": "scatterternary"
           }
          ],
          "surface": [
           {
            "colorbar": {
             "outlinewidth": 0,
             "ticks": ""
            },
            "colorscale": [
             [
              0,
              "#0d0887"
             ],
             [
              0.1111111111111111,
              "#46039f"
             ],
             [
              0.2222222222222222,
              "#7201a8"
             ],
             [
              0.3333333333333333,
              "#9c179e"
             ],
             [
              0.4444444444444444,
              "#bd3786"
             ],
             [
              0.5555555555555556,
              "#d8576b"
             ],
             [
              0.6666666666666666,
              "#ed7953"
             ],
             [
              0.7777777777777778,
              "#fb9f3a"
             ],
             [
              0.8888888888888888,
              "#fdca26"
             ],
             [
              1,
              "#f0f921"
             ]
            ],
            "type": "surface"
           }
          ],
          "table": [
           {
            "cells": {
             "fill": {
              "color": "#EBF0F8"
             },
             "line": {
              "color": "white"
             }
            },
            "header": {
             "fill": {
              "color": "#C8D4E3"
             },
             "line": {
              "color": "white"
             }
            },
            "type": "table"
           }
          ]
         },
         "layout": {
          "annotationdefaults": {
           "arrowcolor": "#2a3f5f",
           "arrowhead": 0,
           "arrowwidth": 1
          },
          "autotypenumbers": "strict",
          "coloraxis": {
           "colorbar": {
            "outlinewidth": 0,
            "ticks": ""
           }
          },
          "colorscale": {
           "diverging": [
            [
             0,
             "#8e0152"
            ],
            [
             0.1,
             "#c51b7d"
            ],
            [
             0.2,
             "#de77ae"
            ],
            [
             0.3,
             "#f1b6da"
            ],
            [
             0.4,
             "#fde0ef"
            ],
            [
             0.5,
             "#f7f7f7"
            ],
            [
             0.6,
             "#e6f5d0"
            ],
            [
             0.7,
             "#b8e186"
            ],
            [
             0.8,
             "#7fbc41"
            ],
            [
             0.9,
             "#4d9221"
            ],
            [
             1,
             "#276419"
            ]
           ],
           "sequential": [
            [
             0,
             "#0d0887"
            ],
            [
             0.1111111111111111,
             "#46039f"
            ],
            [
             0.2222222222222222,
             "#7201a8"
            ],
            [
             0.3333333333333333,
             "#9c179e"
            ],
            [
             0.4444444444444444,
             "#bd3786"
            ],
            [
             0.5555555555555556,
             "#d8576b"
            ],
            [
             0.6666666666666666,
             "#ed7953"
            ],
            [
             0.7777777777777778,
             "#fb9f3a"
            ],
            [
             0.8888888888888888,
             "#fdca26"
            ],
            [
             1,
             "#f0f921"
            ]
           ],
           "sequentialminus": [
            [
             0,
             "#0d0887"
            ],
            [
             0.1111111111111111,
             "#46039f"
            ],
            [
             0.2222222222222222,
             "#7201a8"
            ],
            [
             0.3333333333333333,
             "#9c179e"
            ],
            [
             0.4444444444444444,
             "#bd3786"
            ],
            [
             0.5555555555555556,
             "#d8576b"
            ],
            [
             0.6666666666666666,
             "#ed7953"
            ],
            [
             0.7777777777777778,
             "#fb9f3a"
            ],
            [
             0.8888888888888888,
             "#fdca26"
            ],
            [
             1,
             "#f0f921"
            ]
           ]
          },
          "colorway": [
           "#636efa",
           "#EF553B",
           "#00cc96",
           "#ab63fa",
           "#FFA15A",
           "#19d3f3",
           "#FF6692",
           "#B6E880",
           "#FF97FF",
           "#FECB52"
          ],
          "font": {
           "color": "#2a3f5f"
          },
          "geo": {
           "bgcolor": "white",
           "lakecolor": "white",
           "landcolor": "#E5ECF6",
           "showlakes": true,
           "showland": true,
           "subunitcolor": "white"
          },
          "hoverlabel": {
           "align": "left"
          },
          "hovermode": "closest",
          "mapbox": {
           "style": "light"
          },
          "paper_bgcolor": "white",
          "plot_bgcolor": "#E5ECF6",
          "polar": {
           "angularaxis": {
            "gridcolor": "white",
            "linecolor": "white",
            "ticks": ""
           },
           "bgcolor": "#E5ECF6",
           "radialaxis": {
            "gridcolor": "white",
            "linecolor": "white",
            "ticks": ""
           }
          },
          "scene": {
           "xaxis": {
            "backgroundcolor": "#E5ECF6",
            "gridcolor": "white",
            "gridwidth": 2,
            "linecolor": "white",
            "showbackground": true,
            "ticks": "",
            "zerolinecolor": "white"
           },
           "yaxis": {
            "backgroundcolor": "#E5ECF6",
            "gridcolor": "white",
            "gridwidth": 2,
            "linecolor": "white",
            "showbackground": true,
            "ticks": "",
            "zerolinecolor": "white"
           },
           "zaxis": {
            "backgroundcolor": "#E5ECF6",
            "gridcolor": "white",
            "gridwidth": 2,
            "linecolor": "white",
            "showbackground": true,
            "ticks": "",
            "zerolinecolor": "white"
           }
          },
          "shapedefaults": {
           "line": {
            "color": "#2a3f5f"
           }
          },
          "ternary": {
           "aaxis": {
            "gridcolor": "white",
            "linecolor": "white",
            "ticks": ""
           },
           "baxis": {
            "gridcolor": "white",
            "linecolor": "white",
            "ticks": ""
           },
           "bgcolor": "#E5ECF6",
           "caxis": {
            "gridcolor": "white",
            "linecolor": "white",
            "ticks": ""
           }
          },
          "title": {
           "x": 0.05
          },
          "xaxis": {
           "automargin": true,
           "gridcolor": "white",
           "linecolor": "white",
           "ticks": "",
           "title": {
            "standoff": 15
           },
           "zerolinecolor": "white",
           "zerolinewidth": 2
          },
          "yaxis": {
           "automargin": true,
           "gridcolor": "white",
           "linecolor": "white",
           "ticks": "",
           "title": {
            "standoff": 15
           },
           "zerolinecolor": "white",
           "zerolinewidth": 2
          }
         }
        },
        "title": {
         "text": "Susceptibility Trends for Haemophilus influenzae (Cephalosporins Group)"
        },
        "width": 1000,
        "xaxis": {
         "anchor": "y",
         "domain": [
          0,
          1
         ],
         "dtick": 1,
         "tick0": 2018,
         "tickmode": "linear",
         "title": {
          "text": "Year"
         }
        },
        "yaxis": {
         "anchor": "x",
         "domain": [
          0,
          1
         ],
         "title": {
          "text": "Percentage (%)"
         }
        }
       }
      }
     },
     "metadata": {},
     "output_type": "display_data"
    },
    {
     "name": "stdout",
     "output_type": "stream",
     "text": [
      "Visualizing results for Antibiotic Group: Carbapenems\n"
     ]
    },
    {
     "data": {
      "application/vnd.plotly.v1+json": {
       "config": {
        "plotlyServerURL": "https://plot.ly"
       },
       "data": [
        {
         "hovertemplate": "Antibiotic=Meropenem<br>Resistance Category=Susceptible<br>Year=%{x}<br>Percentage (%)=%{y}<extra></extra>",
         "legendgroup": "Meropenem, Susceptible",
         "line": {
          "color": "#636efa",
          "dash": "solid"
         },
         "marker": {
          "symbol": "circle"
         },
         "mode": "lines+markers",
         "name": "Meropenem, Susceptible",
         "orientation": "v",
         "showlegend": true,
         "type": "scatter",
         "x": [
          2018,
          2019,
          2020,
          2021,
          2022
         ],
         "xaxis": "x",
         "y": [
          100,
          100,
          100,
          100,
          100
         ],
         "yaxis": "y"
        },
        {
         "hovertemplate": "Antibiotic=Meropenem<br>Resistance Category=Intermediate<br>Year=%{x}<br>Percentage (%)=%{y}<extra></extra>",
         "legendgroup": "Meropenem, Intermediate",
         "line": {
          "color": "#636efa",
          "dash": "dot"
         },
         "marker": {
          "symbol": "circle"
         },
         "mode": "lines+markers",
         "name": "Meropenem, Intermediate",
         "orientation": "v",
         "showlegend": true,
         "type": "scatter",
         "x": [
          2018,
          2019,
          2020,
          2021,
          2022
         ],
         "xaxis": "x",
         "y": [
          0,
          0,
          0,
          0,
          0
         ],
         "yaxis": "y"
        },
        {
         "hovertemplate": "Antibiotic=Meropenem<br>Resistance Category=Resistant<br>Year=%{x}<br>Percentage (%)=%{y}<extra></extra>",
         "legendgroup": "Meropenem, Resistant",
         "line": {
          "color": "#636efa",
          "dash": "dash"
         },
         "marker": {
          "symbol": "circle"
         },
         "mode": "lines+markers",
         "name": "Meropenem, Resistant",
         "orientation": "v",
         "showlegend": true,
         "type": "scatter",
         "x": [
          2018,
          2019,
          2020,
          2021,
          2022
         ],
         "xaxis": "x",
         "y": [
          0,
          0,
          0,
          0,
          0
         ],
         "yaxis": "y"
        }
       ],
       "layout": {
        "height": 600,
        "legend": {
         "title": {
          "text": "Antibiotic / Resistance Category"
         },
         "tracegroupgap": 0
        },
        "template": {
         "data": {
          "bar": [
           {
            "error_x": {
             "color": "#2a3f5f"
            },
            "error_y": {
             "color": "#2a3f5f"
            },
            "marker": {
             "line": {
              "color": "#E5ECF6",
              "width": 0.5
             },
             "pattern": {
              "fillmode": "overlay",
              "size": 10,
              "solidity": 0.2
             }
            },
            "type": "bar"
           }
          ],
          "barpolar": [
           {
            "marker": {
             "line": {
              "color": "#E5ECF6",
              "width": 0.5
             },
             "pattern": {
              "fillmode": "overlay",
              "size": 10,
              "solidity": 0.2
             }
            },
            "type": "barpolar"
           }
          ],
          "carpet": [
           {
            "aaxis": {
             "endlinecolor": "#2a3f5f",
             "gridcolor": "white",
             "linecolor": "white",
             "minorgridcolor": "white",
             "startlinecolor": "#2a3f5f"
            },
            "baxis": {
             "endlinecolor": "#2a3f5f",
             "gridcolor": "white",
             "linecolor": "white",
             "minorgridcolor": "white",
             "startlinecolor": "#2a3f5f"
            },
            "type": "carpet"
           }
          ],
          "choropleth": [
           {
            "colorbar": {
             "outlinewidth": 0,
             "ticks": ""
            },
            "type": "choropleth"
           }
          ],
          "contour": [
           {
            "colorbar": {
             "outlinewidth": 0,
             "ticks": ""
            },
            "colorscale": [
             [
              0,
              "#0d0887"
             ],
             [
              0.1111111111111111,
              "#46039f"
             ],
             [
              0.2222222222222222,
              "#7201a8"
             ],
             [
              0.3333333333333333,
              "#9c179e"
             ],
             [
              0.4444444444444444,
              "#bd3786"
             ],
             [
              0.5555555555555556,
              "#d8576b"
             ],
             [
              0.6666666666666666,
              "#ed7953"
             ],
             [
              0.7777777777777778,
              "#fb9f3a"
             ],
             [
              0.8888888888888888,
              "#fdca26"
             ],
             [
              1,
              "#f0f921"
             ]
            ],
            "type": "contour"
           }
          ],
          "contourcarpet": [
           {
            "colorbar": {
             "outlinewidth": 0,
             "ticks": ""
            },
            "type": "contourcarpet"
           }
          ],
          "heatmap": [
           {
            "colorbar": {
             "outlinewidth": 0,
             "ticks": ""
            },
            "colorscale": [
             [
              0,
              "#0d0887"
             ],
             [
              0.1111111111111111,
              "#46039f"
             ],
             [
              0.2222222222222222,
              "#7201a8"
             ],
             [
              0.3333333333333333,
              "#9c179e"
             ],
             [
              0.4444444444444444,
              "#bd3786"
             ],
             [
              0.5555555555555556,
              "#d8576b"
             ],
             [
              0.6666666666666666,
              "#ed7953"
             ],
             [
              0.7777777777777778,
              "#fb9f3a"
             ],
             [
              0.8888888888888888,
              "#fdca26"
             ],
             [
              1,
              "#f0f921"
             ]
            ],
            "type": "heatmap"
           }
          ],
          "heatmapgl": [
           {
            "colorbar": {
             "outlinewidth": 0,
             "ticks": ""
            },
            "colorscale": [
             [
              0,
              "#0d0887"
             ],
             [
              0.1111111111111111,
              "#46039f"
             ],
             [
              0.2222222222222222,
              "#7201a8"
             ],
             [
              0.3333333333333333,
              "#9c179e"
             ],
             [
              0.4444444444444444,
              "#bd3786"
             ],
             [
              0.5555555555555556,
              "#d8576b"
             ],
             [
              0.6666666666666666,
              "#ed7953"
             ],
             [
              0.7777777777777778,
              "#fb9f3a"
             ],
             [
              0.8888888888888888,
              "#fdca26"
             ],
             [
              1,
              "#f0f921"
             ]
            ],
            "type": "heatmapgl"
           }
          ],
          "histogram": [
           {
            "marker": {
             "pattern": {
              "fillmode": "overlay",
              "size": 10,
              "solidity": 0.2
             }
            },
            "type": "histogram"
           }
          ],
          "histogram2d": [
           {
            "colorbar": {
             "outlinewidth": 0,
             "ticks": ""
            },
            "colorscale": [
             [
              0,
              "#0d0887"
             ],
             [
              0.1111111111111111,
              "#46039f"
             ],
             [
              0.2222222222222222,
              "#7201a8"
             ],
             [
              0.3333333333333333,
              "#9c179e"
             ],
             [
              0.4444444444444444,
              "#bd3786"
             ],
             [
              0.5555555555555556,
              "#d8576b"
             ],
             [
              0.6666666666666666,
              "#ed7953"
             ],
             [
              0.7777777777777778,
              "#fb9f3a"
             ],
             [
              0.8888888888888888,
              "#fdca26"
             ],
             [
              1,
              "#f0f921"
             ]
            ],
            "type": "histogram2d"
           }
          ],
          "histogram2dcontour": [
           {
            "colorbar": {
             "outlinewidth": 0,
             "ticks": ""
            },
            "colorscale": [
             [
              0,
              "#0d0887"
             ],
             [
              0.1111111111111111,
              "#46039f"
             ],
             [
              0.2222222222222222,
              "#7201a8"
             ],
             [
              0.3333333333333333,
              "#9c179e"
             ],
             [
              0.4444444444444444,
              "#bd3786"
             ],
             [
              0.5555555555555556,
              "#d8576b"
             ],
             [
              0.6666666666666666,
              "#ed7953"
             ],
             [
              0.7777777777777778,
              "#fb9f3a"
             ],
             [
              0.8888888888888888,
              "#fdca26"
             ],
             [
              1,
              "#f0f921"
             ]
            ],
            "type": "histogram2dcontour"
           }
          ],
          "mesh3d": [
           {
            "colorbar": {
             "outlinewidth": 0,
             "ticks": ""
            },
            "type": "mesh3d"
           }
          ],
          "parcoords": [
           {
            "line": {
             "colorbar": {
              "outlinewidth": 0,
              "ticks": ""
             }
            },
            "type": "parcoords"
           }
          ],
          "pie": [
           {
            "automargin": true,
            "type": "pie"
           }
          ],
          "scatter": [
           {
            "fillpattern": {
             "fillmode": "overlay",
             "size": 10,
             "solidity": 0.2
            },
            "type": "scatter"
           }
          ],
          "scatter3d": [
           {
            "line": {
             "colorbar": {
              "outlinewidth": 0,
              "ticks": ""
             }
            },
            "marker": {
             "colorbar": {
              "outlinewidth": 0,
              "ticks": ""
             }
            },
            "type": "scatter3d"
           }
          ],
          "scattercarpet": [
           {
            "marker": {
             "colorbar": {
              "outlinewidth": 0,
              "ticks": ""
             }
            },
            "type": "scattercarpet"
           }
          ],
          "scattergeo": [
           {
            "marker": {
             "colorbar": {
              "outlinewidth": 0,
              "ticks": ""
             }
            },
            "type": "scattergeo"
           }
          ],
          "scattergl": [
           {
            "marker": {
             "colorbar": {
              "outlinewidth": 0,
              "ticks": ""
             }
            },
            "type": "scattergl"
           }
          ],
          "scattermapbox": [
           {
            "marker": {
             "colorbar": {
              "outlinewidth": 0,
              "ticks": ""
             }
            },
            "type": "scattermapbox"
           }
          ],
          "scatterpolar": [
           {
            "marker": {
             "colorbar": {
              "outlinewidth": 0,
              "ticks": ""
             }
            },
            "type": "scatterpolar"
           }
          ],
          "scatterpolargl": [
           {
            "marker": {
             "colorbar": {
              "outlinewidth": 0,
              "ticks": ""
             }
            },
            "type": "scatterpolargl"
           }
          ],
          "scatterternary": [
           {
            "marker": {
             "colorbar": {
              "outlinewidth": 0,
              "ticks": ""
             }
            },
            "type": "scatterternary"
           }
          ],
          "surface": [
           {
            "colorbar": {
             "outlinewidth": 0,
             "ticks": ""
            },
            "colorscale": [
             [
              0,
              "#0d0887"
             ],
             [
              0.1111111111111111,
              "#46039f"
             ],
             [
              0.2222222222222222,
              "#7201a8"
             ],
             [
              0.3333333333333333,
              "#9c179e"
             ],
             [
              0.4444444444444444,
              "#bd3786"
             ],
             [
              0.5555555555555556,
              "#d8576b"
             ],
             [
              0.6666666666666666,
              "#ed7953"
             ],
             [
              0.7777777777777778,
              "#fb9f3a"
             ],
             [
              0.8888888888888888,
              "#fdca26"
             ],
             [
              1,
              "#f0f921"
             ]
            ],
            "type": "surface"
           }
          ],
          "table": [
           {
            "cells": {
             "fill": {
              "color": "#EBF0F8"
             },
             "line": {
              "color": "white"
             }
            },
            "header": {
             "fill": {
              "color": "#C8D4E3"
             },
             "line": {
              "color": "white"
             }
            },
            "type": "table"
           }
          ]
         },
         "layout": {
          "annotationdefaults": {
           "arrowcolor": "#2a3f5f",
           "arrowhead": 0,
           "arrowwidth": 1
          },
          "autotypenumbers": "strict",
          "coloraxis": {
           "colorbar": {
            "outlinewidth": 0,
            "ticks": ""
           }
          },
          "colorscale": {
           "diverging": [
            [
             0,
             "#8e0152"
            ],
            [
             0.1,
             "#c51b7d"
            ],
            [
             0.2,
             "#de77ae"
            ],
            [
             0.3,
             "#f1b6da"
            ],
            [
             0.4,
             "#fde0ef"
            ],
            [
             0.5,
             "#f7f7f7"
            ],
            [
             0.6,
             "#e6f5d0"
            ],
            [
             0.7,
             "#b8e186"
            ],
            [
             0.8,
             "#7fbc41"
            ],
            [
             0.9,
             "#4d9221"
            ],
            [
             1,
             "#276419"
            ]
           ],
           "sequential": [
            [
             0,
             "#0d0887"
            ],
            [
             0.1111111111111111,
             "#46039f"
            ],
            [
             0.2222222222222222,
             "#7201a8"
            ],
            [
             0.3333333333333333,
             "#9c179e"
            ],
            [
             0.4444444444444444,
             "#bd3786"
            ],
            [
             0.5555555555555556,
             "#d8576b"
            ],
            [
             0.6666666666666666,
             "#ed7953"
            ],
            [
             0.7777777777777778,
             "#fb9f3a"
            ],
            [
             0.8888888888888888,
             "#fdca26"
            ],
            [
             1,
             "#f0f921"
            ]
           ],
           "sequentialminus": [
            [
             0,
             "#0d0887"
            ],
            [
             0.1111111111111111,
             "#46039f"
            ],
            [
             0.2222222222222222,
             "#7201a8"
            ],
            [
             0.3333333333333333,
             "#9c179e"
            ],
            [
             0.4444444444444444,
             "#bd3786"
            ],
            [
             0.5555555555555556,
             "#d8576b"
            ],
            [
             0.6666666666666666,
             "#ed7953"
            ],
            [
             0.7777777777777778,
             "#fb9f3a"
            ],
            [
             0.8888888888888888,
             "#fdca26"
            ],
            [
             1,
             "#f0f921"
            ]
           ]
          },
          "colorway": [
           "#636efa",
           "#EF553B",
           "#00cc96",
           "#ab63fa",
           "#FFA15A",
           "#19d3f3",
           "#FF6692",
           "#B6E880",
           "#FF97FF",
           "#FECB52"
          ],
          "font": {
           "color": "#2a3f5f"
          },
          "geo": {
           "bgcolor": "white",
           "lakecolor": "white",
           "landcolor": "#E5ECF6",
           "showlakes": true,
           "showland": true,
           "subunitcolor": "white"
          },
          "hoverlabel": {
           "align": "left"
          },
          "hovermode": "closest",
          "mapbox": {
           "style": "light"
          },
          "paper_bgcolor": "white",
          "plot_bgcolor": "#E5ECF6",
          "polar": {
           "angularaxis": {
            "gridcolor": "white",
            "linecolor": "white",
            "ticks": ""
           },
           "bgcolor": "#E5ECF6",
           "radialaxis": {
            "gridcolor": "white",
            "linecolor": "white",
            "ticks": ""
           }
          },
          "scene": {
           "xaxis": {
            "backgroundcolor": "#E5ECF6",
            "gridcolor": "white",
            "gridwidth": 2,
            "linecolor": "white",
            "showbackground": true,
            "ticks": "",
            "zerolinecolor": "white"
           },
           "yaxis": {
            "backgroundcolor": "#E5ECF6",
            "gridcolor": "white",
            "gridwidth": 2,
            "linecolor": "white",
            "showbackground": true,
            "ticks": "",
            "zerolinecolor": "white"
           },
           "zaxis": {
            "backgroundcolor": "#E5ECF6",
            "gridcolor": "white",
            "gridwidth": 2,
            "linecolor": "white",
            "showbackground": true,
            "ticks": "",
            "zerolinecolor": "white"
           }
          },
          "shapedefaults": {
           "line": {
            "color": "#2a3f5f"
           }
          },
          "ternary": {
           "aaxis": {
            "gridcolor": "white",
            "linecolor": "white",
            "ticks": ""
           },
           "baxis": {
            "gridcolor": "white",
            "linecolor": "white",
            "ticks": ""
           },
           "bgcolor": "#E5ECF6",
           "caxis": {
            "gridcolor": "white",
            "linecolor": "white",
            "ticks": ""
           }
          },
          "title": {
           "x": 0.05
          },
          "xaxis": {
           "automargin": true,
           "gridcolor": "white",
           "linecolor": "white",
           "ticks": "",
           "title": {
            "standoff": 15
           },
           "zerolinecolor": "white",
           "zerolinewidth": 2
          },
          "yaxis": {
           "automargin": true,
           "gridcolor": "white",
           "linecolor": "white",
           "ticks": "",
           "title": {
            "standoff": 15
           },
           "zerolinecolor": "white",
           "zerolinewidth": 2
          }
         }
        },
        "title": {
         "text": "Susceptibility Trends for Haemophilus influenzae (Carbapenems Group)"
        },
        "width": 1000,
        "xaxis": {
         "anchor": "y",
         "domain": [
          0,
          1
         ],
         "dtick": 1,
         "tick0": 2018,
         "tickmode": "linear",
         "title": {
          "text": "Year"
         }
        },
        "yaxis": {
         "anchor": "x",
         "domain": [
          0,
          1
         ],
         "title": {
          "text": "Percentage (%)"
         }
        }
       }
      }
     },
     "metadata": {},
     "output_type": "display_data"
    },
    {
     "name": "stdout",
     "output_type": "stream",
     "text": [
      "Visualizing results for Antibiotic Group: Fluoroquinolones\n"
     ]
    },
    {
     "data": {
      "application/vnd.plotly.v1+json": {
       "config": {
        "plotlyServerURL": "https://plot.ly"
       },
       "data": [
        {
         "hovertemplate": "Antibiotic=Levofloxacin<br>Resistance Category=Susceptible<br>Year=%{x}<br>Percentage (%)=%{y}<extra></extra>",
         "legendgroup": "Levofloxacin, Susceptible",
         "line": {
          "color": "#636efa",
          "dash": "solid"
         },
         "marker": {
          "symbol": "circle"
         },
         "mode": "lines+markers",
         "name": "Levofloxacin, Susceptible",
         "orientation": "v",
         "showlegend": true,
         "type": "scatter",
         "x": [
          2018,
          2019,
          2020,
          2021,
          2022
         ],
         "xaxis": "x",
         "y": [
          97.57,
          94.94,
          94,
          93.38,
          94.24
         ],
         "yaxis": "y"
        },
        {
         "hovertemplate": "Antibiotic=Levofloxacin<br>Resistance Category=Intermediate<br>Year=%{x}<br>Percentage (%)=%{y}<extra></extra>",
         "legendgroup": "Levofloxacin, Intermediate",
         "line": {
          "color": "#636efa",
          "dash": "dot"
         },
         "marker": {
          "symbol": "circle"
         },
         "mode": "lines+markers",
         "name": "Levofloxacin, Intermediate",
         "orientation": "v",
         "showlegend": true,
         "type": "scatter",
         "x": [
          2018,
          2019,
          2020,
          2021,
          2022
         ],
         "xaxis": "x",
         "y": [
          0,
          0,
          0,
          0,
          0
         ],
         "yaxis": "y"
        },
        {
         "hovertemplate": "Antibiotic=Levofloxacin<br>Resistance Category=Resistant<br>Year=%{x}<br>Percentage (%)=%{y}<extra></extra>",
         "legendgroup": "Levofloxacin, Resistant",
         "line": {
          "color": "#636efa",
          "dash": "dash"
         },
         "marker": {
          "symbol": "circle"
         },
         "mode": "lines+markers",
         "name": "Levofloxacin, Resistant",
         "orientation": "v",
         "showlegend": true,
         "type": "scatter",
         "x": [
          2018,
          2019,
          2020,
          2021,
          2022
         ],
         "xaxis": "x",
         "y": [
          2.43,
          5.06,
          6,
          6.62,
          5.76
         ],
         "yaxis": "y"
        }
       ],
       "layout": {
        "height": 600,
        "legend": {
         "title": {
          "text": "Antibiotic / Resistance Category"
         },
         "tracegroupgap": 0
        },
        "template": {
         "data": {
          "bar": [
           {
            "error_x": {
             "color": "#2a3f5f"
            },
            "error_y": {
             "color": "#2a3f5f"
            },
            "marker": {
             "line": {
              "color": "#E5ECF6",
              "width": 0.5
             },
             "pattern": {
              "fillmode": "overlay",
              "size": 10,
              "solidity": 0.2
             }
            },
            "type": "bar"
           }
          ],
          "barpolar": [
           {
            "marker": {
             "line": {
              "color": "#E5ECF6",
              "width": 0.5
             },
             "pattern": {
              "fillmode": "overlay",
              "size": 10,
              "solidity": 0.2
             }
            },
            "type": "barpolar"
           }
          ],
          "carpet": [
           {
            "aaxis": {
             "endlinecolor": "#2a3f5f",
             "gridcolor": "white",
             "linecolor": "white",
             "minorgridcolor": "white",
             "startlinecolor": "#2a3f5f"
            },
            "baxis": {
             "endlinecolor": "#2a3f5f",
             "gridcolor": "white",
             "linecolor": "white",
             "minorgridcolor": "white",
             "startlinecolor": "#2a3f5f"
            },
            "type": "carpet"
           }
          ],
          "choropleth": [
           {
            "colorbar": {
             "outlinewidth": 0,
             "ticks": ""
            },
            "type": "choropleth"
           }
          ],
          "contour": [
           {
            "colorbar": {
             "outlinewidth": 0,
             "ticks": ""
            },
            "colorscale": [
             [
              0,
              "#0d0887"
             ],
             [
              0.1111111111111111,
              "#46039f"
             ],
             [
              0.2222222222222222,
              "#7201a8"
             ],
             [
              0.3333333333333333,
              "#9c179e"
             ],
             [
              0.4444444444444444,
              "#bd3786"
             ],
             [
              0.5555555555555556,
              "#d8576b"
             ],
             [
              0.6666666666666666,
              "#ed7953"
             ],
             [
              0.7777777777777778,
              "#fb9f3a"
             ],
             [
              0.8888888888888888,
              "#fdca26"
             ],
             [
              1,
              "#f0f921"
             ]
            ],
            "type": "contour"
           }
          ],
          "contourcarpet": [
           {
            "colorbar": {
             "outlinewidth": 0,
             "ticks": ""
            },
            "type": "contourcarpet"
           }
          ],
          "heatmap": [
           {
            "colorbar": {
             "outlinewidth": 0,
             "ticks": ""
            },
            "colorscale": [
             [
              0,
              "#0d0887"
             ],
             [
              0.1111111111111111,
              "#46039f"
             ],
             [
              0.2222222222222222,
              "#7201a8"
             ],
             [
              0.3333333333333333,
              "#9c179e"
             ],
             [
              0.4444444444444444,
              "#bd3786"
             ],
             [
              0.5555555555555556,
              "#d8576b"
             ],
             [
              0.6666666666666666,
              "#ed7953"
             ],
             [
              0.7777777777777778,
              "#fb9f3a"
             ],
             [
              0.8888888888888888,
              "#fdca26"
             ],
             [
              1,
              "#f0f921"
             ]
            ],
            "type": "heatmap"
           }
          ],
          "heatmapgl": [
           {
            "colorbar": {
             "outlinewidth": 0,
             "ticks": ""
            },
            "colorscale": [
             [
              0,
              "#0d0887"
             ],
             [
              0.1111111111111111,
              "#46039f"
             ],
             [
              0.2222222222222222,
              "#7201a8"
             ],
             [
              0.3333333333333333,
              "#9c179e"
             ],
             [
              0.4444444444444444,
              "#bd3786"
             ],
             [
              0.5555555555555556,
              "#d8576b"
             ],
             [
              0.6666666666666666,
              "#ed7953"
             ],
             [
              0.7777777777777778,
              "#fb9f3a"
             ],
             [
              0.8888888888888888,
              "#fdca26"
             ],
             [
              1,
              "#f0f921"
             ]
            ],
            "type": "heatmapgl"
           }
          ],
          "histogram": [
           {
            "marker": {
             "pattern": {
              "fillmode": "overlay",
              "size": 10,
              "solidity": 0.2
             }
            },
            "type": "histogram"
           }
          ],
          "histogram2d": [
           {
            "colorbar": {
             "outlinewidth": 0,
             "ticks": ""
            },
            "colorscale": [
             [
              0,
              "#0d0887"
             ],
             [
              0.1111111111111111,
              "#46039f"
             ],
             [
              0.2222222222222222,
              "#7201a8"
             ],
             [
              0.3333333333333333,
              "#9c179e"
             ],
             [
              0.4444444444444444,
              "#bd3786"
             ],
             [
              0.5555555555555556,
              "#d8576b"
             ],
             [
              0.6666666666666666,
              "#ed7953"
             ],
             [
              0.7777777777777778,
              "#fb9f3a"
             ],
             [
              0.8888888888888888,
              "#fdca26"
             ],
             [
              1,
              "#f0f921"
             ]
            ],
            "type": "histogram2d"
           }
          ],
          "histogram2dcontour": [
           {
            "colorbar": {
             "outlinewidth": 0,
             "ticks": ""
            },
            "colorscale": [
             [
              0,
              "#0d0887"
             ],
             [
              0.1111111111111111,
              "#46039f"
             ],
             [
              0.2222222222222222,
              "#7201a8"
             ],
             [
              0.3333333333333333,
              "#9c179e"
             ],
             [
              0.4444444444444444,
              "#bd3786"
             ],
             [
              0.5555555555555556,
              "#d8576b"
             ],
             [
              0.6666666666666666,
              "#ed7953"
             ],
             [
              0.7777777777777778,
              "#fb9f3a"
             ],
             [
              0.8888888888888888,
              "#fdca26"
             ],
             [
              1,
              "#f0f921"
             ]
            ],
            "type": "histogram2dcontour"
           }
          ],
          "mesh3d": [
           {
            "colorbar": {
             "outlinewidth": 0,
             "ticks": ""
            },
            "type": "mesh3d"
           }
          ],
          "parcoords": [
           {
            "line": {
             "colorbar": {
              "outlinewidth": 0,
              "ticks": ""
             }
            },
            "type": "parcoords"
           }
          ],
          "pie": [
           {
            "automargin": true,
            "type": "pie"
           }
          ],
          "scatter": [
           {
            "fillpattern": {
             "fillmode": "overlay",
             "size": 10,
             "solidity": 0.2
            },
            "type": "scatter"
           }
          ],
          "scatter3d": [
           {
            "line": {
             "colorbar": {
              "outlinewidth": 0,
              "ticks": ""
             }
            },
            "marker": {
             "colorbar": {
              "outlinewidth": 0,
              "ticks": ""
             }
            },
            "type": "scatter3d"
           }
          ],
          "scattercarpet": [
           {
            "marker": {
             "colorbar": {
              "outlinewidth": 0,
              "ticks": ""
             }
            },
            "type": "scattercarpet"
           }
          ],
          "scattergeo": [
           {
            "marker": {
             "colorbar": {
              "outlinewidth": 0,
              "ticks": ""
             }
            },
            "type": "scattergeo"
           }
          ],
          "scattergl": [
           {
            "marker": {
             "colorbar": {
              "outlinewidth": 0,
              "ticks": ""
             }
            },
            "type": "scattergl"
           }
          ],
          "scattermapbox": [
           {
            "marker": {
             "colorbar": {
              "outlinewidth": 0,
              "ticks": ""
             }
            },
            "type": "scattermapbox"
           }
          ],
          "scatterpolar": [
           {
            "marker": {
             "colorbar": {
              "outlinewidth": 0,
              "ticks": ""
             }
            },
            "type": "scatterpolar"
           }
          ],
          "scatterpolargl": [
           {
            "marker": {
             "colorbar": {
              "outlinewidth": 0,
              "ticks": ""
             }
            },
            "type": "scatterpolargl"
           }
          ],
          "scatterternary": [
           {
            "marker": {
             "colorbar": {
              "outlinewidth": 0,
              "ticks": ""
             }
            },
            "type": "scatterternary"
           }
          ],
          "surface": [
           {
            "colorbar": {
             "outlinewidth": 0,
             "ticks": ""
            },
            "colorscale": [
             [
              0,
              "#0d0887"
             ],
             [
              0.1111111111111111,
              "#46039f"
             ],
             [
              0.2222222222222222,
              "#7201a8"
             ],
             [
              0.3333333333333333,
              "#9c179e"
             ],
             [
              0.4444444444444444,
              "#bd3786"
             ],
             [
              0.5555555555555556,
              "#d8576b"
             ],
             [
              0.6666666666666666,
              "#ed7953"
             ],
             [
              0.7777777777777778,
              "#fb9f3a"
             ],
             [
              0.8888888888888888,
              "#fdca26"
             ],
             [
              1,
              "#f0f921"
             ]
            ],
            "type": "surface"
           }
          ],
          "table": [
           {
            "cells": {
             "fill": {
              "color": "#EBF0F8"
             },
             "line": {
              "color": "white"
             }
            },
            "header": {
             "fill": {
              "color": "#C8D4E3"
             },
             "line": {
              "color": "white"
             }
            },
            "type": "table"
           }
          ]
         },
         "layout": {
          "annotationdefaults": {
           "arrowcolor": "#2a3f5f",
           "arrowhead": 0,
           "arrowwidth": 1
          },
          "autotypenumbers": "strict",
          "coloraxis": {
           "colorbar": {
            "outlinewidth": 0,
            "ticks": ""
           }
          },
          "colorscale": {
           "diverging": [
            [
             0,
             "#8e0152"
            ],
            [
             0.1,
             "#c51b7d"
            ],
            [
             0.2,
             "#de77ae"
            ],
            [
             0.3,
             "#f1b6da"
            ],
            [
             0.4,
             "#fde0ef"
            ],
            [
             0.5,
             "#f7f7f7"
            ],
            [
             0.6,
             "#e6f5d0"
            ],
            [
             0.7,
             "#b8e186"
            ],
            [
             0.8,
             "#7fbc41"
            ],
            [
             0.9,
             "#4d9221"
            ],
            [
             1,
             "#276419"
            ]
           ],
           "sequential": [
            [
             0,
             "#0d0887"
            ],
            [
             0.1111111111111111,
             "#46039f"
            ],
            [
             0.2222222222222222,
             "#7201a8"
            ],
            [
             0.3333333333333333,
             "#9c179e"
            ],
            [
             0.4444444444444444,
             "#bd3786"
            ],
            [
             0.5555555555555556,
             "#d8576b"
            ],
            [
             0.6666666666666666,
             "#ed7953"
            ],
            [
             0.7777777777777778,
             "#fb9f3a"
            ],
            [
             0.8888888888888888,
             "#fdca26"
            ],
            [
             1,
             "#f0f921"
            ]
           ],
           "sequentialminus": [
            [
             0,
             "#0d0887"
            ],
            [
             0.1111111111111111,
             "#46039f"
            ],
            [
             0.2222222222222222,
             "#7201a8"
            ],
            [
             0.3333333333333333,
             "#9c179e"
            ],
            [
             0.4444444444444444,
             "#bd3786"
            ],
            [
             0.5555555555555556,
             "#d8576b"
            ],
            [
             0.6666666666666666,
             "#ed7953"
            ],
            [
             0.7777777777777778,
             "#fb9f3a"
            ],
            [
             0.8888888888888888,
             "#fdca26"
            ],
            [
             1,
             "#f0f921"
            ]
           ]
          },
          "colorway": [
           "#636efa",
           "#EF553B",
           "#00cc96",
           "#ab63fa",
           "#FFA15A",
           "#19d3f3",
           "#FF6692",
           "#B6E880",
           "#FF97FF",
           "#FECB52"
          ],
          "font": {
           "color": "#2a3f5f"
          },
          "geo": {
           "bgcolor": "white",
           "lakecolor": "white",
           "landcolor": "#E5ECF6",
           "showlakes": true,
           "showland": true,
           "subunitcolor": "white"
          },
          "hoverlabel": {
           "align": "left"
          },
          "hovermode": "closest",
          "mapbox": {
           "style": "light"
          },
          "paper_bgcolor": "white",
          "plot_bgcolor": "#E5ECF6",
          "polar": {
           "angularaxis": {
            "gridcolor": "white",
            "linecolor": "white",
            "ticks": ""
           },
           "bgcolor": "#E5ECF6",
           "radialaxis": {
            "gridcolor": "white",
            "linecolor": "white",
            "ticks": ""
           }
          },
          "scene": {
           "xaxis": {
            "backgroundcolor": "#E5ECF6",
            "gridcolor": "white",
            "gridwidth": 2,
            "linecolor": "white",
            "showbackground": true,
            "ticks": "",
            "zerolinecolor": "white"
           },
           "yaxis": {
            "backgroundcolor": "#E5ECF6",
            "gridcolor": "white",
            "gridwidth": 2,
            "linecolor": "white",
            "showbackground": true,
            "ticks": "",
            "zerolinecolor": "white"
           },
           "zaxis": {
            "backgroundcolor": "#E5ECF6",
            "gridcolor": "white",
            "gridwidth": 2,
            "linecolor": "white",
            "showbackground": true,
            "ticks": "",
            "zerolinecolor": "white"
           }
          },
          "shapedefaults": {
           "line": {
            "color": "#2a3f5f"
           }
          },
          "ternary": {
           "aaxis": {
            "gridcolor": "white",
            "linecolor": "white",
            "ticks": ""
           },
           "baxis": {
            "gridcolor": "white",
            "linecolor": "white",
            "ticks": ""
           },
           "bgcolor": "#E5ECF6",
           "caxis": {
            "gridcolor": "white",
            "linecolor": "white",
            "ticks": ""
           }
          },
          "title": {
           "x": 0.05
          },
          "xaxis": {
           "automargin": true,
           "gridcolor": "white",
           "linecolor": "white",
           "ticks": "",
           "title": {
            "standoff": 15
           },
           "zerolinecolor": "white",
           "zerolinewidth": 2
          },
          "yaxis": {
           "automargin": true,
           "gridcolor": "white",
           "linecolor": "white",
           "ticks": "",
           "title": {
            "standoff": 15
           },
           "zerolinecolor": "white",
           "zerolinewidth": 2
          }
         }
        },
        "title": {
         "text": "Susceptibility Trends for Haemophilus influenzae (Fluoroquinolones Group)"
        },
        "width": 1000,
        "xaxis": {
         "anchor": "y",
         "domain": [
          0,
          1
         ],
         "dtick": 1,
         "tick0": 2018,
         "tickmode": "linear",
         "title": {
          "text": "Year"
         }
        },
        "yaxis": {
         "anchor": "x",
         "domain": [
          0,
          1
         ],
         "title": {
          "text": "Percentage (%)"
         }
        }
       }
      }
     },
     "metadata": {},
     "output_type": "display_data"
    },
    {
     "name": "stdout",
     "output_type": "stream",
     "text": [
      "Visualizing results for Antibiotic Group: Aminoglycosides\n",
      "Visualizing results for Antibiotic Group: Glycopeptides\n",
      "Visualizing results for Antibiotic Group: Macrolides\n",
      "Visualizing results for Antibiotic Group: Tetracyclines\n",
      "Visualizing results for Antibiotic Group: Oxazolidinones\n",
      "Visualizing results for Antibiotic Group: Antifolates\n"
     ]
    },
    {
     "data": {
      "application/vnd.plotly.v1+json": {
       "config": {
        "plotlyServerURL": "https://plot.ly"
       },
       "data": [
        {
         "hovertemplate": "Antibiotic=Trimethoprim-sulfamethoxazole<br>Resistance Category=Susceptible<br>Year=%{x}<br>Percentage (%)=%{y}<extra></extra>",
         "legendgroup": "Trimethoprim-sulfamethoxazole, Susceptible",
         "line": {
          "color": "#636efa",
          "dash": "solid"
         },
         "marker": {
          "symbol": "circle"
         },
         "mode": "lines+markers",
         "name": "Trimethoprim-sulfamethoxazole, Susceptible",
         "orientation": "v",
         "showlegend": true,
         "type": "scatter",
         "x": [
          2018,
          2019,
          2020,
          2021,
          2022
         ],
         "xaxis": "x",
         "y": [
          58.37,
          61.18,
          67.39,
          69.02,
          66.37
         ],
         "yaxis": "y"
        },
        {
         "hovertemplate": "Antibiotic=Trimethoprim-sulfamethoxazole<br>Resistance Category=Intermediate<br>Year=%{x}<br>Percentage (%)=%{y}<extra></extra>",
         "legendgroup": "Trimethoprim-sulfamethoxazole, Intermediate",
         "line": {
          "color": "#636efa",
          "dash": "dot"
         },
         "marker": {
          "symbol": "circle"
         },
         "mode": "lines+markers",
         "name": "Trimethoprim-sulfamethoxazole, Intermediate",
         "orientation": "v",
         "showlegend": true,
         "type": "scatter",
         "x": [
          2018,
          2019,
          2020,
          2021,
          2022
         ],
         "xaxis": "x",
         "y": [
          1.71,
          1.64,
          0,
          0,
          0.45
         ],
         "yaxis": "y"
        },
        {
         "hovertemplate": "Antibiotic=Trimethoprim-sulfamethoxazole<br>Resistance Category=Resistant<br>Year=%{x}<br>Percentage (%)=%{y}<extra></extra>",
         "legendgroup": "Trimethoprim-sulfamethoxazole, Resistant",
         "line": {
          "color": "#636efa",
          "dash": "dash"
         },
         "marker": {
          "symbol": "circle"
         },
         "mode": "lines+markers",
         "name": "Trimethoprim-sulfamethoxazole, Resistant",
         "orientation": "v",
         "showlegend": true,
         "type": "scatter",
         "x": [
          2018,
          2019,
          2020,
          2021,
          2022
         ],
         "xaxis": "x",
         "y": [
          39.92,
          37.17,
          32.61,
          30.98,
          33.18
         ],
         "yaxis": "y"
        }
       ],
       "layout": {
        "height": 600,
        "legend": {
         "title": {
          "text": "Antibiotic / Resistance Category"
         },
         "tracegroupgap": 0
        },
        "template": {
         "data": {
          "bar": [
           {
            "error_x": {
             "color": "#2a3f5f"
            },
            "error_y": {
             "color": "#2a3f5f"
            },
            "marker": {
             "line": {
              "color": "#E5ECF6",
              "width": 0.5
             },
             "pattern": {
              "fillmode": "overlay",
              "size": 10,
              "solidity": 0.2
             }
            },
            "type": "bar"
           }
          ],
          "barpolar": [
           {
            "marker": {
             "line": {
              "color": "#E5ECF6",
              "width": 0.5
             },
             "pattern": {
              "fillmode": "overlay",
              "size": 10,
              "solidity": 0.2
             }
            },
            "type": "barpolar"
           }
          ],
          "carpet": [
           {
            "aaxis": {
             "endlinecolor": "#2a3f5f",
             "gridcolor": "white",
             "linecolor": "white",
             "minorgridcolor": "white",
             "startlinecolor": "#2a3f5f"
            },
            "baxis": {
             "endlinecolor": "#2a3f5f",
             "gridcolor": "white",
             "linecolor": "white",
             "minorgridcolor": "white",
             "startlinecolor": "#2a3f5f"
            },
            "type": "carpet"
           }
          ],
          "choropleth": [
           {
            "colorbar": {
             "outlinewidth": 0,
             "ticks": ""
            },
            "type": "choropleth"
           }
          ],
          "contour": [
           {
            "colorbar": {
             "outlinewidth": 0,
             "ticks": ""
            },
            "colorscale": [
             [
              0,
              "#0d0887"
             ],
             [
              0.1111111111111111,
              "#46039f"
             ],
             [
              0.2222222222222222,
              "#7201a8"
             ],
             [
              0.3333333333333333,
              "#9c179e"
             ],
             [
              0.4444444444444444,
              "#bd3786"
             ],
             [
              0.5555555555555556,
              "#d8576b"
             ],
             [
              0.6666666666666666,
              "#ed7953"
             ],
             [
              0.7777777777777778,
              "#fb9f3a"
             ],
             [
              0.8888888888888888,
              "#fdca26"
             ],
             [
              1,
              "#f0f921"
             ]
            ],
            "type": "contour"
           }
          ],
          "contourcarpet": [
           {
            "colorbar": {
             "outlinewidth": 0,
             "ticks": ""
            },
            "type": "contourcarpet"
           }
          ],
          "heatmap": [
           {
            "colorbar": {
             "outlinewidth": 0,
             "ticks": ""
            },
            "colorscale": [
             [
              0,
              "#0d0887"
             ],
             [
              0.1111111111111111,
              "#46039f"
             ],
             [
              0.2222222222222222,
              "#7201a8"
             ],
             [
              0.3333333333333333,
              "#9c179e"
             ],
             [
              0.4444444444444444,
              "#bd3786"
             ],
             [
              0.5555555555555556,
              "#d8576b"
             ],
             [
              0.6666666666666666,
              "#ed7953"
             ],
             [
              0.7777777777777778,
              "#fb9f3a"
             ],
             [
              0.8888888888888888,
              "#fdca26"
             ],
             [
              1,
              "#f0f921"
             ]
            ],
            "type": "heatmap"
           }
          ],
          "heatmapgl": [
           {
            "colorbar": {
             "outlinewidth": 0,
             "ticks": ""
            },
            "colorscale": [
             [
              0,
              "#0d0887"
             ],
             [
              0.1111111111111111,
              "#46039f"
             ],
             [
              0.2222222222222222,
              "#7201a8"
             ],
             [
              0.3333333333333333,
              "#9c179e"
             ],
             [
              0.4444444444444444,
              "#bd3786"
             ],
             [
              0.5555555555555556,
              "#d8576b"
             ],
             [
              0.6666666666666666,
              "#ed7953"
             ],
             [
              0.7777777777777778,
              "#fb9f3a"
             ],
             [
              0.8888888888888888,
              "#fdca26"
             ],
             [
              1,
              "#f0f921"
             ]
            ],
            "type": "heatmapgl"
           }
          ],
          "histogram": [
           {
            "marker": {
             "pattern": {
              "fillmode": "overlay",
              "size": 10,
              "solidity": 0.2
             }
            },
            "type": "histogram"
           }
          ],
          "histogram2d": [
           {
            "colorbar": {
             "outlinewidth": 0,
             "ticks": ""
            },
            "colorscale": [
             [
              0,
              "#0d0887"
             ],
             [
              0.1111111111111111,
              "#46039f"
             ],
             [
              0.2222222222222222,
              "#7201a8"
             ],
             [
              0.3333333333333333,
              "#9c179e"
             ],
             [
              0.4444444444444444,
              "#bd3786"
             ],
             [
              0.5555555555555556,
              "#d8576b"
             ],
             [
              0.6666666666666666,
              "#ed7953"
             ],
             [
              0.7777777777777778,
              "#fb9f3a"
             ],
             [
              0.8888888888888888,
              "#fdca26"
             ],
             [
              1,
              "#f0f921"
             ]
            ],
            "type": "histogram2d"
           }
          ],
          "histogram2dcontour": [
           {
            "colorbar": {
             "outlinewidth": 0,
             "ticks": ""
            },
            "colorscale": [
             [
              0,
              "#0d0887"
             ],
             [
              0.1111111111111111,
              "#46039f"
             ],
             [
              0.2222222222222222,
              "#7201a8"
             ],
             [
              0.3333333333333333,
              "#9c179e"
             ],
             [
              0.4444444444444444,
              "#bd3786"
             ],
             [
              0.5555555555555556,
              "#d8576b"
             ],
             [
              0.6666666666666666,
              "#ed7953"
             ],
             [
              0.7777777777777778,
              "#fb9f3a"
             ],
             [
              0.8888888888888888,
              "#fdca26"
             ],
             [
              1,
              "#f0f921"
             ]
            ],
            "type": "histogram2dcontour"
           }
          ],
          "mesh3d": [
           {
            "colorbar": {
             "outlinewidth": 0,
             "ticks": ""
            },
            "type": "mesh3d"
           }
          ],
          "parcoords": [
           {
            "line": {
             "colorbar": {
              "outlinewidth": 0,
              "ticks": ""
             }
            },
            "type": "parcoords"
           }
          ],
          "pie": [
           {
            "automargin": true,
            "type": "pie"
           }
          ],
          "scatter": [
           {
            "fillpattern": {
             "fillmode": "overlay",
             "size": 10,
             "solidity": 0.2
            },
            "type": "scatter"
           }
          ],
          "scatter3d": [
           {
            "line": {
             "colorbar": {
              "outlinewidth": 0,
              "ticks": ""
             }
            },
            "marker": {
             "colorbar": {
              "outlinewidth": 0,
              "ticks": ""
             }
            },
            "type": "scatter3d"
           }
          ],
          "scattercarpet": [
           {
            "marker": {
             "colorbar": {
              "outlinewidth": 0,
              "ticks": ""
             }
            },
            "type": "scattercarpet"
           }
          ],
          "scattergeo": [
           {
            "marker": {
             "colorbar": {
              "outlinewidth": 0,
              "ticks": ""
             }
            },
            "type": "scattergeo"
           }
          ],
          "scattergl": [
           {
            "marker": {
             "colorbar": {
              "outlinewidth": 0,
              "ticks": ""
             }
            },
            "type": "scattergl"
           }
          ],
          "scattermapbox": [
           {
            "marker": {
             "colorbar": {
              "outlinewidth": 0,
              "ticks": ""
             }
            },
            "type": "scattermapbox"
           }
          ],
          "scatterpolar": [
           {
            "marker": {
             "colorbar": {
              "outlinewidth": 0,
              "ticks": ""
             }
            },
            "type": "scatterpolar"
           }
          ],
          "scatterpolargl": [
           {
            "marker": {
             "colorbar": {
              "outlinewidth": 0,
              "ticks": ""
             }
            },
            "type": "scatterpolargl"
           }
          ],
          "scatterternary": [
           {
            "marker": {
             "colorbar": {
              "outlinewidth": 0,
              "ticks": ""
             }
            },
            "type": "scatterternary"
           }
          ],
          "surface": [
           {
            "colorbar": {
             "outlinewidth": 0,
             "ticks": ""
            },
            "colorscale": [
             [
              0,
              "#0d0887"
             ],
             [
              0.1111111111111111,
              "#46039f"
             ],
             [
              0.2222222222222222,
              "#7201a8"
             ],
             [
              0.3333333333333333,
              "#9c179e"
             ],
             [
              0.4444444444444444,
              "#bd3786"
             ],
             [
              0.5555555555555556,
              "#d8576b"
             ],
             [
              0.6666666666666666,
              "#ed7953"
             ],
             [
              0.7777777777777778,
              "#fb9f3a"
             ],
             [
              0.8888888888888888,
              "#fdca26"
             ],
             [
              1,
              "#f0f921"
             ]
            ],
            "type": "surface"
           }
          ],
          "table": [
           {
            "cells": {
             "fill": {
              "color": "#EBF0F8"
             },
             "line": {
              "color": "white"
             }
            },
            "header": {
             "fill": {
              "color": "#C8D4E3"
             },
             "line": {
              "color": "white"
             }
            },
            "type": "table"
           }
          ]
         },
         "layout": {
          "annotationdefaults": {
           "arrowcolor": "#2a3f5f",
           "arrowhead": 0,
           "arrowwidth": 1
          },
          "autotypenumbers": "strict",
          "coloraxis": {
           "colorbar": {
            "outlinewidth": 0,
            "ticks": ""
           }
          },
          "colorscale": {
           "diverging": [
            [
             0,
             "#8e0152"
            ],
            [
             0.1,
             "#c51b7d"
            ],
            [
             0.2,
             "#de77ae"
            ],
            [
             0.3,
             "#f1b6da"
            ],
            [
             0.4,
             "#fde0ef"
            ],
            [
             0.5,
             "#f7f7f7"
            ],
            [
             0.6,
             "#e6f5d0"
            ],
            [
             0.7,
             "#b8e186"
            ],
            [
             0.8,
             "#7fbc41"
            ],
            [
             0.9,
             "#4d9221"
            ],
            [
             1,
             "#276419"
            ]
           ],
           "sequential": [
            [
             0,
             "#0d0887"
            ],
            [
             0.1111111111111111,
             "#46039f"
            ],
            [
             0.2222222222222222,
             "#7201a8"
            ],
            [
             0.3333333333333333,
             "#9c179e"
            ],
            [
             0.4444444444444444,
             "#bd3786"
            ],
            [
             0.5555555555555556,
             "#d8576b"
            ],
            [
             0.6666666666666666,
             "#ed7953"
            ],
            [
             0.7777777777777778,
             "#fb9f3a"
            ],
            [
             0.8888888888888888,
             "#fdca26"
            ],
            [
             1,
             "#f0f921"
            ]
           ],
           "sequentialminus": [
            [
             0,
             "#0d0887"
            ],
            [
             0.1111111111111111,
             "#46039f"
            ],
            [
             0.2222222222222222,
             "#7201a8"
            ],
            [
             0.3333333333333333,
             "#9c179e"
            ],
            [
             0.4444444444444444,
             "#bd3786"
            ],
            [
             0.5555555555555556,
             "#d8576b"
            ],
            [
             0.6666666666666666,
             "#ed7953"
            ],
            [
             0.7777777777777778,
             "#fb9f3a"
            ],
            [
             0.8888888888888888,
             "#fdca26"
            ],
            [
             1,
             "#f0f921"
            ]
           ]
          },
          "colorway": [
           "#636efa",
           "#EF553B",
           "#00cc96",
           "#ab63fa",
           "#FFA15A",
           "#19d3f3",
           "#FF6692",
           "#B6E880",
           "#FF97FF",
           "#FECB52"
          ],
          "font": {
           "color": "#2a3f5f"
          },
          "geo": {
           "bgcolor": "white",
           "lakecolor": "white",
           "landcolor": "#E5ECF6",
           "showlakes": true,
           "showland": true,
           "subunitcolor": "white"
          },
          "hoverlabel": {
           "align": "left"
          },
          "hovermode": "closest",
          "mapbox": {
           "style": "light"
          },
          "paper_bgcolor": "white",
          "plot_bgcolor": "#E5ECF6",
          "polar": {
           "angularaxis": {
            "gridcolor": "white",
            "linecolor": "white",
            "ticks": ""
           },
           "bgcolor": "#E5ECF6",
           "radialaxis": {
            "gridcolor": "white",
            "linecolor": "white",
            "ticks": ""
           }
          },
          "scene": {
           "xaxis": {
            "backgroundcolor": "#E5ECF6",
            "gridcolor": "white",
            "gridwidth": 2,
            "linecolor": "white",
            "showbackground": true,
            "ticks": "",
            "zerolinecolor": "white"
           },
           "yaxis": {
            "backgroundcolor": "#E5ECF6",
            "gridcolor": "white",
            "gridwidth": 2,
            "linecolor": "white",
            "showbackground": true,
            "ticks": "",
            "zerolinecolor": "white"
           },
           "zaxis": {
            "backgroundcolor": "#E5ECF6",
            "gridcolor": "white",
            "gridwidth": 2,
            "linecolor": "white",
            "showbackground": true,
            "ticks": "",
            "zerolinecolor": "white"
           }
          },
          "shapedefaults": {
           "line": {
            "color": "#2a3f5f"
           }
          },
          "ternary": {
           "aaxis": {
            "gridcolor": "white",
            "linecolor": "white",
            "ticks": ""
           },
           "baxis": {
            "gridcolor": "white",
            "linecolor": "white",
            "ticks": ""
           },
           "bgcolor": "#E5ECF6",
           "caxis": {
            "gridcolor": "white",
            "linecolor": "white",
            "ticks": ""
           }
          },
          "title": {
           "x": 0.05
          },
          "xaxis": {
           "automargin": true,
           "gridcolor": "white",
           "linecolor": "white",
           "ticks": "",
           "title": {
            "standoff": 15
           },
           "zerolinecolor": "white",
           "zerolinewidth": 2
          },
          "yaxis": {
           "automargin": true,
           "gridcolor": "white",
           "linecolor": "white",
           "ticks": "",
           "title": {
            "standoff": 15
           },
           "zerolinecolor": "white",
           "zerolinewidth": 2
          }
         }
        },
        "title": {
         "text": "Susceptibility Trends for Haemophilus influenzae (Antifolates Group)"
        },
        "width": 1000,
        "xaxis": {
         "anchor": "y",
         "domain": [
          0,
          1
         ],
         "dtick": 1,
         "tick0": 2018,
         "tickmode": "linear",
         "title": {
          "text": "Year"
         }
        },
        "yaxis": {
         "anchor": "x",
         "domain": [
          0,
          1
         ],
         "title": {
          "text": "Percentage (%)"
         }
        }
       }
      }
     },
     "metadata": {},
     "output_type": "display_data"
    }
   ],
   "source": [
    "# Dictionary grouping antibiotics by their pharmacological classes\n",
    "antibiotic_groups = {\n",
    "    'Penicillins': ['Amoxicillin-clavulanate_I', 'Ampicillin_I', 'Piperacillin tazobactam_I'],\n",
    "    'Cephalosporins': ['Ceftriaxone_I', 'Ceftazidime_I', 'Cefepime_I'],\n",
    "    'Carbapenems': ['Imipenem_I', 'Meropenem_I'],\n",
    "    'Fluoroquinolones': ['Ciprofloxacin_I', 'Levofloxacin_I'],\n",
    "    'Aminoglycosides': ['Amikacin_I', 'Gentamicin_I'],\n",
    "    'Glycopeptides': ['Vancomycin_I'],\n",
    "    'Macrolides': ['Azithromycin_I', 'Clarithromycin_I'],\n",
    "    'Tetracyclines': ['Tigecycline_I'],\n",
    "    'Oxazolidinones': ['Linezolid_I'],\n",
    "    'Antifolates': ['Trimethoprim-sulfamethoxazole_I']\n",
    "}\n",
    "\n",
    "# Loop through each species - specifically for 'Haemophilus influenzae'\n",
    "for species, antibiotics_data in pasteurellaceae_results.items():\n",
    "    if species == 'Haemophilus influenzae':\n",
    "        print(f\"Visualizing results for Species: {species}\")\n",
    "\n",
    "        # Loop through each antibiotic group\n",
    "        for group, antibiotics in antibiotic_groups.items():\n",
    "            print(f\"Visualizing results for Antibiotic Group: {group}\")\n",
    "\n",
    "            # Prepare a combined dataframe for the current group\n",
    "            combined_df_list = []\n",
    "\n",
    "            for antibiotic in antibiotics:\n",
    "                if antibiotic in antibiotics_data:\n",
    "                    # Add the 'Antibiotic' column to identify each antibiotic in the group\n",
    "                    df = antibiotics_data[antibiotic].copy()\n",
    "                    df['Antibiotic'] = antibiotic.replace('_I', '')  # Removing the \"_I\" suffix for readability\n",
    "                    combined_df_list.append(df)\n",
    "\n",
    "            # If there is data for this group, combine and plot\n",
    "            if combined_df_list:\n",
    "                combined_df = pd.concat(combined_df_list)\n",
    "\n",
    "                # Plotting trends for each antibiotic in the group\n",
    "                fig = px.line(\n",
    "                    combined_df,\n",
    "                    x='Year',\n",
    "                    y=['Susceptible', 'Intermediate', 'Resistant'],\n",
    "                    color='Antibiotic',  # Different colors for each antibiotic\n",
    "                    line_dash='variable',  # Different dash patterns for susceptible, intermediate, and resistant\n",
    "                    title=f\"Susceptibility Trends for {species} ({group} Group)\",\n",
    "                    labels={'value': 'Percentage (%)', 'variable': 'Resistance Category'},\n",
    "                    markers=True\n",
    "                )\n",
    "\n",
    "                # Customize the layout\n",
    "                fig.update_layout(\n",
    "                    xaxis_title=\"Year\",\n",
    "                    yaxis_title=\"Percentage (%)\",\n",
    "                    legend_title=\"Antibiotic / Resistance Category\",\n",
    "                    template=\"plotly\",\n",
    "                    width=1000,  # Adjust the width\n",
    "                    height=600,  # Adjust the height\n",
    "                    xaxis=dict(tickmode='linear', tick0=2018, dtick=1)  # Ensure integer ticks for years\n",
    "                )\n",
    "\n",
    "                # Show the plot\n",
    "                fig.show()\n"
   ]
  },
  {
   "cell_type": "code",
   "execution_count": 14,
   "metadata": {},
   "outputs": [
    {
     "name": "stdout",
     "output_type": "stream",
     "text": [
      "Species and Antibiotics showing increasing resistance trends with Overall Resistance Rate Increase:\n",
      "               Species Antibiotic                        Years         Resistant Rates  Overall Resistance Rate Increase\n",
      "Haemophilus influenzae  Meropenem 2018, 2019, 2020, 2021, 2022 0.0, 0.0, 0.0, 0.0, 0.0                               0.0\n"
     ]
    }
   ],
   "source": [
    "def check_increasing_trend(resistant_rates): \n",
    "    \"\"\"\n",
    "    This function checks if the resistance trend is increasing year over year.\n",
    "    Returns True if resistance is increasing, False otherwise.\n",
    "    \"\"\"\n",
    "    # Compare each element with the next one to ensure it's increasing\n",
    "    for i in range(len(resistant_rates) - 1):\n",
    "        if resistant_rates[i] > resistant_rates[i + 1]:\n",
    "            return False  # If any rate decreases, return False\n",
    "    return True  # Return True if all rates are increasing\n",
    "\n",
    "def calculate_absolute_change(start_value, end_value):\n",
    "    \"\"\"\n",
    "    This function calculates the absolute change between two values.\n",
    "    \"\"\"\n",
    "    return end_value - start_value\n",
    "\n",
    "# List to store results of increasing resistance trends\n",
    "increasing_resistance_results = []\n",
    "\n",
    "# Loop through each species in the results, specifically focusing on Haemophilus influenzae\n",
    "for species, antibiotics_data in pasteurellaceae_results.items():\n",
    "    if species == 'Haemophilus influenzae':\n",
    "        # Loop through each antibiotic in the results\n",
    "        for antibiotic, df in antibiotics_data.items():\n",
    "            # Extract the resistant rates over the years\n",
    "            resistant_rates = df['Resistant'].values\n",
    "            years = df['Year'].values\n",
    "            \n",
    "            # Check if the resistance trend is increasing\n",
    "            if check_increasing_trend(resistant_rates):\n",
    "                # Calculate absolute changes between consecutive years\n",
    "                absolute_changes = []\n",
    "                for i in range(1, len(resistant_rates)):\n",
    "                    start_value = resistant_rates[i - 1]\n",
    "                    end_value = resistant_rates[i]\n",
    "                    absolute_change = calculate_absolute_change(start_value, end_value)\n",
    "                    absolute_changes.append(absolute_change)\n",
    "                \n",
    "                # Calculate the mean of the absolute changes\n",
    "                if absolute_changes:\n",
    "                    mean_absolute_change = sum(absolute_changes) / len(absolute_changes)\n",
    "                else:\n",
    "                    mean_absolute_change = 0.0\n",
    "                \n",
    "                # Store the information in the results\n",
    "                increasing_resistance_results.append({\n",
    "                    'Species': species,\n",
    "                    'Antibiotic': antibiotic.replace('_I', ''),  # Remove \"_I\" for readability\n",
    "                    'Years': ', '.join(map(str, years)),  # Concatenate years for display\n",
    "                    'Resistant Rates': ', '.join(map(str, resistant_rates)),  # Concatenate rates for display\n",
    "                    'Overall Resistance Rate Increase': round(mean_absolute_change, 2)  # Round to 2 decimal places\n",
    "                })\n",
    "\n",
    "# Convert the results into a DataFrame for easy display\n",
    "increasing_resistance_df = pd.DataFrame(increasing_resistance_results)\n",
    "\n",
    "# Display the results\n",
    "if not increasing_resistance_df.empty:\n",
    "    print(\"Species and Antibiotics showing increasing resistance trends with Overall Resistance Rate Increase:\")\n",
    "    print(increasing_resistance_df.to_string(index=False))  # Display DataFrame without the index\n",
    "else:\n",
    "    print(\"No increasing resistance trends identified.\")\n"
   ]
  }
 ],
 "metadata": {
  "kernelspec": {
   "display_name": "base",
   "language": "python",
   "name": "python3"
  },
  "language_info": {
   "codemirror_mode": {
    "name": "ipython",
    "version": 3
   },
   "file_extension": ".py",
   "mimetype": "text/x-python",
   "name": "python",
   "nbconvert_exporter": "python",
   "pygments_lexer": "ipython3",
   "version": "3.11.7"
  }
 },
 "nbformat": 4,
 "nbformat_minor": 2
}
